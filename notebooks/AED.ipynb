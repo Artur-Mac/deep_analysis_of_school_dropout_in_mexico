{
 "cells": [
  {
   "cell_type": "code",
   "execution_count": 10,
   "metadata": {},
   "outputs": [],
   "source": [
    "import pandas as pd"
   ]
  },
  {
   "cell_type": "code",
   "execution_count": 11,
   "metadata": {},
   "outputs": [],
   "source": [
    "df = pd.read_csv(\"../data/processed/df_res.csv\")\n",
    "df_complete = pd.read_csv(\"../data/processed/df_cleaned.csv\")"
   ]
  },
  {
   "cell_type": "code",
   "execution_count": 12,
   "metadata": {},
   "outputs": [],
   "source": [
    "variable_types = {\n",
    "    'outAnal':[\n",
    "        'FACTOR_y',\n",
    "        \n",
    "        ],\n",
    "\n",
    "    'numeric_continuous': [\n",
    "        'EDAD',\n",
    "        't_horas',\n",
    "        'q_hombres',\n",
    "        'q_mujeres',\n",
    "        \n",
    "        'i_confidence_edu',\n",
    "        'i_t_tec',\n",
    "        'i_mental_h',\n",
    "        'i_tec',\n",
    "        'i_m_trad',\n",
    "        'i_m_tech',\n",
    "    ],\n",
    "\n",
    "    'binary': [\n",
    "        'InternetF',\n",
    "        'inscrito',\n",
    "        'inscrito_actual',\n",
    "        'ev_trad',\n",
    "        'ev_outro',\n",
    "        'entr_cuidado',\n",
    "        'apoio',\n",
    "        'ev_digital',\n",
    "        'med_virtual',\n",
    "        'med_presencial',\n",
    "        'asesorias',\n",
    "        'extraord',\n",
    "        'recursado',\n",
    "        'terminado'\n",
    "    ],\n",
    "\n",
    "    'categorical_encoded': [\n",
    "        'SEXO',\n",
    "        'nivel_edu',\n",
    "        'max_nivel_esp',\n",
    "        'nt_causa',\n",
    "        'nins_causa',\n",
    "    ]\n",
    "}\n"
   ]
  },
  {
   "cell_type": "code",
   "execution_count": 13,
   "metadata": {},
   "outputs": [
    {
     "name": "stdout",
     "output_type": "stream",
     "text": [
      "<class 'pandas.core.frame.DataFrame'>\n",
      "RangeIndex: 15841 entries, 0 to 15840\n",
      "Data columns (total 30 columns):\n",
      " #   Column            Non-Null Count  Dtype  \n",
      "---  ------            --------------  -----  \n",
      " 0   SEXO              15841 non-null  float64\n",
      " 1   EDAD              15841 non-null  int64  \n",
      " 2   inscrito          15841 non-null  float64\n",
      " 3   nivel_edu         15841 non-null  float64\n",
      " 4   terminado         14818 non-null  float64\n",
      " 5   nt_causa          15841 non-null  float64\n",
      " 6   asesorias         13461 non-null  float64\n",
      " 7   extraord          6391 non-null   float64\n",
      " 8   recursado         6392 non-null   float64\n",
      " 9   ev_digital        14593 non-null  float64\n",
      " 10  inscrito_actual   15841 non-null  float64\n",
      " 11  nins_causa        15841 non-null  float64\n",
      " 12  med_presencial    14239 non-null  float64\n",
      " 13  t_horas           15834 non-null  float64\n",
      " 14  max_nivel_esp     15841 non-null  float64\n",
      " 15  q_hombres         15841 non-null  int64  \n",
      " 16  q_mujeres         15841 non-null  int64  \n",
      " 17  InternetF         15841 non-null  float64\n",
      " 18  FACTOR_y          15840 non-null  float64\n",
      " 19  i_confidence_edu  15841 non-null  float64\n",
      " 20  i_t_tec           15841 non-null  float64\n",
      " 21  i_mental_h        15841 non-null  float64\n",
      " 22  i_tec             15841 non-null  float64\n",
      " 23  i_m_trad          15841 non-null  float64\n",
      " 24  i_m_tech          15841 non-null  float64\n",
      " 25  ev_trad           15841 non-null  int64  \n",
      " 26  ev_outro          15841 non-null  int64  \n",
      " 27  entr_cuidado      15841 non-null  int64  \n",
      " 28  apoio             15841 non-null  int64  \n",
      " 29  med_virtual       15841 non-null  int64  \n",
      "dtypes: float64(22), int64(8)\n",
      "memory usage: 3.6 MB\n"
     ]
    }
   ],
   "source": [
    "df.info()"
   ]
  },
  {
   "cell_type": "code",
   "execution_count": 14,
   "metadata": {},
   "outputs": [
    {
     "data": {
      "application/vnd.plotly.v1+json": {
       "config": {
        "plotlyServerURL": "https://plot.ly"
       },
       "data": [
        {
         "coloraxis": "coloraxis",
         "hovertemplate": "x: %{x}<br>y: %{y}<br>color: %{z}<extra></extra>",
         "name": "0",
         "texttemplate": "%{z:.4f}",
         "type": "heatmap",
         "x": [
          "InternetF",
          "inscrito",
          "inscrito_actual",
          "ev_trad",
          "ev_outro",
          "entr_cuidado",
          "apoio",
          "ev_digital",
          "med_virtual",
          "med_presencial",
          "asesorias",
          "extraord",
          "recursado",
          "terminado",
          "EDAD",
          "t_horas",
          "q_hombres",
          "q_mujeres",
          "i_confidence_edu",
          "i_t_tec",
          "i_mental_h",
          "i_tec",
          "i_m_trad",
          "i_m_tech"
         ],
         "xaxis": "x",
         "y": [
          "InternetF",
          "inscrito",
          "inscrito_actual",
          "ev_trad",
          "ev_outro",
          "entr_cuidado",
          "apoio",
          "ev_digital",
          "med_virtual",
          "med_presencial",
          "asesorias",
          "extraord",
          "recursado",
          "terminado",
          "EDAD",
          "t_horas",
          "q_hombres",
          "q_mujeres",
          "i_confidence_edu",
          "i_t_tec",
          "i_mental_h",
          "i_tec",
          "i_m_trad",
          "i_m_tech"
         ],
         "yaxis": "y",
         "z": {
          "bdata": "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",
          "dtype": "f8",
          "shape": "24, 24"
         }
        }
       ],
       "layout": {
        "coloraxis": {
         "colorscale": [
          [
           0,
           "rgb(103,0,31)"
          ],
          [
           0.1,
           "rgb(178,24,43)"
          ],
          [
           0.2,
           "rgb(214,96,77)"
          ],
          [
           0.3,
           "rgb(244,165,130)"
          ],
          [
           0.4,
           "rgb(253,219,199)"
          ],
          [
           0.5,
           "rgb(247,247,247)"
          ],
          [
           0.6,
           "rgb(209,229,240)"
          ],
          [
           0.7,
           "rgb(146,197,222)"
          ],
          [
           0.8,
           "rgb(67,147,195)"
          ],
          [
           0.9,
           "rgb(33,102,172)"
          ],
          [
           1,
           "rgb(5,48,97)"
          ]
         ]
        },
        "height": 1000,
        "margin": {
         "b": 100,
         "l": 100,
         "r": 100,
         "t": 100
        },
        "template": {
         "data": {
          "bar": [
           {
            "error_x": {
             "color": "#2a3f5f"
            },
            "error_y": {
             "color": "#2a3f5f"
            },
            "marker": {
             "line": {
              "color": "#E5ECF6",
              "width": 0.5
             },
             "pattern": {
              "fillmode": "overlay",
              "size": 10,
              "solidity": 0.2
             }
            },
            "type": "bar"
           }
          ],
          "barpolar": [
           {
            "marker": {
             "line": {
              "color": "#E5ECF6",
              "width": 0.5
             },
             "pattern": {
              "fillmode": "overlay",
              "size": 10,
              "solidity": 0.2
             }
            },
            "type": "barpolar"
           }
          ],
          "carpet": [
           {
            "aaxis": {
             "endlinecolor": "#2a3f5f",
             "gridcolor": "white",
             "linecolor": "white",
             "minorgridcolor": "white",
             "startlinecolor": "#2a3f5f"
            },
            "baxis": {
             "endlinecolor": "#2a3f5f",
             "gridcolor": "white",
             "linecolor": "white",
             "minorgridcolor": "white",
             "startlinecolor": "#2a3f5f"
            },
            "type": "carpet"
           }
          ],
          "choropleth": [
           {
            "colorbar": {
             "outlinewidth": 0,
             "ticks": ""
            },
            "type": "choropleth"
           }
          ],
          "contour": [
           {
            "colorbar": {
             "outlinewidth": 0,
             "ticks": ""
            },
            "colorscale": [
             [
              0,
              "#0d0887"
             ],
             [
              0.1111111111111111,
              "#46039f"
             ],
             [
              0.2222222222222222,
              "#7201a8"
             ],
             [
              0.3333333333333333,
              "#9c179e"
             ],
             [
              0.4444444444444444,
              "#bd3786"
             ],
             [
              0.5555555555555556,
              "#d8576b"
             ],
             [
              0.6666666666666666,
              "#ed7953"
             ],
             [
              0.7777777777777778,
              "#fb9f3a"
             ],
             [
              0.8888888888888888,
              "#fdca26"
             ],
             [
              1,
              "#f0f921"
             ]
            ],
            "type": "contour"
           }
          ],
          "contourcarpet": [
           {
            "colorbar": {
             "outlinewidth": 0,
             "ticks": ""
            },
            "type": "contourcarpet"
           }
          ],
          "heatmap": [
           {
            "colorbar": {
             "outlinewidth": 0,
             "ticks": ""
            },
            "colorscale": [
             [
              0,
              "#0d0887"
             ],
             [
              0.1111111111111111,
              "#46039f"
             ],
             [
              0.2222222222222222,
              "#7201a8"
             ],
             [
              0.3333333333333333,
              "#9c179e"
             ],
             [
              0.4444444444444444,
              "#bd3786"
             ],
             [
              0.5555555555555556,
              "#d8576b"
             ],
             [
              0.6666666666666666,
              "#ed7953"
             ],
             [
              0.7777777777777778,
              "#fb9f3a"
             ],
             [
              0.8888888888888888,
              "#fdca26"
             ],
             [
              1,
              "#f0f921"
             ]
            ],
            "type": "heatmap"
           }
          ],
          "histogram": [
           {
            "marker": {
             "pattern": {
              "fillmode": "overlay",
              "size": 10,
              "solidity": 0.2
             }
            },
            "type": "histogram"
           }
          ],
          "histogram2d": [
           {
            "colorbar": {
             "outlinewidth": 0,
             "ticks": ""
            },
            "colorscale": [
             [
              0,
              "#0d0887"
             ],
             [
              0.1111111111111111,
              "#46039f"
             ],
             [
              0.2222222222222222,
              "#7201a8"
             ],
             [
              0.3333333333333333,
              "#9c179e"
             ],
             [
              0.4444444444444444,
              "#bd3786"
             ],
             [
              0.5555555555555556,
              "#d8576b"
             ],
             [
              0.6666666666666666,
              "#ed7953"
             ],
             [
              0.7777777777777778,
              "#fb9f3a"
             ],
             [
              0.8888888888888888,
              "#fdca26"
             ],
             [
              1,
              "#f0f921"
             ]
            ],
            "type": "histogram2d"
           }
          ],
          "histogram2dcontour": [
           {
            "colorbar": {
             "outlinewidth": 0,
             "ticks": ""
            },
            "colorscale": [
             [
              0,
              "#0d0887"
             ],
             [
              0.1111111111111111,
              "#46039f"
             ],
             [
              0.2222222222222222,
              "#7201a8"
             ],
             [
              0.3333333333333333,
              "#9c179e"
             ],
             [
              0.4444444444444444,
              "#bd3786"
             ],
             [
              0.5555555555555556,
              "#d8576b"
             ],
             [
              0.6666666666666666,
              "#ed7953"
             ],
             [
              0.7777777777777778,
              "#fb9f3a"
             ],
             [
              0.8888888888888888,
              "#fdca26"
             ],
             [
              1,
              "#f0f921"
             ]
            ],
            "type": "histogram2dcontour"
           }
          ],
          "mesh3d": [
           {
            "colorbar": {
             "outlinewidth": 0,
             "ticks": ""
            },
            "type": "mesh3d"
           }
          ],
          "parcoords": [
           {
            "line": {
             "colorbar": {
              "outlinewidth": 0,
              "ticks": ""
             }
            },
            "type": "parcoords"
           }
          ],
          "pie": [
           {
            "automargin": true,
            "type": "pie"
           }
          ],
          "scatter": [
           {
            "fillpattern": {
             "fillmode": "overlay",
             "size": 10,
             "solidity": 0.2
            },
            "type": "scatter"
           }
          ],
          "scatter3d": [
           {
            "line": {
             "colorbar": {
              "outlinewidth": 0,
              "ticks": ""
             }
            },
            "marker": {
             "colorbar": {
              "outlinewidth": 0,
              "ticks": ""
             }
            },
            "type": "scatter3d"
           }
          ],
          "scattercarpet": [
           {
            "marker": {
             "colorbar": {
              "outlinewidth": 0,
              "ticks": ""
             }
            },
            "type": "scattercarpet"
           }
          ],
          "scattergeo": [
           {
            "marker": {
             "colorbar": {
              "outlinewidth": 0,
              "ticks": ""
             }
            },
            "type": "scattergeo"
           }
          ],
          "scattergl": [
           {
            "marker": {
             "colorbar": {
              "outlinewidth": 0,
              "ticks": ""
             }
            },
            "type": "scattergl"
           }
          ],
          "scattermap": [
           {
            "marker": {
             "colorbar": {
              "outlinewidth": 0,
              "ticks": ""
             }
            },
            "type": "scattermap"
           }
          ],
          "scattermapbox": [
           {
            "marker": {
             "colorbar": {
              "outlinewidth": 0,
              "ticks": ""
             }
            },
            "type": "scattermapbox"
           }
          ],
          "scatterpolar": [
           {
            "marker": {
             "colorbar": {
              "outlinewidth": 0,
              "ticks": ""
             }
            },
            "type": "scatterpolar"
           }
          ],
          "scatterpolargl": [
           {
            "marker": {
             "colorbar": {
              "outlinewidth": 0,
              "ticks": ""
             }
            },
            "type": "scatterpolargl"
           }
          ],
          "scatterternary": [
           {
            "marker": {
             "colorbar": {
              "outlinewidth": 0,
              "ticks": ""
             }
            },
            "type": "scatterternary"
           }
          ],
          "surface": [
           {
            "colorbar": {
             "outlinewidth": 0,
             "ticks": ""
            },
            "colorscale": [
             [
              0,
              "#0d0887"
             ],
             [
              0.1111111111111111,
              "#46039f"
             ],
             [
              0.2222222222222222,
              "#7201a8"
             ],
             [
              0.3333333333333333,
              "#9c179e"
             ],
             [
              0.4444444444444444,
              "#bd3786"
             ],
             [
              0.5555555555555556,
              "#d8576b"
             ],
             [
              0.6666666666666666,
              "#ed7953"
             ],
             [
              0.7777777777777778,
              "#fb9f3a"
             ],
             [
              0.8888888888888888,
              "#fdca26"
             ],
             [
              1,
              "#f0f921"
             ]
            ],
            "type": "surface"
           }
          ],
          "table": [
           {
            "cells": {
             "fill": {
              "color": "#EBF0F8"
             },
             "line": {
              "color": "white"
             }
            },
            "header": {
             "fill": {
              "color": "#C8D4E3"
             },
             "line": {
              "color": "white"
             }
            },
            "type": "table"
           }
          ]
         },
         "layout": {
          "annotationdefaults": {
           "arrowcolor": "#2a3f5f",
           "arrowhead": 0,
           "arrowwidth": 1
          },
          "autotypenumbers": "strict",
          "coloraxis": {
           "colorbar": {
            "outlinewidth": 0,
            "ticks": ""
           }
          },
          "colorscale": {
           "diverging": [
            [
             0,
             "#8e0152"
            ],
            [
             0.1,
             "#c51b7d"
            ],
            [
             0.2,
             "#de77ae"
            ],
            [
             0.3,
             "#f1b6da"
            ],
            [
             0.4,
             "#fde0ef"
            ],
            [
             0.5,
             "#f7f7f7"
            ],
            [
             0.6,
             "#e6f5d0"
            ],
            [
             0.7,
             "#b8e186"
            ],
            [
             0.8,
             "#7fbc41"
            ],
            [
             0.9,
             "#4d9221"
            ],
            [
             1,
             "#276419"
            ]
           ],
           "sequential": [
            [
             0,
             "#0d0887"
            ],
            [
             0.1111111111111111,
             "#46039f"
            ],
            [
             0.2222222222222222,
             "#7201a8"
            ],
            [
             0.3333333333333333,
             "#9c179e"
            ],
            [
             0.4444444444444444,
             "#bd3786"
            ],
            [
             0.5555555555555556,
             "#d8576b"
            ],
            [
             0.6666666666666666,
             "#ed7953"
            ],
            [
             0.7777777777777778,
             "#fb9f3a"
            ],
            [
             0.8888888888888888,
             "#fdca26"
            ],
            [
             1,
             "#f0f921"
            ]
           ],
           "sequentialminus": [
            [
             0,
             "#0d0887"
            ],
            [
             0.1111111111111111,
             "#46039f"
            ],
            [
             0.2222222222222222,
             "#7201a8"
            ],
            [
             0.3333333333333333,
             "#9c179e"
            ],
            [
             0.4444444444444444,
             "#bd3786"
            ],
            [
             0.5555555555555556,
             "#d8576b"
            ],
            [
             0.6666666666666666,
             "#ed7953"
            ],
            [
             0.7777777777777778,
             "#fb9f3a"
            ],
            [
             0.8888888888888888,
             "#fdca26"
            ],
            [
             1,
             "#f0f921"
            ]
           ]
          },
          "colorway": [
           "#636efa",
           "#EF553B",
           "#00cc96",
           "#ab63fa",
           "#FFA15A",
           "#19d3f3",
           "#FF6692",
           "#B6E880",
           "#FF97FF",
           "#FECB52"
          ],
          "font": {
           "color": "#2a3f5f"
          },
          "geo": {
           "bgcolor": "white",
           "lakecolor": "white",
           "landcolor": "#E5ECF6",
           "showlakes": true,
           "showland": true,
           "subunitcolor": "white"
          },
          "hoverlabel": {
           "align": "left"
          },
          "hovermode": "closest",
          "mapbox": {
           "style": "light"
          },
          "paper_bgcolor": "white",
          "plot_bgcolor": "#E5ECF6",
          "polar": {
           "angularaxis": {
            "gridcolor": "white",
            "linecolor": "white",
            "ticks": ""
           },
           "bgcolor": "#E5ECF6",
           "radialaxis": {
            "gridcolor": "white",
            "linecolor": "white",
            "ticks": ""
           }
          },
          "scene": {
           "xaxis": {
            "backgroundcolor": "#E5ECF6",
            "gridcolor": "white",
            "gridwidth": 2,
            "linecolor": "white",
            "showbackground": true,
            "ticks": "",
            "zerolinecolor": "white"
           },
           "yaxis": {
            "backgroundcolor": "#E5ECF6",
            "gridcolor": "white",
            "gridwidth": 2,
            "linecolor": "white",
            "showbackground": true,
            "ticks": "",
            "zerolinecolor": "white"
           },
           "zaxis": {
            "backgroundcolor": "#E5ECF6",
            "gridcolor": "white",
            "gridwidth": 2,
            "linecolor": "white",
            "showbackground": true,
            "ticks": "",
            "zerolinecolor": "white"
           }
          },
          "shapedefaults": {
           "line": {
            "color": "#2a3f5f"
           }
          },
          "ternary": {
           "aaxis": {
            "gridcolor": "white",
            "linecolor": "white",
            "ticks": ""
           },
           "baxis": {
            "gridcolor": "white",
            "linecolor": "white",
            "ticks": ""
           },
           "bgcolor": "#E5ECF6",
           "caxis": {
            "gridcolor": "white",
            "linecolor": "white",
            "ticks": ""
           }
          },
          "title": {
           "x": 0.05
          },
          "xaxis": {
           "automargin": true,
           "gridcolor": "white",
           "linecolor": "white",
           "ticks": "",
           "title": {
            "standoff": 15
           },
           "zerolinecolor": "white",
           "zerolinewidth": 2
          },
          "yaxis": {
           "automargin": true,
           "gridcolor": "white",
           "linecolor": "white",
           "ticks": "",
           "title": {
            "standoff": 15
           },
           "zerolinecolor": "white",
           "zerolinewidth": 2
          }
         }
        },
        "title": {
         "text": "Matriz de Correlação"
        },
        "width": 1200,
        "xaxis": {
         "anchor": "y",
         "domain": [
          0,
          1
         ]
        },
        "yaxis": {
         "anchor": "x",
         "autorange": "reversed",
         "domain": [
          0,
          1
         ]
        }
       }
      }
     },
     "metadata": {},
     "output_type": "display_data"
    }
   ],
   "source": [
    "import plotly.express as px\n",
    "\n",
    "geralcorr = variable_types['binary'] + variable_types['numeric_continuous']\n",
    "\n",
    "\n",
    "corr = df[geralcorr].corr()\n",
    "\n",
    "\n",
    "fig = px.imshow(\n",
    "    corr,\n",
    "    text_auto='.4f',          \n",
    "    aspect='auto',            \n",
    "    title='Matriz de Correlação',\n",
    "    color_continuous_scale='RdBu'\n",
    ")\n",
    "\n",
    "fig.update_layout(\n",
    "    width=1200,\n",
    "    height=1000,\n",
    "    margin=dict(l=100, r=100, t=100, b=100),\n",
    ")\n",
    "\n",
    "fig.show()\n"
   ]
  },
  {
   "cell_type": "code",
   "execution_count": 15,
   "metadata": {},
   "outputs": [
    {
     "data": {
      "application/vnd.plotly.v1+json": {
       "config": {
        "plotlyServerURL": "https://plot.ly"
       },
       "data": [
        {
         "coloraxis": "coloraxis",
         "hovertemplate": "x: %{x}<br>y: %{y}<br>color: %{z}<extra></extra>",
         "name": "0",
         "texttemplate": "%{z:.4f}",
         "type": "heatmap",
         "x": [
          "InternetF",
          "inscrito",
          "inscrito_actual",
          "ev_trad",
          "ev_outro",
          "entr_cuidado",
          "apoio",
          "ev_digital",
          "med_virtual",
          "med_presencial",
          "asesorias",
          "extraord",
          "recursado",
          "terminado",
          "EDAD",
          "t_horas",
          "q_hombres",
          "q_mujeres",
          "i_confidence_edu",
          "i_t_tec",
          "i_mental_h",
          "i_tec",
          "i_m_trad",
          "i_m_tech"
         ],
         "xaxis": "x",
         "y": [
          "InternetF",
          "inscrito",
          "inscrito_actual",
          "ev_trad",
          "ev_outro",
          "entr_cuidado",
          "apoio",
          "ev_digital",
          "med_virtual",
          "med_presencial",
          "asesorias",
          "extraord",
          "recursado",
          "terminado",
          "EDAD",
          "t_horas",
          "q_hombres",
          "q_mujeres",
          "i_confidence_edu",
          "i_t_tec",
          "i_mental_h",
          "i_tec",
          "i_m_trad",
          "i_m_tech"
         ],
         "yaxis": "y",
         "z": {
          "bdata": "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",
          "dtype": "f8",
          "shape": "24, 24"
         }
        }
       ],
       "layout": {
        "coloraxis": {
         "colorscale": [
          [
           0,
           "rgb(5,48,97)"
          ],
          [
           0.1,
           "rgb(33,102,172)"
          ],
          [
           0.2,
           "rgb(67,147,195)"
          ],
          [
           0.3,
           "rgb(146,197,222)"
          ],
          [
           0.4,
           "rgb(209,229,240)"
          ],
          [
           0.5,
           "rgb(247,247,247)"
          ],
          [
           0.6,
           "rgb(253,219,199)"
          ],
          [
           0.7,
           "rgb(244,165,130)"
          ],
          [
           0.8,
           "rgb(214,96,77)"
          ],
          [
           0.9,
           "rgb(178,24,43)"
          ],
          [
           1,
           "rgb(103,0,31)"
          ]
         ]
        },
        "height": 1100,
        "margin": {
         "b": 100,
         "l": 100,
         "r": 100,
         "t": 100
        },
        "template": {
         "data": {
          "bar": [
           {
            "error_x": {
             "color": "#2a3f5f"
            },
            "error_y": {
             "color": "#2a3f5f"
            },
            "marker": {
             "line": {
              "color": "#E5ECF6",
              "width": 0.5
             },
             "pattern": {
              "fillmode": "overlay",
              "size": 10,
              "solidity": 0.2
             }
            },
            "type": "bar"
           }
          ],
          "barpolar": [
           {
            "marker": {
             "line": {
              "color": "#E5ECF6",
              "width": 0.5
             },
             "pattern": {
              "fillmode": "overlay",
              "size": 10,
              "solidity": 0.2
             }
            },
            "type": "barpolar"
           }
          ],
          "carpet": [
           {
            "aaxis": {
             "endlinecolor": "#2a3f5f",
             "gridcolor": "white",
             "linecolor": "white",
             "minorgridcolor": "white",
             "startlinecolor": "#2a3f5f"
            },
            "baxis": {
             "endlinecolor": "#2a3f5f",
             "gridcolor": "white",
             "linecolor": "white",
             "minorgridcolor": "white",
             "startlinecolor": "#2a3f5f"
            },
            "type": "carpet"
           }
          ],
          "choropleth": [
           {
            "colorbar": {
             "outlinewidth": 0,
             "ticks": ""
            },
            "type": "choropleth"
           }
          ],
          "contour": [
           {
            "colorbar": {
             "outlinewidth": 0,
             "ticks": ""
            },
            "colorscale": [
             [
              0,
              "#0d0887"
             ],
             [
              0.1111111111111111,
              "#46039f"
             ],
             [
              0.2222222222222222,
              "#7201a8"
             ],
             [
              0.3333333333333333,
              "#9c179e"
             ],
             [
              0.4444444444444444,
              "#bd3786"
             ],
             [
              0.5555555555555556,
              "#d8576b"
             ],
             [
              0.6666666666666666,
              "#ed7953"
             ],
             [
              0.7777777777777778,
              "#fb9f3a"
             ],
             [
              0.8888888888888888,
              "#fdca26"
             ],
             [
              1,
              "#f0f921"
             ]
            ],
            "type": "contour"
           }
          ],
          "contourcarpet": [
           {
            "colorbar": {
             "outlinewidth": 0,
             "ticks": ""
            },
            "type": "contourcarpet"
           }
          ],
          "heatmap": [
           {
            "colorbar": {
             "outlinewidth": 0,
             "ticks": ""
            },
            "colorscale": [
             [
              0,
              "#0d0887"
             ],
             [
              0.1111111111111111,
              "#46039f"
             ],
             [
              0.2222222222222222,
              "#7201a8"
             ],
             [
              0.3333333333333333,
              "#9c179e"
             ],
             [
              0.4444444444444444,
              "#bd3786"
             ],
             [
              0.5555555555555556,
              "#d8576b"
             ],
             [
              0.6666666666666666,
              "#ed7953"
             ],
             [
              0.7777777777777778,
              "#fb9f3a"
             ],
             [
              0.8888888888888888,
              "#fdca26"
             ],
             [
              1,
              "#f0f921"
             ]
            ],
            "type": "heatmap"
           }
          ],
          "histogram": [
           {
            "marker": {
             "pattern": {
              "fillmode": "overlay",
              "size": 10,
              "solidity": 0.2
             }
            },
            "type": "histogram"
           }
          ],
          "histogram2d": [
           {
            "colorbar": {
             "outlinewidth": 0,
             "ticks": ""
            },
            "colorscale": [
             [
              0,
              "#0d0887"
             ],
             [
              0.1111111111111111,
              "#46039f"
             ],
             [
              0.2222222222222222,
              "#7201a8"
             ],
             [
              0.3333333333333333,
              "#9c179e"
             ],
             [
              0.4444444444444444,
              "#bd3786"
             ],
             [
              0.5555555555555556,
              "#d8576b"
             ],
             [
              0.6666666666666666,
              "#ed7953"
             ],
             [
              0.7777777777777778,
              "#fb9f3a"
             ],
             [
              0.8888888888888888,
              "#fdca26"
             ],
             [
              1,
              "#f0f921"
             ]
            ],
            "type": "histogram2d"
           }
          ],
          "histogram2dcontour": [
           {
            "colorbar": {
             "outlinewidth": 0,
             "ticks": ""
            },
            "colorscale": [
             [
              0,
              "#0d0887"
             ],
             [
              0.1111111111111111,
              "#46039f"
             ],
             [
              0.2222222222222222,
              "#7201a8"
             ],
             [
              0.3333333333333333,
              "#9c179e"
             ],
             [
              0.4444444444444444,
              "#bd3786"
             ],
             [
              0.5555555555555556,
              "#d8576b"
             ],
             [
              0.6666666666666666,
              "#ed7953"
             ],
             [
              0.7777777777777778,
              "#fb9f3a"
             ],
             [
              0.8888888888888888,
              "#fdca26"
             ],
             [
              1,
              "#f0f921"
             ]
            ],
            "type": "histogram2dcontour"
           }
          ],
          "mesh3d": [
           {
            "colorbar": {
             "outlinewidth": 0,
             "ticks": ""
            },
            "type": "mesh3d"
           }
          ],
          "parcoords": [
           {
            "line": {
             "colorbar": {
              "outlinewidth": 0,
              "ticks": ""
             }
            },
            "type": "parcoords"
           }
          ],
          "pie": [
           {
            "automargin": true,
            "type": "pie"
           }
          ],
          "scatter": [
           {
            "fillpattern": {
             "fillmode": "overlay",
             "size": 10,
             "solidity": 0.2
            },
            "type": "scatter"
           }
          ],
          "scatter3d": [
           {
            "line": {
             "colorbar": {
              "outlinewidth": 0,
              "ticks": ""
             }
            },
            "marker": {
             "colorbar": {
              "outlinewidth": 0,
              "ticks": ""
             }
            },
            "type": "scatter3d"
           }
          ],
          "scattercarpet": [
           {
            "marker": {
             "colorbar": {
              "outlinewidth": 0,
              "ticks": ""
             }
            },
            "type": "scattercarpet"
           }
          ],
          "scattergeo": [
           {
            "marker": {
             "colorbar": {
              "outlinewidth": 0,
              "ticks": ""
             }
            },
            "type": "scattergeo"
           }
          ],
          "scattergl": [
           {
            "marker": {
             "colorbar": {
              "outlinewidth": 0,
              "ticks": ""
             }
            },
            "type": "scattergl"
           }
          ],
          "scattermap": [
           {
            "marker": {
             "colorbar": {
              "outlinewidth": 0,
              "ticks": ""
             }
            },
            "type": "scattermap"
           }
          ],
          "scattermapbox": [
           {
            "marker": {
             "colorbar": {
              "outlinewidth": 0,
              "ticks": ""
             }
            },
            "type": "scattermapbox"
           }
          ],
          "scatterpolar": [
           {
            "marker": {
             "colorbar": {
              "outlinewidth": 0,
              "ticks": ""
             }
            },
            "type": "scatterpolar"
           }
          ],
          "scatterpolargl": [
           {
            "marker": {
             "colorbar": {
              "outlinewidth": 0,
              "ticks": ""
             }
            },
            "type": "scatterpolargl"
           }
          ],
          "scatterternary": [
           {
            "marker": {
             "colorbar": {
              "outlinewidth": 0,
              "ticks": ""
             }
            },
            "type": "scatterternary"
           }
          ],
          "surface": [
           {
            "colorbar": {
             "outlinewidth": 0,
             "ticks": ""
            },
            "colorscale": [
             [
              0,
              "#0d0887"
             ],
             [
              0.1111111111111111,
              "#46039f"
             ],
             [
              0.2222222222222222,
              "#7201a8"
             ],
             [
              0.3333333333333333,
              "#9c179e"
             ],
             [
              0.4444444444444444,
              "#bd3786"
             ],
             [
              0.5555555555555556,
              "#d8576b"
             ],
             [
              0.6666666666666666,
              "#ed7953"
             ],
             [
              0.7777777777777778,
              "#fb9f3a"
             ],
             [
              0.8888888888888888,
              "#fdca26"
             ],
             [
              1,
              "#f0f921"
             ]
            ],
            "type": "surface"
           }
          ],
          "table": [
           {
            "cells": {
             "fill": {
              "color": "#EBF0F8"
             },
             "line": {
              "color": "white"
             }
            },
            "header": {
             "fill": {
              "color": "#C8D4E3"
             },
             "line": {
              "color": "white"
             }
            },
            "type": "table"
           }
          ]
         },
         "layout": {
          "annotationdefaults": {
           "arrowcolor": "#2a3f5f",
           "arrowhead": 0,
           "arrowwidth": 1
          },
          "autotypenumbers": "strict",
          "coloraxis": {
           "colorbar": {
            "outlinewidth": 0,
            "ticks": ""
           }
          },
          "colorscale": {
           "diverging": [
            [
             0,
             "#8e0152"
            ],
            [
             0.1,
             "#c51b7d"
            ],
            [
             0.2,
             "#de77ae"
            ],
            [
             0.3,
             "#f1b6da"
            ],
            [
             0.4,
             "#fde0ef"
            ],
            [
             0.5,
             "#f7f7f7"
            ],
            [
             0.6,
             "#e6f5d0"
            ],
            [
             0.7,
             "#b8e186"
            ],
            [
             0.8,
             "#7fbc41"
            ],
            [
             0.9,
             "#4d9221"
            ],
            [
             1,
             "#276419"
            ]
           ],
           "sequential": [
            [
             0,
             "#0d0887"
            ],
            [
             0.1111111111111111,
             "#46039f"
            ],
            [
             0.2222222222222222,
             "#7201a8"
            ],
            [
             0.3333333333333333,
             "#9c179e"
            ],
            [
             0.4444444444444444,
             "#bd3786"
            ],
            [
             0.5555555555555556,
             "#d8576b"
            ],
            [
             0.6666666666666666,
             "#ed7953"
            ],
            [
             0.7777777777777778,
             "#fb9f3a"
            ],
            [
             0.8888888888888888,
             "#fdca26"
            ],
            [
             1,
             "#f0f921"
            ]
           ],
           "sequentialminus": [
            [
             0,
             "#0d0887"
            ],
            [
             0.1111111111111111,
             "#46039f"
            ],
            [
             0.2222222222222222,
             "#7201a8"
            ],
            [
             0.3333333333333333,
             "#9c179e"
            ],
            [
             0.4444444444444444,
             "#bd3786"
            ],
            [
             0.5555555555555556,
             "#d8576b"
            ],
            [
             0.6666666666666666,
             "#ed7953"
            ],
            [
             0.7777777777777778,
             "#fb9f3a"
            ],
            [
             0.8888888888888888,
             "#fdca26"
            ],
            [
             1,
             "#f0f921"
            ]
           ]
          },
          "colorway": [
           "#636efa",
           "#EF553B",
           "#00cc96",
           "#ab63fa",
           "#FFA15A",
           "#19d3f3",
           "#FF6692",
           "#B6E880",
           "#FF97FF",
           "#FECB52"
          ],
          "font": {
           "color": "#2a3f5f"
          },
          "geo": {
           "bgcolor": "white",
           "lakecolor": "white",
           "landcolor": "#E5ECF6",
           "showlakes": true,
           "showland": true,
           "subunitcolor": "white"
          },
          "hoverlabel": {
           "align": "left"
          },
          "hovermode": "closest",
          "mapbox": {
           "style": "light"
          },
          "paper_bgcolor": "white",
          "plot_bgcolor": "#E5ECF6",
          "polar": {
           "angularaxis": {
            "gridcolor": "white",
            "linecolor": "white",
            "ticks": ""
           },
           "bgcolor": "#E5ECF6",
           "radialaxis": {
            "gridcolor": "white",
            "linecolor": "white",
            "ticks": ""
           }
          },
          "scene": {
           "xaxis": {
            "backgroundcolor": "#E5ECF6",
            "gridcolor": "white",
            "gridwidth": 2,
            "linecolor": "white",
            "showbackground": true,
            "ticks": "",
            "zerolinecolor": "white"
           },
           "yaxis": {
            "backgroundcolor": "#E5ECF6",
            "gridcolor": "white",
            "gridwidth": 2,
            "linecolor": "white",
            "showbackground": true,
            "ticks": "",
            "zerolinecolor": "white"
           },
           "zaxis": {
            "backgroundcolor": "#E5ECF6",
            "gridcolor": "white",
            "gridwidth": 2,
            "linecolor": "white",
            "showbackground": true,
            "ticks": "",
            "zerolinecolor": "white"
           }
          },
          "shapedefaults": {
           "line": {
            "color": "#2a3f5f"
           }
          },
          "ternary": {
           "aaxis": {
            "gridcolor": "white",
            "linecolor": "white",
            "ticks": ""
           },
           "baxis": {
            "gridcolor": "white",
            "linecolor": "white",
            "ticks": ""
           },
           "bgcolor": "#E5ECF6",
           "caxis": {
            "gridcolor": "white",
            "linecolor": "white",
            "ticks": ""
           }
          },
          "title": {
           "x": 0.05
          },
          "xaxis": {
           "automargin": true,
           "gridcolor": "white",
           "linecolor": "white",
           "ticks": "",
           "title": {
            "standoff": 15
           },
           "zerolinecolor": "white",
           "zerolinewidth": 2
          },
          "yaxis": {
           "automargin": true,
           "gridcolor": "white",
           "linecolor": "white",
           "ticks": "",
           "title": {
            "standoff": 15
           },
           "zerolinecolor": "white",
           "zerolinewidth": 2
          }
         }
        },
        "width": 1300,
        "xaxis": {
         "anchor": "y",
         "constrain": "domain",
         "domain": [
          0,
          1
         ],
         "scaleanchor": "y"
        },
        "yaxis": {
         "anchor": "x",
         "autorange": "reversed",
         "constrain": "domain",
         "domain": [
          0,
          1
         ]
        }
       }
      }
     },
     "metadata": {},
     "output_type": "display_data"
    }
   ],
   "source": [
    "import numpy as np\n",
    "import pingouin as pg\n",
    "\n",
    "pvals = corr.corr(method = lambda x, y: pg.corr(x, y)[\"p-val\"].iloc[0])\n",
    "np.fill_diagonal(pvals.values, np.nan)\n",
    "\n",
    "fig = px.imshow(\n",
    "    pvals,\n",
    "    text_auto='.4f',\n",
    "    color_continuous_scale='RdBu_r'\n",
    "    )\n",
    "\n",
    "fig.update_layout(\n",
    "    width=1300,\n",
    "    height=1100,\n",
    "    margin=dict(l=100, r=100, t=100, b=100),\n",
    "\n",
    ")\n",
    "\n",
    "fig"
   ]
  },
  {
   "cell_type": "code",
   "execution_count": 16,
   "metadata": {},
   "outputs": [
    {
     "name": "stdout",
     "output_type": "stream",
     "text": [
      "inscrito_actual  inscrito\n",
      "1.0              1.0         14031\n",
      "0.0              0.0           804\n",
      "                 1.0           787\n",
      "1.0              0.0           219\n",
      "Name: count, dtype: int64\n",
      "0.5992155307334157\n"
     ]
    }
   ],
   "source": [
    "d = df[['inscrito_actual', 'inscrito']].value_counts()\n",
    "print(d)\n",
    "\n",
    "print(df['inscrito'].corr(df[\"inscrito_actual\"]))"
   ]
  },
  {
   "cell_type": "code",
   "execution_count": 17,
   "metadata": {},
   "outputs": [
    {
     "name": "stdout",
     "output_type": "stream",
     "text": [
      "   inscrito_actual  terminado  qtd_ponderada  relative_ponderada\n",
      "0              0.0        0.0       222707.0            0.806650\n",
      "1              0.0        1.0      1307181.0            4.734638\n",
      "2              1.0        0.0       134307.0            0.486463\n",
      "3              1.0        1.0     23496988.0           85.106608\n"
     ]
    }
   ],
   "source": [
    "weighted_group = df.groupby([\"inscrito_actual\", \"terminado\"])[\"FACTOR_y\"].sum().reset_index(name=\"qtd_ponderada\")\n",
    "\n",
    "tot_ponderado = df[\"FACTOR_y\"].sum()\n",
    "\n",
    "weighted_group[\"relative_ponderada\"] = (weighted_group[\"qtd_ponderada\"] / tot_ponderado) * 100\n",
    "\n",
    "print(weighted_group)"
   ]
  },
  {
   "cell_type": "code",
   "execution_count": 18,
   "metadata": {},
   "outputs": [
    {
     "name": "stdout",
     "output_type": "stream",
     "text": [
      "Correlação significativa entre InternetF e i_tec (p-valor = 0.0000)\n",
      "Correlação significativa entre inscrito e inscrito_actual (p-valor = 0.0000)\n",
      "Correlação significativa entre inscrito e ev_trad (p-valor = 0.0000)\n",
      "Correlação significativa entre inscrito e apoio (p-valor = 0.0352)\n",
      "Correlação significativa entre inscrito e med_virtual (p-valor = 0.0052)\n",
      "Correlação significativa entre inscrito e extraord (p-valor = 0.0262)\n",
      "Correlação significativa entre inscrito e recursado (p-valor = 0.0159)\n",
      "Correlação significativa entre inscrito e terminado (p-valor = 0.0000)\n",
      "Correlação significativa entre inscrito e EDAD (p-valor = 0.0419)\n",
      "Correlação significativa entre inscrito_actual e ev_trad (p-valor = 0.0002)\n",
      "Correlação significativa entre inscrito_actual e entr_cuidado (p-valor = 0.0031)\n",
      "Correlação significativa entre inscrito_actual e apoio (p-valor = 0.0004)\n",
      "Correlação significativa entre inscrito_actual e med_virtual (p-valor = 0.0000)\n",
      "Correlação significativa entre inscrito_actual e EDAD (p-valor = 0.0012)\n",
      "Correlação significativa entre inscrito_actual e t_horas (p-valor = 0.0142)\n",
      "Correlação significativa entre inscrito_actual e i_t_tec (p-valor = 0.0028)\n",
      "Correlação significativa entre inscrito_actual e i_m_trad (p-valor = 0.0004)\n",
      "Correlação significativa entre inscrito_actual e i_m_tech (p-valor = 0.0028)\n",
      "Correlação significativa entre ev_trad e med_virtual (p-valor = 0.0023)\n",
      "Correlação significativa entre ev_trad e terminado (p-valor = 0.0046)\n",
      "Correlação significativa entre ev_trad e i_t_tec (p-valor = 0.0458)\n",
      "Correlação significativa entre ev_trad e i_m_tech (p-valor = 0.0268)\n",
      "Correlação significativa entre entr_cuidado e med_virtual (p-valor = 0.0066)\n",
      "Correlação significativa entre entr_cuidado e i_t_tec (p-valor = 0.0175)\n",
      "Correlação significativa entre entr_cuidado e i_m_tech (p-valor = 0.0035)\n",
      "Correlação significativa entre apoio e med_virtual (p-valor = 0.0367)\n",
      "Correlação significativa entre apoio e EDAD (p-valor = 0.0000)\n",
      "Correlação significativa entre apoio e t_horas (p-valor = 0.0000)\n",
      "Correlação significativa entre apoio e i_m_trad (p-valor = 0.0245)\n",
      "Correlação significativa entre med_virtual e med_presencial (p-valor = 0.0002)\n",
      "Correlação significativa entre med_virtual e i_t_tec (p-valor = 0.0012)\n",
      "Correlação significativa entre med_virtual e i_mental_h (p-valor = 0.0086)\n",
      "Correlação significativa entre med_virtual e i_m_tech (p-valor = 0.0020)\n",
      "Correlação significativa entre med_presencial e i_mental_h (p-valor = 0.0405)\n",
      "Correlação significativa entre med_presencial e i_m_trad (p-valor = 0.0197)\n",
      "Correlação significativa entre extraord e recursado (p-valor = 0.0003)\n",
      "Correlação significativa entre EDAD e t_horas (p-valor = 0.0000)\n",
      "Correlação significativa entre EDAD e i_m_trad (p-valor = 0.0182)\n",
      "Correlação significativa entre i_t_tec e i_m_tech (p-valor = 0.0004)\n"
     ]
    }
   ],
   "source": [
    "def check_significance(pvals, alpha=0.05):\n",
    "  n = len(pvals.columns)\n",
    "  for i in range(n):\n",
    "      for j in range(i + 1, n):\n",
    "          if pvals.iloc[i, j] < alpha:\n",
    "              var1 = pvals.columns[i]\n",
    "              var2 = pvals.columns[j]\n",
    "              print(f\"Correlação significativa entre {var1} e {var2} (p-valor = {pvals.iloc[i, j]:.4f})\")\n",
    "\n",
    "check_significance(pvals)"
   ]
  },
  {
   "cell_type": "code",
   "execution_count": 26,
   "metadata": {},
   "outputs": [
    {
     "name": "stdout",
     "output_type": "stream",
     "text": [
      "Significativo: InternetF e asesorias (p-valor=0.042447)\n",
      "Significativo: inscrito_actual e asesorias (p-valor=0.047327)\n",
      "Significativo: ev_trad e asesorias (p-valor=0.000000)\n",
      "Significativo: entr_cuidado e asesorias (p-valor=0.000000)\n",
      "Significativo: med_virtual e asesorias (p-valor=0.000526)\n",
      "Significativo: med_presencial e asesorias (p-valor=0.010433)\n",
      "Significativo: asesorias e asesorias (p-valor=0.000000)\n",
      "Significativo: extraord e asesorias (p-valor=0.000000)\n",
      "Significativo: recursado e asesorias (p-valor=0.000000)\n",
      "Significativo: EDAD e asesorias (p-valor=0.000000)\n",
      "Significativo: i_confidence_edu e asesorias (p-valor=0.020671)\n",
      "Significativo: i_mental_h e asesorias (p-valor=0.036140)\n",
      "Significativo: i_tec e asesorias (p-valor=0.000001)\n",
      "Significativo: i_m_tech e asesorias (p-valor=0.000000)\n",
      "Significativo: inscrito_actual e recursado (p-valor=0.000000)\n",
      "Significativo: ev_outro e recursado (p-valor=0.017178)\n",
      "Significativo: apoio e recursado (p-valor=0.046507)\n",
      "Significativo: med_virtual e recursado (p-valor=0.003115)\n",
      "Significativo: med_presencial e recursado (p-valor=0.030677)\n",
      "Significativo: asesorias e recursado (p-valor=0.000000)\n",
      "Significativo: extraord e recursado (p-valor=0.000000)\n",
      "Significativo: recursado e recursado (p-valor=0.000000)\n",
      "Significativo: EDAD e recursado (p-valor=0.000001)\n",
      "Significativo: t_horas e recursado (p-valor=0.041653)\n",
      "Significativo: q_hombres e recursado (p-valor=0.003825)\n",
      "Significativo: InternetF e terminado (p-valor=0.000000)\n",
      "Significativo: inscrito_actual e terminado (p-valor=0.000000)\n",
      "Significativo: ev_trad e terminado (p-valor=0.000000)\n",
      "Significativo: ev_outro e terminado (p-valor=0.000000)\n",
      "Significativo: entr_cuidado e terminado (p-valor=0.000000)\n",
      "Significativo: apoio e terminado (p-valor=0.000000)\n",
      "Significativo: med_virtual e terminado (p-valor=0.000000)\n",
      "Significativo: terminado e terminado (p-valor=0.000000)\n",
      "Significativo: EDAD e terminado (p-valor=0.000000)\n",
      "Significativo: t_horas e terminado (p-valor=0.000000)\n",
      "Significativo: q_hombres e terminado (p-valor=0.014980)\n",
      "Significativo: q_mujeres e terminado (p-valor=0.008278)\n",
      "Significativo: i_t_tec e terminado (p-valor=0.000000)\n",
      "Significativo: i_mental_h e terminado (p-valor=0.000000)\n",
      "Significativo: i_tec e terminado (p-valor=0.000001)\n",
      "Significativo: i_m_trad e terminado (p-valor=0.000000)\n",
      "Significativo: i_m_tech e terminado (p-valor=0.000000)\n",
      "Significativo: InternetF e nivel_edu (p-valor=0.000000)\n",
      "Significativo: inscrito e nivel_edu (p-valor=0.000000)\n",
      "Significativo: inscrito_actual e nivel_edu (p-valor=0.000000)\n",
      "Significativo: ev_trad e nivel_edu (p-valor=0.000000)\n",
      "Significativo: ev_outro e nivel_edu (p-valor=0.000000)\n",
      "Significativo: entr_cuidado e nivel_edu (p-valor=0.000000)\n",
      "Significativo: apoio e nivel_edu (p-valor=0.000000)\n",
      "Significativo: med_virtual e nivel_edu (p-valor=0.000000)\n",
      "Significativo: med_presencial e nivel_edu (p-valor=0.000000)\n",
      "Significativo: EDAD e nivel_edu (p-valor=0.000000)\n",
      "Significativo: t_horas e nivel_edu (p-valor=0.000000)\n",
      "Significativo: q_hombres e nivel_edu (p-valor=0.000000)\n",
      "Significativo: q_mujeres e nivel_edu (p-valor=0.000107)\n",
      "Significativo: i_confidence_edu e nivel_edu (p-valor=0.009149)\n",
      "Significativo: i_t_tec e nivel_edu (p-valor=0.000000)\n",
      "Significativo: i_mental_h e nivel_edu (p-valor=0.000000)\n",
      "Significativo: i_tec e nivel_edu (p-valor=0.000000)\n",
      "Significativo: i_m_trad e nivel_edu (p-valor=0.000000)\n",
      "Significativo: i_m_tech e nivel_edu (p-valor=0.000000)\n",
      "Significativo: InternetF e max_nivel_esp (p-valor=0.000000)\n",
      "Significativo: inscrito e max_nivel_esp (p-valor=0.000000)\n",
      "Significativo: inscrito_actual e max_nivel_esp (p-valor=0.000000)\n",
      "Significativo: ev_trad e max_nivel_esp (p-valor=0.000000)\n",
      "Significativo: ev_outro e max_nivel_esp (p-valor=0.000000)\n",
      "Significativo: entr_cuidado e max_nivel_esp (p-valor=0.000000)\n",
      "Significativo: apoio e max_nivel_esp (p-valor=0.000000)\n",
      "Significativo: ev_digital e max_nivel_esp (p-valor=0.000001)\n",
      "Significativo: med_virtual e max_nivel_esp (p-valor=0.000000)\n",
      "Significativo: med_presencial e max_nivel_esp (p-valor=0.000000)\n",
      "Significativo: asesorias e max_nivel_esp (p-valor=0.000000)\n",
      "Significativo: terminado e max_nivel_esp (p-valor=0.000000)\n",
      "Significativo: EDAD e max_nivel_esp (p-valor=0.000000)\n",
      "Significativo: t_horas e max_nivel_esp (p-valor=0.000000)\n",
      "Significativo: q_hombres e max_nivel_esp (p-valor=0.000000)\n",
      "Significativo: q_mujeres e max_nivel_esp (p-valor=0.000000)\n",
      "Significativo: i_confidence_edu e max_nivel_esp (p-valor=0.000000)\n",
      "Significativo: i_t_tec e max_nivel_esp (p-valor=0.000000)\n",
      "Significativo: i_mental_h e max_nivel_esp (p-valor=0.000000)\n",
      "Significativo: i_tec e max_nivel_esp (p-valor=0.000000)\n",
      "Significativo: i_m_trad e max_nivel_esp (p-valor=0.000000)\n",
      "Significativo: i_m_tech e max_nivel_esp (p-valor=0.000000)\n",
      "Significativo: InternetF e nt_causa (p-valor=0.001875)\n",
      "Significativo: inscrito_actual e nt_causa (p-valor=0.000000)\n",
      "Significativo: ev_trad e nt_causa (p-valor=0.000000)\n",
      "Significativo: ev_outro e nt_causa (p-valor=0.000000)\n",
      "Significativo: entr_cuidado e nt_causa (p-valor=0.000000)\n",
      "Significativo: apoio e nt_causa (p-valor=0.000000)\n",
      "Significativo: med_virtual e nt_causa (p-valor=0.000000)\n",
      "Significativo: terminado e nt_causa (p-valor=0.000000)\n",
      "Significativo: EDAD e nt_causa (p-valor=0.000000)\n",
      "Significativo: t_horas e nt_causa (p-valor=0.000000)\n",
      "Significativo: i_t_tec e nt_causa (p-valor=0.000000)\n",
      "Significativo: i_mental_h e nt_causa (p-valor=0.000003)\n",
      "Significativo: i_tec e nt_causa (p-valor=0.002016)\n",
      "Significativo: i_m_trad e nt_causa (p-valor=0.000000)\n",
      "Significativo: i_m_tech e nt_causa (p-valor=0.000000)\n",
      "Significativo: InternetF e nins_causa (p-valor=0.000000)\n",
      "Significativo: inscrito e nins_causa (p-valor=0.000000)\n",
      "Significativo: inscrito_actual e nins_causa (p-valor=0.000000)\n",
      "Significativo: ev_trad e nins_causa (p-valor=0.000000)\n",
      "Significativo: ev_outro e nins_causa (p-valor=0.000000)\n",
      "Significativo: entr_cuidado e nins_causa (p-valor=0.000000)\n",
      "Significativo: apoio e nins_causa (p-valor=0.000000)\n"
     ]
    },
    {
     "name": "stderr",
     "output_type": "stream",
     "text": [
      "c:\\Users\\Artur\\Documents\\Artur\\DsSchoolDropout\\deep_analysis_of_school_dropout_in_mexico\\.venv\\lib\\site-packages\\scipy\\stats\\_axis_nan_policy.py:586: ConstantInputWarning:\n",
      "\n",
      "Each of the input arrays is constant; the F statistic is not defined or infinite\n",
      "\n",
      "C:\\Users\\Artur\\AppData\\Local\\Temp\\ipykernel_24108\\2847913571.py:13: SmallSampleWarning:\n",
      "\n",
      "One or more sample arguments is too small; all returned values will be NaN. See documentation for sample size requirements.\n",
      "\n"
     ]
    },
    {
     "name": "stdout",
     "output_type": "stream",
     "text": [
      "Significativo: med_virtual e nins_causa (p-valor=0.000000)\n",
      "Significativo: asesorias e nins_causa (p-valor=0.041131)\n",
      "Significativo: extraord e nins_causa (p-valor=0.000000)\n",
      "Significativo: recursado e nins_causa (p-valor=0.000000)\n",
      "Significativo: terminado e nins_causa (p-valor=0.000000)\n",
      "Significativo: EDAD e nins_causa (p-valor=0.000000)\n",
      "Significativo: t_horas e nins_causa (p-valor=0.000000)\n",
      "Significativo: q_hombres e nins_causa (p-valor=0.000000)\n",
      "Significativo: i_confidence_edu e nins_causa (p-valor=0.006493)\n",
      "Significativo: i_t_tec e nins_causa (p-valor=0.000000)\n",
      "Significativo: i_mental_h e nins_causa (p-valor=0.000000)\n",
      "Significativo: i_tec e nins_causa (p-valor=0.000000)\n",
      "Significativo: i_m_trad e nins_causa (p-valor=0.000000)\n",
      "Significativo: i_m_tech e nins_causa (p-valor=0.000000)\n"
     ]
    }
   ],
   "source": [
    "import scipy.stats as stats \n",
    "important = ['inscrito_actual', 'ev_trad', 'ev_outro', 'apoio', 'asesorias', 'recursado', 'terminado'] + variable_types['categorical_encoded']\n",
    "\n",
    "catImportant = df[important]\n",
    "\n",
    "\n",
    "def anova(df, num_col, cat_col):\n",
    "\n",
    "    grouped = df.groupby(cat_col)[num_col]\n",
    "\n",
    "    groups = [group.values[~pd.isnull(group.values)] for _, group in grouped]\n",
    "\n",
    "    f_val, p_val = stats.f_oneway(*groups)\n",
    "    return p_val\n",
    "\n",
    "results = []\n",
    "\n",
    "def testing_anova(df, categorical_columns, numerical_cols):\n",
    "\n",
    "  for cat_col in categorical_columns:\n",
    "    if len(df[cat_col].unique()) > 2:\n",
    "      for num_col in numerical_cols:\n",
    "          p_val = anova(df, num_col, cat_col)\n",
    "\n",
    "          if p_val is not None and p_val < 0.05:\n",
    "              print(f\"Significativo: {num_col} e {cat_col} (p-valor={p_val:.6f})\")\n",
    "              results.append((cat_col, num_col, p_val))\n",
    "\n",
    "testing_anova(df, catImportant, geralcorr)\n",
    "\n"
   ]
  },
  {
   "cell_type": "code",
   "execution_count": null,
   "metadata": {},
   "outputs": [
    {
     "name": "stderr",
     "output_type": "stream",
     "text": [
      "C:\\Users\\Artur\\AppData\\Local\\Temp\\ipykernel_24108\\1568381327.py:18: RuntimeWarning:\n",
      "\n",
      "invalid value encountered in scalar divide\n",
      "\n",
      "C:\\Users\\Artur\\AppData\\Local\\Temp\\ipykernel_24108\\1568381327.py:18: RuntimeWarning:\n",
      "\n",
      "invalid value encountered in scalar divide\n",
      "\n",
      "C:\\Users\\Artur\\AppData\\Local\\Temp\\ipykernel_24108\\1568381327.py:18: RuntimeWarning:\n",
      "\n",
      "invalid value encountered in scalar divide\n",
      "\n",
      "C:\\Users\\Artur\\AppData\\Local\\Temp\\ipykernel_24108\\1568381327.py:18: RuntimeWarning:\n",
      "\n",
      "invalid value encountered in scalar divide\n",
      "\n"
     ]
    },
    {
     "data": {
      "application/vnd.plotly.v1+json": {
       "config": {
        "plotlyServerURL": "https://plot.ly"
       },
       "data": [
        {
         "coloraxis": "coloraxis",
         "hovertemplate": "x: %{x}<br>y: %{y}<br>color: %{z}<extra></extra>",
         "name": "0",
         "texttemplate": "%{z:.4f}",
         "type": "heatmap",
         "x": [
          "inscrito_actual",
          "ev_trad",
          "ev_outro",
          "apoio",
          "asesorias",
          "recursado",
          "terminado",
          "SEXO",
          "nivel_edu",
          "max_nivel_esp",
          "nt_causa",
          "nins_causa"
         ],
         "xaxis": "x",
         "y": [
          "inscrito_actual",
          "ev_trad",
          "ev_outro",
          "apoio",
          "asesorias",
          "recursado",
          "terminado",
          "SEXO",
          "nivel_edu",
          "max_nivel_esp",
          "nt_causa",
          "nins_causa"
         ],
         "yaxis": "y",
         "z": {
          "bdata": "AAAAAAAA8D9fkDhQSYPcP0n1XzKJTck/ctgCSjjP3D/FYM81rPGQP4pXxL8fw7E/YtLjjhrG0z8CysTH9IKgP3J7M6bl5OM/10tawF4l5z8qN3KJVXjLPwAAAAAAAPA/X5A4UEmD3D8AAAAAAADwP96OR9NaOsg/G/3TSmWsxT+zq5B9BAKmP/a1vzmLl4w/4SXdYdvy2T8W++NA+veaP8BVk76EDuU/W3gvGFxt1T9yBAAzerLSPzCTjdTOxd0/SfVfMolNyT/ejkfTWjrIPwAAAAAAAPA/FBguP1tdqz+6dwaqeYZgP66gIk7ypJ0/Le3UH4n7wT9JKbBg4cyZPzrMPqWUDdI/hzaJbMVQwz/QlhC+ozfAP1sNTvLzgco/ctgCSjjP3D8b/dNKZazFPxQYLj9bXas/AAAAAAAA8D9/J8fk3UdSPydGAvLpnpg/nIQl1hMiwD9VgDe15rZpPzMZmsBIPOU/JqCynoI84T+2aQi6d8u9P6DNTbXQ0tw/xWDPNazxkD+zq5B9BAKmP7p3Bqp5hmA/fyfH5N1HUj8AAAAAAADwP4oWgLmYL8Q/AAAAAAAA+H9oxlX3BBeAP9rDRrTO36s/IQcW7Djjrz8AAAAAAAD4fy8X484xyqU/ilfEvx/DsT/2tb85i5eMP66gIk7ypJ0/J0YC8umemD+KFoC5mC/EPwAAAAAAAPA/AAAAAAAA+H/UVbE3zlyPP/9Z9lbGaLo/LLyKMEpDsT8AAAAAAAD4f8OR+qOi5sE/YtLjjhrG0z/hJd1h2/LZPy3t1B+J+8E/nIQl1hMiwD8AAAAAAAD4fwAAAAAAAPh/AAAAAAAA8D+W20q2WlKaP1tPqbgOB74/52RuRG3syT/////////vPyQavs5a7NY/AsrEx/SCoD8W++NA+veaP0kpsGDhzJk/VYA3tea2aT9oxlX3BBeAP9RVsTfOXI8/lttKtlpSmj8AAAAAAADwP8LFshvV7qk/jDFJ2h3vnD/8EVEVzrekPyrO7pbrxLU/cnszpuXk4z/AVZO+hA7lPzrMPqWUDdI/MxmawEg85T/aw0a0zt+rP/9Z9lbGaLo/W0+puA4Hvj/CxbIb1e6pPwAAAAAAAPA/wzzc+LEPzD/h2cv16merP2lY/UPnc84/10tawF4l5z9beC8YXG3VP4c2iWzFUMM/JqCynoI84T8hBxbsOOOvPyy8ijBKQ7E/52RuRG3syT+MMUnaHe+cP8M83PixD8w/AAAAAAAA8D8FlwCIlniwP/PSppDeXdA/KjdyiVV4yz9yBAAzerLSP9CWEL6jN8A/tmkIunfLvT8AAAAAAAD4fwAAAAAAAPh/////////7z/8EVEVzrekP+HZy/XqZ6s/BZcAiJZ4sD8AAAAAAADwP52u7iVQZsY/AAAAAAAA8D8wk43UzsXdP1sNTvLzgco/oM1NtdDS3D8vF+POMcqlP8OR+qOi5sE/JBq+zlrs1j8qzu6W68S1P2lY/UPnc84/89KmkN5d0D+dru4lUGbGPwAAAAAAAPA/",
          "dtype": "f8",
          "shape": "12, 12"
         }
        }
       ],
       "layout": {
        "coloraxis": {
         "colorscale": [
          [
           0,
           "rgb(5,48,97)"
          ],
          [
           0.1,
           "rgb(33,102,172)"
          ],
          [
           0.2,
           "rgb(67,147,195)"
          ],
          [
           0.3,
           "rgb(146,197,222)"
          ],
          [
           0.4,
           "rgb(209,229,240)"
          ],
          [
           0.5,
           "rgb(247,247,247)"
          ],
          [
           0.6,
           "rgb(253,219,199)"
          ],
          [
           0.7,
           "rgb(244,165,130)"
          ],
          [
           0.8,
           "rgb(214,96,77)"
          ],
          [
           0.9,
           "rgb(178,24,43)"
          ],
          [
           1,
           "rgb(103,0,31)"
          ]
         ]
        },
        "height": 800,
        "margin": {
         "b": 100,
         "l": 100,
         "r": 100,
         "t": 100
        },
        "template": {
         "data": {
          "bar": [
           {
            "error_x": {
             "color": "#2a3f5f"
            },
            "error_y": {
             "color": "#2a3f5f"
            },
            "marker": {
             "line": {
              "color": "#E5ECF6",
              "width": 0.5
             },
             "pattern": {
              "fillmode": "overlay",
              "size": 10,
              "solidity": 0.2
             }
            },
            "type": "bar"
           }
          ],
          "barpolar": [
           {
            "marker": {
             "line": {
              "color": "#E5ECF6",
              "width": 0.5
             },
             "pattern": {
              "fillmode": "overlay",
              "size": 10,
              "solidity": 0.2
             }
            },
            "type": "barpolar"
           }
          ],
          "carpet": [
           {
            "aaxis": {
             "endlinecolor": "#2a3f5f",
             "gridcolor": "white",
             "linecolor": "white",
             "minorgridcolor": "white",
             "startlinecolor": "#2a3f5f"
            },
            "baxis": {
             "endlinecolor": "#2a3f5f",
             "gridcolor": "white",
             "linecolor": "white",
             "minorgridcolor": "white",
             "startlinecolor": "#2a3f5f"
            },
            "type": "carpet"
           }
          ],
          "choropleth": [
           {
            "colorbar": {
             "outlinewidth": 0,
             "ticks": ""
            },
            "type": "choropleth"
           }
          ],
          "contour": [
           {
            "colorbar": {
             "outlinewidth": 0,
             "ticks": ""
            },
            "colorscale": [
             [
              0,
              "#0d0887"
             ],
             [
              0.1111111111111111,
              "#46039f"
             ],
             [
              0.2222222222222222,
              "#7201a8"
             ],
             [
              0.3333333333333333,
              "#9c179e"
             ],
             [
              0.4444444444444444,
              "#bd3786"
             ],
             [
              0.5555555555555556,
              "#d8576b"
             ],
             [
              0.6666666666666666,
              "#ed7953"
             ],
             [
              0.7777777777777778,
              "#fb9f3a"
             ],
             [
              0.8888888888888888,
              "#fdca26"
             ],
             [
              1,
              "#f0f921"
             ]
            ],
            "type": "contour"
           }
          ],
          "contourcarpet": [
           {
            "colorbar": {
             "outlinewidth": 0,
             "ticks": ""
            },
            "type": "contourcarpet"
           }
          ],
          "heatmap": [
           {
            "colorbar": {
             "outlinewidth": 0,
             "ticks": ""
            },
            "colorscale": [
             [
              0,
              "#0d0887"
             ],
             [
              0.1111111111111111,
              "#46039f"
             ],
             [
              0.2222222222222222,
              "#7201a8"
             ],
             [
              0.3333333333333333,
              "#9c179e"
             ],
             [
              0.4444444444444444,
              "#bd3786"
             ],
             [
              0.5555555555555556,
              "#d8576b"
             ],
             [
              0.6666666666666666,
              "#ed7953"
             ],
             [
              0.7777777777777778,
              "#fb9f3a"
             ],
             [
              0.8888888888888888,
              "#fdca26"
             ],
             [
              1,
              "#f0f921"
             ]
            ],
            "type": "heatmap"
           }
          ],
          "histogram": [
           {
            "marker": {
             "pattern": {
              "fillmode": "overlay",
              "size": 10,
              "solidity": 0.2
             }
            },
            "type": "histogram"
           }
          ],
          "histogram2d": [
           {
            "colorbar": {
             "outlinewidth": 0,
             "ticks": ""
            },
            "colorscale": [
             [
              0,
              "#0d0887"
             ],
             [
              0.1111111111111111,
              "#46039f"
             ],
             [
              0.2222222222222222,
              "#7201a8"
             ],
             [
              0.3333333333333333,
              "#9c179e"
             ],
             [
              0.4444444444444444,
              "#bd3786"
             ],
             [
              0.5555555555555556,
              "#d8576b"
             ],
             [
              0.6666666666666666,
              "#ed7953"
             ],
             [
              0.7777777777777778,
              "#fb9f3a"
             ],
             [
              0.8888888888888888,
              "#fdca26"
             ],
             [
              1,
              "#f0f921"
             ]
            ],
            "type": "histogram2d"
           }
          ],
          "histogram2dcontour": [
           {
            "colorbar": {
             "outlinewidth": 0,
             "ticks": ""
            },
            "colorscale": [
             [
              0,
              "#0d0887"
             ],
             [
              0.1111111111111111,
              "#46039f"
             ],
             [
              0.2222222222222222,
              "#7201a8"
             ],
             [
              0.3333333333333333,
              "#9c179e"
             ],
             [
              0.4444444444444444,
              "#bd3786"
             ],
             [
              0.5555555555555556,
              "#d8576b"
             ],
             [
              0.6666666666666666,
              "#ed7953"
             ],
             [
              0.7777777777777778,
              "#fb9f3a"
             ],
             [
              0.8888888888888888,
              "#fdca26"
             ],
             [
              1,
              "#f0f921"
             ]
            ],
            "type": "histogram2dcontour"
           }
          ],
          "mesh3d": [
           {
            "colorbar": {
             "outlinewidth": 0,
             "ticks": ""
            },
            "type": "mesh3d"
           }
          ],
          "parcoords": [
           {
            "line": {
             "colorbar": {
              "outlinewidth": 0,
              "ticks": ""
             }
            },
            "type": "parcoords"
           }
          ],
          "pie": [
           {
            "automargin": true,
            "type": "pie"
           }
          ],
          "scatter": [
           {
            "fillpattern": {
             "fillmode": "overlay",
             "size": 10,
             "solidity": 0.2
            },
            "type": "scatter"
           }
          ],
          "scatter3d": [
           {
            "line": {
             "colorbar": {
              "outlinewidth": 0,
              "ticks": ""
             }
            },
            "marker": {
             "colorbar": {
              "outlinewidth": 0,
              "ticks": ""
             }
            },
            "type": "scatter3d"
           }
          ],
          "scattercarpet": [
           {
            "marker": {
             "colorbar": {
              "outlinewidth": 0,
              "ticks": ""
             }
            },
            "type": "scattercarpet"
           }
          ],
          "scattergeo": [
           {
            "marker": {
             "colorbar": {
              "outlinewidth": 0,
              "ticks": ""
             }
            },
            "type": "scattergeo"
           }
          ],
          "scattergl": [
           {
            "marker": {
             "colorbar": {
              "outlinewidth": 0,
              "ticks": ""
             }
            },
            "type": "scattergl"
           }
          ],
          "scattermap": [
           {
            "marker": {
             "colorbar": {
              "outlinewidth": 0,
              "ticks": ""
             }
            },
            "type": "scattermap"
           }
          ],
          "scattermapbox": [
           {
            "marker": {
             "colorbar": {
              "outlinewidth": 0,
              "ticks": ""
             }
            },
            "type": "scattermapbox"
           }
          ],
          "scatterpolar": [
           {
            "marker": {
             "colorbar": {
              "outlinewidth": 0,
              "ticks": ""
             }
            },
            "type": "scatterpolar"
           }
          ],
          "scatterpolargl": [
           {
            "marker": {
             "colorbar": {
              "outlinewidth": 0,
              "ticks": ""
             }
            },
            "type": "scatterpolargl"
           }
          ],
          "scatterternary": [
           {
            "marker": {
             "colorbar": {
              "outlinewidth": 0,
              "ticks": ""
             }
            },
            "type": "scatterternary"
           }
          ],
          "surface": [
           {
            "colorbar": {
             "outlinewidth": 0,
             "ticks": ""
            },
            "colorscale": [
             [
              0,
              "#0d0887"
             ],
             [
              0.1111111111111111,
              "#46039f"
             ],
             [
              0.2222222222222222,
              "#7201a8"
             ],
             [
              0.3333333333333333,
              "#9c179e"
             ],
             [
              0.4444444444444444,
              "#bd3786"
             ],
             [
              0.5555555555555556,
              "#d8576b"
             ],
             [
              0.6666666666666666,
              "#ed7953"
             ],
             [
              0.7777777777777778,
              "#fb9f3a"
             ],
             [
              0.8888888888888888,
              "#fdca26"
             ],
             [
              1,
              "#f0f921"
             ]
            ],
            "type": "surface"
           }
          ],
          "table": [
           {
            "cells": {
             "fill": {
              "color": "#EBF0F8"
             },
             "line": {
              "color": "white"
             }
            },
            "header": {
             "fill": {
              "color": "#C8D4E3"
             },
             "line": {
              "color": "white"
             }
            },
            "type": "table"
           }
          ]
         },
         "layout": {
          "annotationdefaults": {
           "arrowcolor": "#2a3f5f",
           "arrowhead": 0,
           "arrowwidth": 1
          },
          "autotypenumbers": "strict",
          "coloraxis": {
           "colorbar": {
            "outlinewidth": 0,
            "ticks": ""
           }
          },
          "colorscale": {
           "diverging": [
            [
             0,
             "#8e0152"
            ],
            [
             0.1,
             "#c51b7d"
            ],
            [
             0.2,
             "#de77ae"
            ],
            [
             0.3,
             "#f1b6da"
            ],
            [
             0.4,
             "#fde0ef"
            ],
            [
             0.5,
             "#f7f7f7"
            ],
            [
             0.6,
             "#e6f5d0"
            ],
            [
             0.7,
             "#b8e186"
            ],
            [
             0.8,
             "#7fbc41"
            ],
            [
             0.9,
             "#4d9221"
            ],
            [
             1,
             "#276419"
            ]
           ],
           "sequential": [
            [
             0,
             "#0d0887"
            ],
            [
             0.1111111111111111,
             "#46039f"
            ],
            [
             0.2222222222222222,
             "#7201a8"
            ],
            [
             0.3333333333333333,
             "#9c179e"
            ],
            [
             0.4444444444444444,
             "#bd3786"
            ],
            [
             0.5555555555555556,
             "#d8576b"
            ],
            [
             0.6666666666666666,
             "#ed7953"
            ],
            [
             0.7777777777777778,
             "#fb9f3a"
            ],
            [
             0.8888888888888888,
             "#fdca26"
            ],
            [
             1,
             "#f0f921"
            ]
           ],
           "sequentialminus": [
            [
             0,
             "#0d0887"
            ],
            [
             0.1111111111111111,
             "#46039f"
            ],
            [
             0.2222222222222222,
             "#7201a8"
            ],
            [
             0.3333333333333333,
             "#9c179e"
            ],
            [
             0.4444444444444444,
             "#bd3786"
            ],
            [
             0.5555555555555556,
             "#d8576b"
            ],
            [
             0.6666666666666666,
             "#ed7953"
            ],
            [
             0.7777777777777778,
             "#fb9f3a"
            ],
            [
             0.8888888888888888,
             "#fdca26"
            ],
            [
             1,
             "#f0f921"
            ]
           ]
          },
          "colorway": [
           "#636efa",
           "#EF553B",
           "#00cc96",
           "#ab63fa",
           "#FFA15A",
           "#19d3f3",
           "#FF6692",
           "#B6E880",
           "#FF97FF",
           "#FECB52"
          ],
          "font": {
           "color": "#2a3f5f"
          },
          "geo": {
           "bgcolor": "white",
           "lakecolor": "white",
           "landcolor": "#E5ECF6",
           "showlakes": true,
           "showland": true,
           "subunitcolor": "white"
          },
          "hoverlabel": {
           "align": "left"
          },
          "hovermode": "closest",
          "mapbox": {
           "style": "light"
          },
          "paper_bgcolor": "white",
          "plot_bgcolor": "#E5ECF6",
          "polar": {
           "angularaxis": {
            "gridcolor": "white",
            "linecolor": "white",
            "ticks": ""
           },
           "bgcolor": "#E5ECF6",
           "radialaxis": {
            "gridcolor": "white",
            "linecolor": "white",
            "ticks": ""
           }
          },
          "scene": {
           "xaxis": {
            "backgroundcolor": "#E5ECF6",
            "gridcolor": "white",
            "gridwidth": 2,
            "linecolor": "white",
            "showbackground": true,
            "ticks": "",
            "zerolinecolor": "white"
           },
           "yaxis": {
            "backgroundcolor": "#E5ECF6",
            "gridcolor": "white",
            "gridwidth": 2,
            "linecolor": "white",
            "showbackground": true,
            "ticks": "",
            "zerolinecolor": "white"
           },
           "zaxis": {
            "backgroundcolor": "#E5ECF6",
            "gridcolor": "white",
            "gridwidth": 2,
            "linecolor": "white",
            "showbackground": true,
            "ticks": "",
            "zerolinecolor": "white"
           }
          },
          "shapedefaults": {
           "line": {
            "color": "#2a3f5f"
           }
          },
          "ternary": {
           "aaxis": {
            "gridcolor": "white",
            "linecolor": "white",
            "ticks": ""
           },
           "baxis": {
            "gridcolor": "white",
            "linecolor": "white",
            "ticks": ""
           },
           "bgcolor": "#E5ECF6",
           "caxis": {
            "gridcolor": "white",
            "linecolor": "white",
            "ticks": ""
           }
          },
          "title": {
           "x": 0.05
          },
          "xaxis": {
           "automargin": true,
           "gridcolor": "white",
           "linecolor": "white",
           "ticks": "",
           "title": {
            "standoff": 15
           },
           "zerolinecolor": "white",
           "zerolinewidth": 2
          },
          "yaxis": {
           "automargin": true,
           "gridcolor": "white",
           "linecolor": "white",
           "ticks": "",
           "title": {
            "standoff": 15
           },
           "zerolinecolor": "white",
           "zerolinewidth": 2
          }
         }
        },
        "width": 1000,
        "xaxis": {
         "anchor": "y",
         "constrain": "domain",
         "domain": [
          0,
          1
         ],
         "scaleanchor": "y"
        },
        "yaxis": {
         "anchor": "x",
         "autorange": "reversed",
         "constrain": "domain",
         "domain": [
          0,
          1
         ]
        }
       }
      }
     },
     "metadata": {},
     "output_type": "display_data"
    }
   ],
   "source": [
    "from scipy.stats import chi2_contingency\n",
    "# Matriz para armazenar resultados\n",
    "cramers_matrix = pd.DataFrame(\n",
    "    np.nan,\n",
    "    index=important,\n",
    "    columns=important\n",
    ")\n",
    "\n",
    "np.fill_diagonal(cramers_matrix.values, 1.0)\n",
    "\n",
    "\n",
    "def cramers_v(contingency_table):\n",
    "    chi2, _, _, _ = chi2_contingency(contingency_table)\n",
    "    n = contingency_table.sum().sum()\n",
    "    phi2 = chi2 / n\n",
    "    r, k = contingency_table.shape\n",
    "    return np.sqrt(phi2 / min(k-1, r-1))\n",
    "\n",
    "\n",
    "for i, col1 in enumerate(important):\n",
    "    for j, col2 in enumerate(important):\n",
    "        if i < j:\n",
    "            contingency = pd.crosstab(\n",
    "                df[col1],\n",
    "                df[col2]\n",
    "            )\n",
    "            cv = cramers_v(contingency.values)\n",
    "            cramers_matrix.loc[col1, col2] = cv\n",
    "            cramers_matrix.loc[col2, col1] = cv\n",
    "\n",
    "fig = px.imshow(\n",
    "    cramers_matrix,\n",
    "    text_auto='.4f',\n",
    "    color_continuous_scale='RdBu_r'\n",
    "    )\n",
    "\n",
    "fig.update_layout(\n",
    "    width=1000,\n",
    "    height=800,\n",
    "    margin=dict(l=100, r=100, t=100, b=100),\n",
    "\n",
    ")\n",
    "\n",
    "fig\n",
    "\n"
   ]
  },
  {
   "cell_type": "code",
   "execution_count": 31,
   "metadata": {},
   "outputs": [
    {
     "data": {
      "text/plain": [
       "inscrito_actual\n",
       "1.0    89.956442\n",
       "0.0    10.043558\n",
       "Name: proportion, dtype: float64"
      ]
     },
     "metadata": {},
     "output_type": "display_data"
    }
   ],
   "source": [
    "percentual_evasores = df['inscrito_actual'].value_counts(normalize=True) * 100\n",
    "\n",
    "display(percentual_evasores)"
   ]
  },
  {
   "cell_type": "code",
   "execution_count": 53,
   "metadata": {},
   "outputs": [
    {
     "data": {
      "text/plain": [
       "'SEXO'"
      ]
     },
     "metadata": {},
     "output_type": "display_data"
    },
    {
     "data": {
      "text/html": [
       "<div>\n",
       "<style scoped>\n",
       "    .dataframe tbody tr th:only-of-type {\n",
       "        vertical-align: middle;\n",
       "    }\n",
       "\n",
       "    .dataframe tbody tr th {\n",
       "        vertical-align: top;\n",
       "    }\n",
       "\n",
       "    .dataframe thead th {\n",
       "        text-align: right;\n",
       "    }\n",
       "</style>\n",
       "<table border=\"1\" class=\"dataframe\">\n",
       "  <thead>\n",
       "    <tr style=\"text-align: right;\">\n",
       "      <th></th>\n",
       "      <th>count</th>\n",
       "      <th>mean</th>\n",
       "      <th>std</th>\n",
       "      <th>min</th>\n",
       "      <th>25%</th>\n",
       "      <th>50%</th>\n",
       "      <th>75%</th>\n",
       "      <th>max</th>\n",
       "    </tr>\n",
       "    <tr>\n",
       "      <th>inscrito_actual</th>\n",
       "      <th></th>\n",
       "      <th></th>\n",
       "      <th></th>\n",
       "      <th></th>\n",
       "      <th></th>\n",
       "      <th></th>\n",
       "      <th></th>\n",
       "      <th></th>\n",
       "    </tr>\n",
       "  </thead>\n",
       "  <tbody>\n",
       "    <tr>\n",
       "      <th>0.0</th>\n",
       "      <td>1591.0</td>\n",
       "      <td>0.565682</td>\n",
       "      <td>0.495823</td>\n",
       "      <td>0.0</td>\n",
       "      <td>0.0</td>\n",
       "      <td>1.0</td>\n",
       "      <td>1.0</td>\n",
       "      <td>1.0</td>\n",
       "    </tr>\n",
       "    <tr>\n",
       "      <th>1.0</th>\n",
       "      <td>14250.0</td>\n",
       "      <td>0.511719</td>\n",
       "      <td>0.499880</td>\n",
       "      <td>0.0</td>\n",
       "      <td>0.0</td>\n",
       "      <td>1.0</td>\n",
       "      <td>1.0</td>\n",
       "      <td>1.0</td>\n",
       "    </tr>\n",
       "  </tbody>\n",
       "</table>\n",
       "</div>"
      ],
      "text/plain": [
       "                   count      mean       std  min  25%  50%  75%  max\n",
       "inscrito_actual                                                      \n",
       "0.0               1591.0  0.565682  0.495823  0.0  0.0  1.0  1.0  1.0\n",
       "1.0              14250.0  0.511719  0.499880  0.0  0.0  1.0  1.0  1.0"
      ]
     },
     "metadata": {},
     "output_type": "display_data"
    },
    {
     "data": {
      "text/plain": [
       "'EDAD'"
      ]
     },
     "metadata": {},
     "output_type": "display_data"
    },
    {
     "data": {
      "text/html": [
       "<div>\n",
       "<style scoped>\n",
       "    .dataframe tbody tr th:only-of-type {\n",
       "        vertical-align: middle;\n",
       "    }\n",
       "\n",
       "    .dataframe tbody tr th {\n",
       "        vertical-align: top;\n",
       "    }\n",
       "\n",
       "    .dataframe thead th {\n",
       "        text-align: right;\n",
       "    }\n",
       "</style>\n",
       "<table border=\"1\" class=\"dataframe\">\n",
       "  <thead>\n",
       "    <tr style=\"text-align: right;\">\n",
       "      <th></th>\n",
       "      <th>count</th>\n",
       "      <th>mean</th>\n",
       "      <th>std</th>\n",
       "      <th>min</th>\n",
       "      <th>25%</th>\n",
       "      <th>50%</th>\n",
       "      <th>75%</th>\n",
       "      <th>max</th>\n",
       "    </tr>\n",
       "    <tr>\n",
       "      <th>inscrito_actual</th>\n",
       "      <th></th>\n",
       "      <th></th>\n",
       "      <th></th>\n",
       "      <th></th>\n",
       "      <th></th>\n",
       "      <th></th>\n",
       "      <th></th>\n",
       "      <th></th>\n",
       "    </tr>\n",
       "  </thead>\n",
       "  <tbody>\n",
       "    <tr>\n",
       "      <th>0.0</th>\n",
       "      <td>1591.0</td>\n",
       "      <td>16.005657</td>\n",
       "      <td>2.659852</td>\n",
       "      <td>6.0</td>\n",
       "      <td>15.0</td>\n",
       "      <td>17.0</td>\n",
       "      <td>18.0</td>\n",
       "      <td>18.0</td>\n",
       "    </tr>\n",
       "    <tr>\n",
       "      <th>1.0</th>\n",
       "      <td>14250.0</td>\n",
       "      <td>11.821754</td>\n",
       "      <td>3.609133</td>\n",
       "      <td>6.0</td>\n",
       "      <td>9.0</td>\n",
       "      <td>12.0</td>\n",
       "      <td>15.0</td>\n",
       "      <td>18.0</td>\n",
       "    </tr>\n",
       "  </tbody>\n",
       "</table>\n",
       "</div>"
      ],
      "text/plain": [
       "                   count       mean       std  min   25%   50%   75%   max\n",
       "inscrito_actual                                                           \n",
       "0.0               1591.0  16.005657  2.659852  6.0  15.0  17.0  18.0  18.0\n",
       "1.0              14250.0  11.821754  3.609133  6.0   9.0  12.0  15.0  18.0"
      ]
     },
     "metadata": {},
     "output_type": "display_data"
    },
    {
     "data": {
      "text/plain": [
       "'inscrito'"
      ]
     },
     "metadata": {},
     "output_type": "display_data"
    },
    {
     "data": {
      "text/html": [
       "<div>\n",
       "<style scoped>\n",
       "    .dataframe tbody tr th:only-of-type {\n",
       "        vertical-align: middle;\n",
       "    }\n",
       "\n",
       "    .dataframe tbody tr th {\n",
       "        vertical-align: top;\n",
       "    }\n",
       "\n",
       "    .dataframe thead th {\n",
       "        text-align: right;\n",
       "    }\n",
       "</style>\n",
       "<table border=\"1\" class=\"dataframe\">\n",
       "  <thead>\n",
       "    <tr style=\"text-align: right;\">\n",
       "      <th></th>\n",
       "      <th>count</th>\n",
       "      <th>mean</th>\n",
       "      <th>std</th>\n",
       "      <th>min</th>\n",
       "      <th>25%</th>\n",
       "      <th>50%</th>\n",
       "      <th>75%</th>\n",
       "      <th>max</th>\n",
       "    </tr>\n",
       "    <tr>\n",
       "      <th>inscrito_actual</th>\n",
       "      <th></th>\n",
       "      <th></th>\n",
       "      <th></th>\n",
       "      <th></th>\n",
       "      <th></th>\n",
       "      <th></th>\n",
       "      <th></th>\n",
       "      <th></th>\n",
       "    </tr>\n",
       "  </thead>\n",
       "  <tbody>\n",
       "    <tr>\n",
       "      <th>0.0</th>\n",
       "      <td>1591.0</td>\n",
       "      <td>0.494657</td>\n",
       "      <td>0.500129</td>\n",
       "      <td>0.0</td>\n",
       "      <td>0.0</td>\n",
       "      <td>0.0</td>\n",
       "      <td>1.0</td>\n",
       "      <td>1.0</td>\n",
       "    </tr>\n",
       "    <tr>\n",
       "      <th>1.0</th>\n",
       "      <td>14250.0</td>\n",
       "      <td>0.984632</td>\n",
       "      <td>0.123017</td>\n",
       "      <td>0.0</td>\n",
       "      <td>1.0</td>\n",
       "      <td>1.0</td>\n",
       "      <td>1.0</td>\n",
       "      <td>1.0</td>\n",
       "    </tr>\n",
       "  </tbody>\n",
       "</table>\n",
       "</div>"
      ],
      "text/plain": [
       "                   count      mean       std  min  25%  50%  75%  max\n",
       "inscrito_actual                                                      \n",
       "0.0               1591.0  0.494657  0.500129  0.0  0.0  0.0  1.0  1.0\n",
       "1.0              14250.0  0.984632  0.123017  0.0  1.0  1.0  1.0  1.0"
      ]
     },
     "metadata": {},
     "output_type": "display_data"
    },
    {
     "data": {
      "text/plain": [
       "'nivel_edu'"
      ]
     },
     "metadata": {},
     "output_type": "display_data"
    },
    {
     "data": {
      "text/html": [
       "<div>\n",
       "<style scoped>\n",
       "    .dataframe tbody tr th:only-of-type {\n",
       "        vertical-align: middle;\n",
       "    }\n",
       "\n",
       "    .dataframe tbody tr th {\n",
       "        vertical-align: top;\n",
       "    }\n",
       "\n",
       "    .dataframe thead th {\n",
       "        text-align: right;\n",
       "    }\n",
       "</style>\n",
       "<table border=\"1\" class=\"dataframe\">\n",
       "  <thead>\n",
       "    <tr style=\"text-align: right;\">\n",
       "      <th></th>\n",
       "      <th>count</th>\n",
       "      <th>mean</th>\n",
       "      <th>std</th>\n",
       "      <th>min</th>\n",
       "      <th>25%</th>\n",
       "      <th>50%</th>\n",
       "      <th>75%</th>\n",
       "      <th>max</th>\n",
       "    </tr>\n",
       "    <tr>\n",
       "      <th>inscrito_actual</th>\n",
       "      <th></th>\n",
       "      <th></th>\n",
       "      <th></th>\n",
       "      <th></th>\n",
       "      <th></th>\n",
       "      <th></th>\n",
       "      <th></th>\n",
       "      <th></th>\n",
       "    </tr>\n",
       "  </thead>\n",
       "  <tbody>\n",
       "    <tr>\n",
       "      <th>0.0</th>\n",
       "      <td>1591.0</td>\n",
       "      <td>2.510371</td>\n",
       "      <td>2.719089</td>\n",
       "      <td>0.0</td>\n",
       "      <td>0.0</td>\n",
       "      <td>0.0</td>\n",
       "      <td>6.0</td>\n",
       "      <td>9.0</td>\n",
       "    </tr>\n",
       "    <tr>\n",
       "      <th>1.0</th>\n",
       "      <td>14250.0</td>\n",
       "      <td>3.723368</td>\n",
       "      <td>1.395015</td>\n",
       "      <td>0.0</td>\n",
       "      <td>3.0</td>\n",
       "      <td>3.0</td>\n",
       "      <td>4.0</td>\n",
       "      <td>9.0</td>\n",
       "    </tr>\n",
       "  </tbody>\n",
       "</table>\n",
       "</div>"
      ],
      "text/plain": [
       "                   count      mean       std  min  25%  50%  75%  max\n",
       "inscrito_actual                                                      \n",
       "0.0               1591.0  2.510371  2.719089  0.0  0.0  0.0  6.0  9.0\n",
       "1.0              14250.0  3.723368  1.395015  0.0  3.0  3.0  4.0  9.0"
      ]
     },
     "metadata": {},
     "output_type": "display_data"
    },
    {
     "data": {
      "text/plain": [
       "'terminado'"
      ]
     },
     "metadata": {},
     "output_type": "display_data"
    },
    {
     "data": {
      "text/html": [
       "<div>\n",
       "<style scoped>\n",
       "    .dataframe tbody tr th:only-of-type {\n",
       "        vertical-align: middle;\n",
       "    }\n",
       "\n",
       "    .dataframe tbody tr th {\n",
       "        vertical-align: top;\n",
       "    }\n",
       "\n",
       "    .dataframe thead th {\n",
       "        text-align: right;\n",
       "    }\n",
       "</style>\n",
       "<table border=\"1\" class=\"dataframe\">\n",
       "  <thead>\n",
       "    <tr style=\"text-align: right;\">\n",
       "      <th></th>\n",
       "      <th>count</th>\n",
       "      <th>mean</th>\n",
       "      <th>std</th>\n",
       "      <th>min</th>\n",
       "      <th>25%</th>\n",
       "      <th>50%</th>\n",
       "      <th>75%</th>\n",
       "      <th>max</th>\n",
       "    </tr>\n",
       "    <tr>\n",
       "      <th>inscrito_actual</th>\n",
       "      <th></th>\n",
       "      <th></th>\n",
       "      <th></th>\n",
       "      <th></th>\n",
       "      <th></th>\n",
       "      <th></th>\n",
       "      <th></th>\n",
       "      <th></th>\n",
       "    </tr>\n",
       "  </thead>\n",
       "  <tbody>\n",
       "    <tr>\n",
       "      <th>0.0</th>\n",
       "      <td>787.0</td>\n",
       "      <td>0.824651</td>\n",
       "      <td>0.380508</td>\n",
       "      <td>0.0</td>\n",
       "      <td>1.0</td>\n",
       "      <td>1.0</td>\n",
       "      <td>1.0</td>\n",
       "      <td>1.0</td>\n",
       "    </tr>\n",
       "    <tr>\n",
       "      <th>1.0</th>\n",
       "      <td>14031.0</td>\n",
       "      <td>0.993799</td>\n",
       "      <td>0.078502</td>\n",
       "      <td>0.0</td>\n",
       "      <td>1.0</td>\n",
       "      <td>1.0</td>\n",
       "      <td>1.0</td>\n",
       "      <td>1.0</td>\n",
       "    </tr>\n",
       "  </tbody>\n",
       "</table>\n",
       "</div>"
      ],
      "text/plain": [
       "                   count      mean       std  min  25%  50%  75%  max\n",
       "inscrito_actual                                                      \n",
       "0.0                787.0  0.824651  0.380508  0.0  1.0  1.0  1.0  1.0\n",
       "1.0              14031.0  0.993799  0.078502  0.0  1.0  1.0  1.0  1.0"
      ]
     },
     "metadata": {},
     "output_type": "display_data"
    },
    {
     "data": {
      "text/plain": [
       "'nt_causa'"
      ]
     },
     "metadata": {},
     "output_type": "display_data"
    },
    {
     "data": {
      "text/html": [
       "<div>\n",
       "<style scoped>\n",
       "    .dataframe tbody tr th:only-of-type {\n",
       "        vertical-align: middle;\n",
       "    }\n",
       "\n",
       "    .dataframe tbody tr th {\n",
       "        vertical-align: top;\n",
       "    }\n",
       "\n",
       "    .dataframe thead th {\n",
       "        text-align: right;\n",
       "    }\n",
       "</style>\n",
       "<table border=\"1\" class=\"dataframe\">\n",
       "  <thead>\n",
       "    <tr style=\"text-align: right;\">\n",
       "      <th></th>\n",
       "      <th>count</th>\n",
       "      <th>mean</th>\n",
       "      <th>std</th>\n",
       "      <th>min</th>\n",
       "      <th>25%</th>\n",
       "      <th>50%</th>\n",
       "      <th>75%</th>\n",
       "      <th>max</th>\n",
       "    </tr>\n",
       "    <tr>\n",
       "      <th>inscrito_actual</th>\n",
       "      <th></th>\n",
       "      <th></th>\n",
       "      <th></th>\n",
       "      <th></th>\n",
       "      <th></th>\n",
       "      <th></th>\n",
       "      <th></th>\n",
       "      <th></th>\n",
       "    </tr>\n",
       "  </thead>\n",
       "  <tbody>\n",
       "    <tr>\n",
       "      <th>0.0</th>\n",
       "      <td>1591.0</td>\n",
       "      <td>0.409177</td>\n",
       "      <td>1.606713</td>\n",
       "      <td>0.0</td>\n",
       "      <td>0.0</td>\n",
       "      <td>0.0</td>\n",
       "      <td>0.0</td>\n",
       "      <td>14.0</td>\n",
       "    </tr>\n",
       "    <tr>\n",
       "      <th>1.0</th>\n",
       "      <td>14250.0</td>\n",
       "      <td>0.030877</td>\n",
       "      <td>0.468415</td>\n",
       "      <td>0.0</td>\n",
       "      <td>0.0</td>\n",
       "      <td>0.0</td>\n",
       "      <td>0.0</td>\n",
       "      <td>14.0</td>\n",
       "    </tr>\n",
       "  </tbody>\n",
       "</table>\n",
       "</div>"
      ],
      "text/plain": [
       "                   count      mean       std  min  25%  50%  75%   max\n",
       "inscrito_actual                                                       \n",
       "0.0               1591.0  0.409177  1.606713  0.0  0.0  0.0  0.0  14.0\n",
       "1.0              14250.0  0.030877  0.468415  0.0  0.0  0.0  0.0  14.0"
      ]
     },
     "metadata": {},
     "output_type": "display_data"
    },
    {
     "data": {
      "text/plain": [
       "'asesorias'"
      ]
     },
     "metadata": {},
     "output_type": "display_data"
    },
    {
     "data": {
      "text/html": [
       "<div>\n",
       "<style scoped>\n",
       "    .dataframe tbody tr th:only-of-type {\n",
       "        vertical-align: middle;\n",
       "    }\n",
       "\n",
       "    .dataframe tbody tr th {\n",
       "        vertical-align: top;\n",
       "    }\n",
       "\n",
       "    .dataframe thead th {\n",
       "        text-align: right;\n",
       "    }\n",
       "</style>\n",
       "<table border=\"1\" class=\"dataframe\">\n",
       "  <thead>\n",
       "    <tr style=\"text-align: right;\">\n",
       "      <th></th>\n",
       "      <th>count</th>\n",
       "      <th>mean</th>\n",
       "      <th>std</th>\n",
       "      <th>min</th>\n",
       "      <th>25%</th>\n",
       "      <th>50%</th>\n",
       "      <th>75%</th>\n",
       "      <th>max</th>\n",
       "    </tr>\n",
       "    <tr>\n",
       "      <th>inscrito_actual</th>\n",
       "      <th></th>\n",
       "      <th></th>\n",
       "      <th></th>\n",
       "      <th></th>\n",
       "      <th></th>\n",
       "      <th></th>\n",
       "      <th></th>\n",
       "      <th></th>\n",
       "    </tr>\n",
       "  </thead>\n",
       "  <tbody>\n",
       "    <tr>\n",
       "      <th>0.0</th>\n",
       "      <td>627.0</td>\n",
       "      <td>0.141946</td>\n",
       "      <td>0.349273</td>\n",
       "      <td>0.0</td>\n",
       "      <td>0.0</td>\n",
       "      <td>0.0</td>\n",
       "      <td>0.0</td>\n",
       "      <td>1.0</td>\n",
       "    </tr>\n",
       "    <tr>\n",
       "      <th>1.0</th>\n",
       "      <td>12834.0</td>\n",
       "      <td>0.115864</td>\n",
       "      <td>0.320074</td>\n",
       "      <td>0.0</td>\n",
       "      <td>0.0</td>\n",
       "      <td>0.0</td>\n",
       "      <td>0.0</td>\n",
       "      <td>1.0</td>\n",
       "    </tr>\n",
       "  </tbody>\n",
       "</table>\n",
       "</div>"
      ],
      "text/plain": [
       "                   count      mean       std  min  25%  50%  75%  max\n",
       "inscrito_actual                                                      \n",
       "0.0                627.0  0.141946  0.349273  0.0  0.0  0.0  0.0  1.0\n",
       "1.0              12834.0  0.115864  0.320074  0.0  0.0  0.0  0.0  1.0"
      ]
     },
     "metadata": {},
     "output_type": "display_data"
    },
    {
     "data": {
      "text/plain": [
       "'extraord'"
      ]
     },
     "metadata": {},
     "output_type": "display_data"
    },
    {
     "data": {
      "text/html": [
       "<div>\n",
       "<style scoped>\n",
       "    .dataframe tbody tr th:only-of-type {\n",
       "        vertical-align: middle;\n",
       "    }\n",
       "\n",
       "    .dataframe tbody tr th {\n",
       "        vertical-align: top;\n",
       "    }\n",
       "\n",
       "    .dataframe thead th {\n",
       "        text-align: right;\n",
       "    }\n",
       "</style>\n",
       "<table border=\"1\" class=\"dataframe\">\n",
       "  <thead>\n",
       "    <tr style=\"text-align: right;\">\n",
       "      <th></th>\n",
       "      <th>count</th>\n",
       "      <th>mean</th>\n",
       "      <th>std</th>\n",
       "      <th>min</th>\n",
       "      <th>25%</th>\n",
       "      <th>50%</th>\n",
       "      <th>75%</th>\n",
       "      <th>max</th>\n",
       "    </tr>\n",
       "    <tr>\n",
       "      <th>inscrito_actual</th>\n",
       "      <th></th>\n",
       "      <th></th>\n",
       "      <th></th>\n",
       "      <th></th>\n",
       "      <th></th>\n",
       "      <th></th>\n",
       "      <th></th>\n",
       "      <th></th>\n",
       "    </tr>\n",
       "  </thead>\n",
       "  <tbody>\n",
       "    <tr>\n",
       "      <th>0.0</th>\n",
       "      <td>540.0</td>\n",
       "      <td>0.159259</td>\n",
       "      <td>0.366257</td>\n",
       "      <td>0.0</td>\n",
       "      <td>0.0</td>\n",
       "      <td>0.0</td>\n",
       "      <td>0.0</td>\n",
       "      <td>1.0</td>\n",
       "    </tr>\n",
       "    <tr>\n",
       "      <th>1.0</th>\n",
       "      <td>5851.0</td>\n",
       "      <td>0.080841</td>\n",
       "      <td>0.272614</td>\n",
       "      <td>0.0</td>\n",
       "      <td>0.0</td>\n",
       "      <td>0.0</td>\n",
       "      <td>0.0</td>\n",
       "      <td>1.0</td>\n",
       "    </tr>\n",
       "  </tbody>\n",
       "</table>\n",
       "</div>"
      ],
      "text/plain": [
       "                  count      mean       std  min  25%  50%  75%  max\n",
       "inscrito_actual                                                     \n",
       "0.0               540.0  0.159259  0.366257  0.0  0.0  0.0  0.0  1.0\n",
       "1.0              5851.0  0.080841  0.272614  0.0  0.0  0.0  0.0  1.0"
      ]
     },
     "metadata": {},
     "output_type": "display_data"
    },
    {
     "data": {
      "text/plain": [
       "'recursado'"
      ]
     },
     "metadata": {},
     "output_type": "display_data"
    },
    {
     "data": {
      "text/html": [
       "<div>\n",
       "<style scoped>\n",
       "    .dataframe tbody tr th:only-of-type {\n",
       "        vertical-align: middle;\n",
       "    }\n",
       "\n",
       "    .dataframe tbody tr th {\n",
       "        vertical-align: top;\n",
       "    }\n",
       "\n",
       "    .dataframe thead th {\n",
       "        text-align: right;\n",
       "    }\n",
       "</style>\n",
       "<table border=\"1\" class=\"dataframe\">\n",
       "  <thead>\n",
       "    <tr style=\"text-align: right;\">\n",
       "      <th></th>\n",
       "      <th>count</th>\n",
       "      <th>mean</th>\n",
       "      <th>std</th>\n",
       "      <th>min</th>\n",
       "      <th>25%</th>\n",
       "      <th>50%</th>\n",
       "      <th>75%</th>\n",
       "      <th>max</th>\n",
       "    </tr>\n",
       "    <tr>\n",
       "      <th>inscrito_actual</th>\n",
       "      <th></th>\n",
       "      <th></th>\n",
       "      <th></th>\n",
       "      <th></th>\n",
       "      <th></th>\n",
       "      <th></th>\n",
       "      <th></th>\n",
       "      <th></th>\n",
       "    </tr>\n",
       "  </thead>\n",
       "  <tbody>\n",
       "    <tr>\n",
       "      <th>0.0</th>\n",
       "      <td>537.0</td>\n",
       "      <td>0.080074</td>\n",
       "      <td>0.271662</td>\n",
       "      <td>0.0</td>\n",
       "      <td>0.0</td>\n",
       "      <td>0.0</td>\n",
       "      <td>0.0</td>\n",
       "      <td>1.0</td>\n",
       "    </tr>\n",
       "    <tr>\n",
       "      <th>1.0</th>\n",
       "      <td>5855.0</td>\n",
       "      <td>0.032280</td>\n",
       "      <td>0.176758</td>\n",
       "      <td>0.0</td>\n",
       "      <td>0.0</td>\n",
       "      <td>0.0</td>\n",
       "      <td>0.0</td>\n",
       "      <td>1.0</td>\n",
       "    </tr>\n",
       "  </tbody>\n",
       "</table>\n",
       "</div>"
      ],
      "text/plain": [
       "                  count      mean       std  min  25%  50%  75%  max\n",
       "inscrito_actual                                                     \n",
       "0.0               537.0  0.080074  0.271662  0.0  0.0  0.0  0.0  1.0\n",
       "1.0              5855.0  0.032280  0.176758  0.0  0.0  0.0  0.0  1.0"
      ]
     },
     "metadata": {},
     "output_type": "display_data"
    },
    {
     "data": {
      "text/plain": [
       "'ev_digital'"
      ]
     },
     "metadata": {},
     "output_type": "display_data"
    },
    {
     "data": {
      "text/html": [
       "<div>\n",
       "<style scoped>\n",
       "    .dataframe tbody tr th:only-of-type {\n",
       "        vertical-align: middle;\n",
       "    }\n",
       "\n",
       "    .dataframe tbody tr th {\n",
       "        vertical-align: top;\n",
       "    }\n",
       "\n",
       "    .dataframe thead th {\n",
       "        text-align: right;\n",
       "    }\n",
       "</style>\n",
       "<table border=\"1\" class=\"dataframe\">\n",
       "  <thead>\n",
       "    <tr style=\"text-align: right;\">\n",
       "      <th></th>\n",
       "      <th>count</th>\n",
       "      <th>mean</th>\n",
       "      <th>std</th>\n",
       "      <th>min</th>\n",
       "      <th>25%</th>\n",
       "      <th>50%</th>\n",
       "      <th>75%</th>\n",
       "      <th>max</th>\n",
       "    </tr>\n",
       "    <tr>\n",
       "      <th>inscrito_actual</th>\n",
       "      <th></th>\n",
       "      <th></th>\n",
       "      <th></th>\n",
       "      <th></th>\n",
       "      <th></th>\n",
       "      <th></th>\n",
       "      <th></th>\n",
       "      <th></th>\n",
       "    </tr>\n",
       "  </thead>\n",
       "  <tbody>\n",
       "    <tr>\n",
       "      <th>0.0</th>\n",
       "      <td>649.0</td>\n",
       "      <td>0.277350</td>\n",
       "      <td>0.448036</td>\n",
       "      <td>0.0</td>\n",
       "      <td>0.0</td>\n",
       "      <td>0.0</td>\n",
       "      <td>1.0</td>\n",
       "      <td>1.0</td>\n",
       "    </tr>\n",
       "    <tr>\n",
       "      <th>1.0</th>\n",
       "      <td>13944.0</td>\n",
       "      <td>0.324943</td>\n",
       "      <td>0.468370</td>\n",
       "      <td>0.0</td>\n",
       "      <td>0.0</td>\n",
       "      <td>0.0</td>\n",
       "      <td>1.0</td>\n",
       "      <td>1.0</td>\n",
       "    </tr>\n",
       "  </tbody>\n",
       "</table>\n",
       "</div>"
      ],
      "text/plain": [
       "                   count      mean       std  min  25%  50%  75%  max\n",
       "inscrito_actual                                                      \n",
       "0.0                649.0  0.277350  0.448036  0.0  0.0  0.0  1.0  1.0\n",
       "1.0              13944.0  0.324943  0.468370  0.0  0.0  0.0  1.0  1.0"
      ]
     },
     "metadata": {},
     "output_type": "display_data"
    },
    {
     "data": {
      "text/plain": [
       "'inscrito_actual'"
      ]
     },
     "metadata": {},
     "output_type": "display_data"
    },
    {
     "data": {
      "text/html": [
       "<div>\n",
       "<style scoped>\n",
       "    .dataframe tbody tr th:only-of-type {\n",
       "        vertical-align: middle;\n",
       "    }\n",
       "\n",
       "    .dataframe tbody tr th {\n",
       "        vertical-align: top;\n",
       "    }\n",
       "\n",
       "    .dataframe thead th {\n",
       "        text-align: right;\n",
       "    }\n",
       "</style>\n",
       "<table border=\"1\" class=\"dataframe\">\n",
       "  <thead>\n",
       "    <tr style=\"text-align: right;\">\n",
       "      <th></th>\n",
       "      <th>count</th>\n",
       "      <th>mean</th>\n",
       "      <th>std</th>\n",
       "      <th>min</th>\n",
       "      <th>25%</th>\n",
       "      <th>50%</th>\n",
       "      <th>75%</th>\n",
       "      <th>max</th>\n",
       "    </tr>\n",
       "    <tr>\n",
       "      <th>inscrito_actual</th>\n",
       "      <th></th>\n",
       "      <th></th>\n",
       "      <th></th>\n",
       "      <th></th>\n",
       "      <th></th>\n",
       "      <th></th>\n",
       "      <th></th>\n",
       "      <th></th>\n",
       "    </tr>\n",
       "  </thead>\n",
       "  <tbody>\n",
       "    <tr>\n",
       "      <th>0.0</th>\n",
       "      <td>1591.0</td>\n",
       "      <td>0.0</td>\n",
       "      <td>0.0</td>\n",
       "      <td>0.0</td>\n",
       "      <td>0.0</td>\n",
       "      <td>0.0</td>\n",
       "      <td>0.0</td>\n",
       "      <td>0.0</td>\n",
       "    </tr>\n",
       "    <tr>\n",
       "      <th>1.0</th>\n",
       "      <td>14250.0</td>\n",
       "      <td>1.0</td>\n",
       "      <td>0.0</td>\n",
       "      <td>1.0</td>\n",
       "      <td>1.0</td>\n",
       "      <td>1.0</td>\n",
       "      <td>1.0</td>\n",
       "      <td>1.0</td>\n",
       "    </tr>\n",
       "  </tbody>\n",
       "</table>\n",
       "</div>"
      ],
      "text/plain": [
       "                   count  mean  std  min  25%  50%  75%  max\n",
       "inscrito_actual                                             \n",
       "0.0               1591.0   0.0  0.0  0.0  0.0  0.0  0.0  0.0\n",
       "1.0              14250.0   1.0  0.0  1.0  1.0  1.0  1.0  1.0"
      ]
     },
     "metadata": {},
     "output_type": "display_data"
    },
    {
     "data": {
      "text/plain": [
       "'nins_causa'"
      ]
     },
     "metadata": {},
     "output_type": "display_data"
    },
    {
     "data": {
      "text/html": [
       "<div>\n",
       "<style scoped>\n",
       "    .dataframe tbody tr th:only-of-type {\n",
       "        vertical-align: middle;\n",
       "    }\n",
       "\n",
       "    .dataframe tbody tr th {\n",
       "        vertical-align: top;\n",
       "    }\n",
       "\n",
       "    .dataframe thead th {\n",
       "        text-align: right;\n",
       "    }\n",
       "</style>\n",
       "<table border=\"1\" class=\"dataframe\">\n",
       "  <thead>\n",
       "    <tr style=\"text-align: right;\">\n",
       "      <th></th>\n",
       "      <th>count</th>\n",
       "      <th>mean</th>\n",
       "      <th>std</th>\n",
       "      <th>min</th>\n",
       "      <th>25%</th>\n",
       "      <th>50%</th>\n",
       "      <th>75%</th>\n",
       "      <th>max</th>\n",
       "    </tr>\n",
       "    <tr>\n",
       "      <th>inscrito_actual</th>\n",
       "      <th></th>\n",
       "      <th></th>\n",
       "      <th></th>\n",
       "      <th></th>\n",
       "      <th></th>\n",
       "      <th></th>\n",
       "      <th></th>\n",
       "      <th></th>\n",
       "    </tr>\n",
       "  </thead>\n",
       "  <tbody>\n",
       "    <tr>\n",
       "      <th>0.0</th>\n",
       "      <td>1591.0</td>\n",
       "      <td>5.226901</td>\n",
       "      <td>4.470525</td>\n",
       "      <td>1.0</td>\n",
       "      <td>2.0</td>\n",
       "      <td>3.0</td>\n",
       "      <td>8.0</td>\n",
       "      <td>15.0</td>\n",
       "    </tr>\n",
       "    <tr>\n",
       "      <th>1.0</th>\n",
       "      <td>14250.0</td>\n",
       "      <td>0.000000</td>\n",
       "      <td>0.000000</td>\n",
       "      <td>0.0</td>\n",
       "      <td>0.0</td>\n",
       "      <td>0.0</td>\n",
       "      <td>0.0</td>\n",
       "      <td>0.0</td>\n",
       "    </tr>\n",
       "  </tbody>\n",
       "</table>\n",
       "</div>"
      ],
      "text/plain": [
       "                   count      mean       std  min  25%  50%  75%   max\n",
       "inscrito_actual                                                       \n",
       "0.0               1591.0  5.226901  4.470525  1.0  2.0  3.0  8.0  15.0\n",
       "1.0              14250.0  0.000000  0.000000  0.0  0.0  0.0  0.0   0.0"
      ]
     },
     "metadata": {},
     "output_type": "display_data"
    },
    {
     "data": {
      "text/plain": [
       "'med_presencial'"
      ]
     },
     "metadata": {},
     "output_type": "display_data"
    },
    {
     "data": {
      "text/html": [
       "<div>\n",
       "<style scoped>\n",
       "    .dataframe tbody tr th:only-of-type {\n",
       "        vertical-align: middle;\n",
       "    }\n",
       "\n",
       "    .dataframe tbody tr th {\n",
       "        vertical-align: top;\n",
       "    }\n",
       "\n",
       "    .dataframe thead th {\n",
       "        text-align: right;\n",
       "    }\n",
       "</style>\n",
       "<table border=\"1\" class=\"dataframe\">\n",
       "  <thead>\n",
       "    <tr style=\"text-align: right;\">\n",
       "      <th></th>\n",
       "      <th>count</th>\n",
       "      <th>mean</th>\n",
       "      <th>std</th>\n",
       "      <th>min</th>\n",
       "      <th>25%</th>\n",
       "      <th>50%</th>\n",
       "      <th>75%</th>\n",
       "      <th>max</th>\n",
       "    </tr>\n",
       "    <tr>\n",
       "      <th>inscrito_actual</th>\n",
       "      <th></th>\n",
       "      <th></th>\n",
       "      <th></th>\n",
       "      <th></th>\n",
       "      <th></th>\n",
       "      <th></th>\n",
       "      <th></th>\n",
       "      <th></th>\n",
       "    </tr>\n",
       "  </thead>\n",
       "  <tbody>\n",
       "    <tr>\n",
       "      <th>0.0</th>\n",
       "      <td>0.0</td>\n",
       "      <td>NaN</td>\n",
       "      <td>NaN</td>\n",
       "      <td>NaN</td>\n",
       "      <td>NaN</td>\n",
       "      <td>NaN</td>\n",
       "      <td>NaN</td>\n",
       "      <td>NaN</td>\n",
       "    </tr>\n",
       "    <tr>\n",
       "      <th>1.0</th>\n",
       "      <td>14239.0</td>\n",
       "      <td>0.41604</td>\n",
       "      <td>0.492918</td>\n",
       "      <td>0.0</td>\n",
       "      <td>0.0</td>\n",
       "      <td>0.0</td>\n",
       "      <td>1.0</td>\n",
       "      <td>1.0</td>\n",
       "    </tr>\n",
       "  </tbody>\n",
       "</table>\n",
       "</div>"
      ],
      "text/plain": [
       "                   count     mean       std  min  25%  50%  75%  max\n",
       "inscrito_actual                                                     \n",
       "0.0                  0.0      NaN       NaN  NaN  NaN  NaN  NaN  NaN\n",
       "1.0              14239.0  0.41604  0.492918  0.0  0.0  0.0  1.0  1.0"
      ]
     },
     "metadata": {},
     "output_type": "display_data"
    },
    {
     "data": {
      "text/plain": [
       "'t_horas'"
      ]
     },
     "metadata": {},
     "output_type": "display_data"
    },
    {
     "data": {
      "text/html": [
       "<div>\n",
       "<style scoped>\n",
       "    .dataframe tbody tr th:only-of-type {\n",
       "        vertical-align: middle;\n",
       "    }\n",
       "\n",
       "    .dataframe tbody tr th {\n",
       "        vertical-align: top;\n",
       "    }\n",
       "\n",
       "    .dataframe thead th {\n",
       "        text-align: right;\n",
       "    }\n",
       "</style>\n",
       "<table border=\"1\" class=\"dataframe\">\n",
       "  <thead>\n",
       "    <tr style=\"text-align: right;\">\n",
       "      <th></th>\n",
       "      <th>count</th>\n",
       "      <th>mean</th>\n",
       "      <th>std</th>\n",
       "      <th>min</th>\n",
       "      <th>25%</th>\n",
       "      <th>50%</th>\n",
       "      <th>75%</th>\n",
       "      <th>max</th>\n",
       "    </tr>\n",
       "    <tr>\n",
       "      <th>inscrito_actual</th>\n",
       "      <th></th>\n",
       "      <th></th>\n",
       "      <th></th>\n",
       "      <th></th>\n",
       "      <th></th>\n",
       "      <th></th>\n",
       "      <th></th>\n",
       "      <th></th>\n",
       "    </tr>\n",
       "  </thead>\n",
       "  <tbody>\n",
       "    <tr>\n",
       "      <th>0.0</th>\n",
       "      <td>1591.0</td>\n",
       "      <td>0.000000</td>\n",
       "      <td>0.000000</td>\n",
       "      <td>0.0</td>\n",
       "      <td>0.0</td>\n",
       "      <td>0.0</td>\n",
       "      <td>0.0</td>\n",
       "      <td>0.0</td>\n",
       "    </tr>\n",
       "    <tr>\n",
       "      <th>1.0</th>\n",
       "      <td>14243.0</td>\n",
       "      <td>5.166327</td>\n",
       "      <td>5.693556</td>\n",
       "      <td>0.0</td>\n",
       "      <td>0.0</td>\n",
       "      <td>4.0</td>\n",
       "      <td>10.0</td>\n",
       "      <td>60.0</td>\n",
       "    </tr>\n",
       "  </tbody>\n",
       "</table>\n",
       "</div>"
      ],
      "text/plain": [
       "                   count      mean       std  min  25%  50%   75%   max\n",
       "inscrito_actual                                                        \n",
       "0.0               1591.0  0.000000  0.000000  0.0  0.0  0.0   0.0   0.0\n",
       "1.0              14243.0  5.166327  5.693556  0.0  0.0  4.0  10.0  60.0"
      ]
     },
     "metadata": {},
     "output_type": "display_data"
    },
    {
     "data": {
      "text/plain": [
       "'max_nivel_esp'"
      ]
     },
     "metadata": {},
     "output_type": "display_data"
    },
    {
     "data": {
      "text/html": [
       "<div>\n",
       "<style scoped>\n",
       "    .dataframe tbody tr th:only-of-type {\n",
       "        vertical-align: middle;\n",
       "    }\n",
       "\n",
       "    .dataframe tbody tr th {\n",
       "        vertical-align: top;\n",
       "    }\n",
       "\n",
       "    .dataframe thead th {\n",
       "        text-align: right;\n",
       "    }\n",
       "</style>\n",
       "<table border=\"1\" class=\"dataframe\">\n",
       "  <thead>\n",
       "    <tr style=\"text-align: right;\">\n",
       "      <th></th>\n",
       "      <th>count</th>\n",
       "      <th>mean</th>\n",
       "      <th>std</th>\n",
       "      <th>min</th>\n",
       "      <th>25%</th>\n",
       "      <th>50%</th>\n",
       "      <th>75%</th>\n",
       "      <th>max</th>\n",
       "    </tr>\n",
       "    <tr>\n",
       "      <th>inscrito_actual</th>\n",
       "      <th></th>\n",
       "      <th></th>\n",
       "      <th></th>\n",
       "      <th></th>\n",
       "      <th></th>\n",
       "      <th></th>\n",
       "      <th></th>\n",
       "      <th></th>\n",
       "    </tr>\n",
       "  </thead>\n",
       "  <tbody>\n",
       "    <tr>\n",
       "      <th>0.0</th>\n",
       "      <td>1591.0</td>\n",
       "      <td>0.000000</td>\n",
       "      <td>0.000000</td>\n",
       "      <td>0.0</td>\n",
       "      <td>0.0</td>\n",
       "      <td>0.0</td>\n",
       "      <td>0.0</td>\n",
       "      <td>0.0</td>\n",
       "    </tr>\n",
       "    <tr>\n",
       "      <th>1.0</th>\n",
       "      <td>14250.0</td>\n",
       "      <td>6.315088</td>\n",
       "      <td>2.118651</td>\n",
       "      <td>0.0</td>\n",
       "      <td>7.0</td>\n",
       "      <td>7.0</td>\n",
       "      <td>7.0</td>\n",
       "      <td>8.0</td>\n",
       "    </tr>\n",
       "  </tbody>\n",
       "</table>\n",
       "</div>"
      ],
      "text/plain": [
       "                   count      mean       std  min  25%  50%  75%  max\n",
       "inscrito_actual                                                      \n",
       "0.0               1591.0  0.000000  0.000000  0.0  0.0  0.0  0.0  0.0\n",
       "1.0              14250.0  6.315088  2.118651  0.0  7.0  7.0  7.0  8.0"
      ]
     },
     "metadata": {},
     "output_type": "display_data"
    },
    {
     "data": {
      "text/plain": [
       "'q_hombres'"
      ]
     },
     "metadata": {},
     "output_type": "display_data"
    },
    {
     "data": {
      "text/html": [
       "<div>\n",
       "<style scoped>\n",
       "    .dataframe tbody tr th:only-of-type {\n",
       "        vertical-align: middle;\n",
       "    }\n",
       "\n",
       "    .dataframe tbody tr th {\n",
       "        vertical-align: top;\n",
       "    }\n",
       "\n",
       "    .dataframe thead th {\n",
       "        text-align: right;\n",
       "    }\n",
       "</style>\n",
       "<table border=\"1\" class=\"dataframe\">\n",
       "  <thead>\n",
       "    <tr style=\"text-align: right;\">\n",
       "      <th></th>\n",
       "      <th>count</th>\n",
       "      <th>mean</th>\n",
       "      <th>std</th>\n",
       "      <th>min</th>\n",
       "      <th>25%</th>\n",
       "      <th>50%</th>\n",
       "      <th>75%</th>\n",
       "      <th>max</th>\n",
       "    </tr>\n",
       "    <tr>\n",
       "      <th>inscrito_actual</th>\n",
       "      <th></th>\n",
       "      <th></th>\n",
       "      <th></th>\n",
       "      <th></th>\n",
       "      <th></th>\n",
       "      <th></th>\n",
       "      <th></th>\n",
       "      <th></th>\n",
       "    </tr>\n",
       "  </thead>\n",
       "  <tbody>\n",
       "    <tr>\n",
       "      <th>0.0</th>\n",
       "      <td>1591.0</td>\n",
       "      <td>2.738529</td>\n",
       "      <td>1.388911</td>\n",
       "      <td>0.0</td>\n",
       "      <td>2.0</td>\n",
       "      <td>3.0</td>\n",
       "      <td>4.0</td>\n",
       "      <td>9.0</td>\n",
       "    </tr>\n",
       "    <tr>\n",
       "      <th>1.0</th>\n",
       "      <td>14250.0</td>\n",
       "      <td>2.509193</td>\n",
       "      <td>1.296337</td>\n",
       "      <td>0.0</td>\n",
       "      <td>2.0</td>\n",
       "      <td>2.0</td>\n",
       "      <td>3.0</td>\n",
       "      <td>12.0</td>\n",
       "    </tr>\n",
       "  </tbody>\n",
       "</table>\n",
       "</div>"
      ],
      "text/plain": [
       "                   count      mean       std  min  25%  50%  75%   max\n",
       "inscrito_actual                                                       \n",
       "0.0               1591.0  2.738529  1.388911  0.0  2.0  3.0  4.0   9.0\n",
       "1.0              14250.0  2.509193  1.296337  0.0  2.0  2.0  3.0  12.0"
      ]
     },
     "metadata": {},
     "output_type": "display_data"
    },
    {
     "data": {
      "text/plain": [
       "'q_mujeres'"
      ]
     },
     "metadata": {},
     "output_type": "display_data"
    },
    {
     "data": {
      "text/html": [
       "<div>\n",
       "<style scoped>\n",
       "    .dataframe tbody tr th:only-of-type {\n",
       "        vertical-align: middle;\n",
       "    }\n",
       "\n",
       "    .dataframe tbody tr th {\n",
       "        vertical-align: top;\n",
       "    }\n",
       "\n",
       "    .dataframe thead th {\n",
       "        text-align: right;\n",
       "    }\n",
       "</style>\n",
       "<table border=\"1\" class=\"dataframe\">\n",
       "  <thead>\n",
       "    <tr style=\"text-align: right;\">\n",
       "      <th></th>\n",
       "      <th>count</th>\n",
       "      <th>mean</th>\n",
       "      <th>std</th>\n",
       "      <th>min</th>\n",
       "      <th>25%</th>\n",
       "      <th>50%</th>\n",
       "      <th>75%</th>\n",
       "      <th>max</th>\n",
       "    </tr>\n",
       "    <tr>\n",
       "      <th>inscrito_actual</th>\n",
       "      <th></th>\n",
       "      <th></th>\n",
       "      <th></th>\n",
       "      <th></th>\n",
       "      <th></th>\n",
       "      <th></th>\n",
       "      <th></th>\n",
       "      <th></th>\n",
       "    </tr>\n",
       "  </thead>\n",
       "  <tbody>\n",
       "    <tr>\n",
       "      <th>0.0</th>\n",
       "      <td>1591.0</td>\n",
       "      <td>2.721559</td>\n",
       "      <td>1.515880</td>\n",
       "      <td>0.0</td>\n",
       "      <td>2.0</td>\n",
       "      <td>2.0</td>\n",
       "      <td>3.0</td>\n",
       "      <td>12.0</td>\n",
       "    </tr>\n",
       "    <tr>\n",
       "      <th>1.0</th>\n",
       "      <td>14250.0</td>\n",
       "      <td>2.733895</td>\n",
       "      <td>1.363916</td>\n",
       "      <td>0.0</td>\n",
       "      <td>2.0</td>\n",
       "      <td>3.0</td>\n",
       "      <td>3.0</td>\n",
       "      <td>12.0</td>\n",
       "    </tr>\n",
       "  </tbody>\n",
       "</table>\n",
       "</div>"
      ],
      "text/plain": [
       "                   count      mean       std  min  25%  50%  75%   max\n",
       "inscrito_actual                                                       \n",
       "0.0               1591.0  2.721559  1.515880  0.0  2.0  2.0  3.0  12.0\n",
       "1.0              14250.0  2.733895  1.363916  0.0  2.0  3.0  3.0  12.0"
      ]
     },
     "metadata": {},
     "output_type": "display_data"
    },
    {
     "data": {
      "text/plain": [
       "'InternetF'"
      ]
     },
     "metadata": {},
     "output_type": "display_data"
    },
    {
     "data": {
      "text/html": [
       "<div>\n",
       "<style scoped>\n",
       "    .dataframe tbody tr th:only-of-type {\n",
       "        vertical-align: middle;\n",
       "    }\n",
       "\n",
       "    .dataframe tbody tr th {\n",
       "        vertical-align: top;\n",
       "    }\n",
       "\n",
       "    .dataframe thead th {\n",
       "        text-align: right;\n",
       "    }\n",
       "</style>\n",
       "<table border=\"1\" class=\"dataframe\">\n",
       "  <thead>\n",
       "    <tr style=\"text-align: right;\">\n",
       "      <th></th>\n",
       "      <th>count</th>\n",
       "      <th>mean</th>\n",
       "      <th>std</th>\n",
       "      <th>min</th>\n",
       "      <th>25%</th>\n",
       "      <th>50%</th>\n",
       "      <th>75%</th>\n",
       "      <th>max</th>\n",
       "    </tr>\n",
       "    <tr>\n",
       "      <th>inscrito_actual</th>\n",
       "      <th></th>\n",
       "      <th></th>\n",
       "      <th></th>\n",
       "      <th></th>\n",
       "      <th></th>\n",
       "      <th></th>\n",
       "      <th></th>\n",
       "      <th></th>\n",
       "    </tr>\n",
       "  </thead>\n",
       "  <tbody>\n",
       "    <tr>\n",
       "      <th>0.0</th>\n",
       "      <td>1591.0</td>\n",
       "      <td>0.510999</td>\n",
       "      <td>0.500036</td>\n",
       "      <td>0.0</td>\n",
       "      <td>0.0</td>\n",
       "      <td>1.0</td>\n",
       "      <td>1.0</td>\n",
       "      <td>1.0</td>\n",
       "    </tr>\n",
       "    <tr>\n",
       "      <th>1.0</th>\n",
       "      <td>14250.0</td>\n",
       "      <td>0.720842</td>\n",
       "      <td>0.448601</td>\n",
       "      <td>0.0</td>\n",
       "      <td>0.0</td>\n",
       "      <td>1.0</td>\n",
       "      <td>1.0</td>\n",
       "      <td>1.0</td>\n",
       "    </tr>\n",
       "  </tbody>\n",
       "</table>\n",
       "</div>"
      ],
      "text/plain": [
       "                   count      mean       std  min  25%  50%  75%  max\n",
       "inscrito_actual                                                      \n",
       "0.0               1591.0  0.510999  0.500036  0.0  0.0  1.0  1.0  1.0\n",
       "1.0              14250.0  0.720842  0.448601  0.0  0.0  1.0  1.0  1.0"
      ]
     },
     "metadata": {},
     "output_type": "display_data"
    },
    {
     "data": {
      "text/plain": [
       "'FACTOR_y'"
      ]
     },
     "metadata": {},
     "output_type": "display_data"
    },
    {
     "data": {
      "text/html": [
       "<div>\n",
       "<style scoped>\n",
       "    .dataframe tbody tr th:only-of-type {\n",
       "        vertical-align: middle;\n",
       "    }\n",
       "\n",
       "    .dataframe tbody tr th {\n",
       "        vertical-align: top;\n",
       "    }\n",
       "\n",
       "    .dataframe thead th {\n",
       "        text-align: right;\n",
       "    }\n",
       "</style>\n",
       "<table border=\"1\" class=\"dataframe\">\n",
       "  <thead>\n",
       "    <tr style=\"text-align: right;\">\n",
       "      <th></th>\n",
       "      <th>count</th>\n",
       "      <th>mean</th>\n",
       "      <th>std</th>\n",
       "      <th>min</th>\n",
       "      <th>25%</th>\n",
       "      <th>50%</th>\n",
       "      <th>75%</th>\n",
       "      <th>max</th>\n",
       "    </tr>\n",
       "    <tr>\n",
       "      <th>inscrito_actual</th>\n",
       "      <th></th>\n",
       "      <th></th>\n",
       "      <th></th>\n",
       "      <th></th>\n",
       "      <th></th>\n",
       "      <th></th>\n",
       "      <th></th>\n",
       "      <th></th>\n",
       "    </tr>\n",
       "  </thead>\n",
       "  <tbody>\n",
       "    <tr>\n",
       "      <th>0.0</th>\n",
       "      <td>1591.0</td>\n",
       "      <td>2162.954745</td>\n",
       "      <td>2906.964069</td>\n",
       "      <td>12.0</td>\n",
       "      <td>668.5</td>\n",
       "      <td>1336.0</td>\n",
       "      <td>2518.0</td>\n",
       "      <td>34401.0</td>\n",
       "    </tr>\n",
       "    <tr>\n",
       "      <th>1.0</th>\n",
       "      <td>14249.0</td>\n",
       "      <td>1696.092849</td>\n",
       "      <td>2072.600792</td>\n",
       "      <td>33.0</td>\n",
       "      <td>590.0</td>\n",
       "      <td>1097.0</td>\n",
       "      <td>2020.0</td>\n",
       "      <td>34401.0</td>\n",
       "    </tr>\n",
       "  </tbody>\n",
       "</table>\n",
       "</div>"
      ],
      "text/plain": [
       "                   count         mean          std   min    25%     50%  \\\n",
       "inscrito_actual                                                           \n",
       "0.0               1591.0  2162.954745  2906.964069  12.0  668.5  1336.0   \n",
       "1.0              14249.0  1696.092849  2072.600792  33.0  590.0  1097.0   \n",
       "\n",
       "                    75%      max  \n",
       "inscrito_actual                   \n",
       "0.0              2518.0  34401.0  \n",
       "1.0              2020.0  34401.0  "
      ]
     },
     "metadata": {},
     "output_type": "display_data"
    },
    {
     "data": {
      "text/plain": [
       "'i_confidence_edu'"
      ]
     },
     "metadata": {},
     "output_type": "display_data"
    },
    {
     "data": {
      "text/html": [
       "<div>\n",
       "<style scoped>\n",
       "    .dataframe tbody tr th:only-of-type {\n",
       "        vertical-align: middle;\n",
       "    }\n",
       "\n",
       "    .dataframe tbody tr th {\n",
       "        vertical-align: top;\n",
       "    }\n",
       "\n",
       "    .dataframe thead th {\n",
       "        text-align: right;\n",
       "    }\n",
       "</style>\n",
       "<table border=\"1\" class=\"dataframe\">\n",
       "  <thead>\n",
       "    <tr style=\"text-align: right;\">\n",
       "      <th></th>\n",
       "      <th>count</th>\n",
       "      <th>mean</th>\n",
       "      <th>std</th>\n",
       "      <th>min</th>\n",
       "      <th>25%</th>\n",
       "      <th>50%</th>\n",
       "      <th>75%</th>\n",
       "      <th>max</th>\n",
       "    </tr>\n",
       "    <tr>\n",
       "      <th>inscrito_actual</th>\n",
       "      <th></th>\n",
       "      <th></th>\n",
       "      <th></th>\n",
       "      <th></th>\n",
       "      <th></th>\n",
       "      <th></th>\n",
       "      <th></th>\n",
       "      <th></th>\n",
       "    </tr>\n",
       "  </thead>\n",
       "  <tbody>\n",
       "    <tr>\n",
       "      <th>0.0</th>\n",
       "      <td>1591.0</td>\n",
       "      <td>0.597528</td>\n",
       "      <td>0.436903</td>\n",
       "      <td>0.0</td>\n",
       "      <td>0.0</td>\n",
       "      <td>0.666667</td>\n",
       "      <td>1.0</td>\n",
       "      <td>1.0</td>\n",
       "    </tr>\n",
       "    <tr>\n",
       "      <th>1.0</th>\n",
       "      <td>14250.0</td>\n",
       "      <td>0.633591</td>\n",
       "      <td>0.419275</td>\n",
       "      <td>0.0</td>\n",
       "      <td>0.0</td>\n",
       "      <td>0.666667</td>\n",
       "      <td>1.0</td>\n",
       "      <td>1.0</td>\n",
       "    </tr>\n",
       "  </tbody>\n",
       "</table>\n",
       "</div>"
      ],
      "text/plain": [
       "                   count      mean       std  min  25%       50%  75%  max\n",
       "inscrito_actual                                                           \n",
       "0.0               1591.0  0.597528  0.436903  0.0  0.0  0.666667  1.0  1.0\n",
       "1.0              14250.0  0.633591  0.419275  0.0  0.0  0.666667  1.0  1.0"
      ]
     },
     "metadata": {},
     "output_type": "display_data"
    },
    {
     "data": {
      "text/plain": [
       "'i_t_tec'"
      ]
     },
     "metadata": {},
     "output_type": "display_data"
    },
    {
     "data": {
      "text/html": [
       "<div>\n",
       "<style scoped>\n",
       "    .dataframe tbody tr th:only-of-type {\n",
       "        vertical-align: middle;\n",
       "    }\n",
       "\n",
       "    .dataframe tbody tr th {\n",
       "        vertical-align: top;\n",
       "    }\n",
       "\n",
       "    .dataframe thead th {\n",
       "        text-align: right;\n",
       "    }\n",
       "</style>\n",
       "<table border=\"1\" class=\"dataframe\">\n",
       "  <thead>\n",
       "    <tr style=\"text-align: right;\">\n",
       "      <th></th>\n",
       "      <th>count</th>\n",
       "      <th>mean</th>\n",
       "      <th>std</th>\n",
       "      <th>min</th>\n",
       "      <th>25%</th>\n",
       "      <th>50%</th>\n",
       "      <th>75%</th>\n",
       "      <th>max</th>\n",
       "    </tr>\n",
       "    <tr>\n",
       "      <th>inscrito_actual</th>\n",
       "      <th></th>\n",
       "      <th></th>\n",
       "      <th></th>\n",
       "      <th></th>\n",
       "      <th></th>\n",
       "      <th></th>\n",
       "      <th></th>\n",
       "      <th></th>\n",
       "    </tr>\n",
       "  </thead>\n",
       "  <tbody>\n",
       "    <tr>\n",
       "      <th>0.0</th>\n",
       "      <td>1591.0</td>\n",
       "      <td>0.000000</td>\n",
       "      <td>0.000000</td>\n",
       "      <td>0.0</td>\n",
       "      <td>0.0</td>\n",
       "      <td>0.0</td>\n",
       "      <td>0.0</td>\n",
       "      <td>0.0</td>\n",
       "    </tr>\n",
       "    <tr>\n",
       "      <th>1.0</th>\n",
       "      <td>14250.0</td>\n",
       "      <td>0.662316</td>\n",
       "      <td>0.472937</td>\n",
       "      <td>0.0</td>\n",
       "      <td>0.0</td>\n",
       "      <td>1.0</td>\n",
       "      <td>1.0</td>\n",
       "      <td>1.0</td>\n",
       "    </tr>\n",
       "  </tbody>\n",
       "</table>\n",
       "</div>"
      ],
      "text/plain": [
       "                   count      mean       std  min  25%  50%  75%  max\n",
       "inscrito_actual                                                      \n",
       "0.0               1591.0  0.000000  0.000000  0.0  0.0  0.0  0.0  0.0\n",
       "1.0              14250.0  0.662316  0.472937  0.0  0.0  1.0  1.0  1.0"
      ]
     },
     "metadata": {},
     "output_type": "display_data"
    },
    {
     "data": {
      "text/plain": [
       "'i_mental_h'"
      ]
     },
     "metadata": {},
     "output_type": "display_data"
    },
    {
     "data": {
      "text/html": [
       "<div>\n",
       "<style scoped>\n",
       "    .dataframe tbody tr th:only-of-type {\n",
       "        vertical-align: middle;\n",
       "    }\n",
       "\n",
       "    .dataframe tbody tr th {\n",
       "        vertical-align: top;\n",
       "    }\n",
       "\n",
       "    .dataframe thead th {\n",
       "        text-align: right;\n",
       "    }\n",
       "</style>\n",
       "<table border=\"1\" class=\"dataframe\">\n",
       "  <thead>\n",
       "    <tr style=\"text-align: right;\">\n",
       "      <th></th>\n",
       "      <th>count</th>\n",
       "      <th>mean</th>\n",
       "      <th>std</th>\n",
       "      <th>min</th>\n",
       "      <th>25%</th>\n",
       "      <th>50%</th>\n",
       "      <th>75%</th>\n",
       "      <th>max</th>\n",
       "    </tr>\n",
       "    <tr>\n",
       "      <th>inscrito_actual</th>\n",
       "      <th></th>\n",
       "      <th></th>\n",
       "      <th></th>\n",
       "      <th></th>\n",
       "      <th></th>\n",
       "      <th></th>\n",
       "      <th></th>\n",
       "      <th></th>\n",
       "    </tr>\n",
       "  </thead>\n",
       "  <tbody>\n",
       "    <tr>\n",
       "      <th>0.0</th>\n",
       "      <td>1591.0</td>\n",
       "      <td>0.000000</td>\n",
       "      <td>0.000000</td>\n",
       "      <td>0.0</td>\n",
       "      <td>0.0</td>\n",
       "      <td>0.0</td>\n",
       "      <td>0.0</td>\n",
       "      <td>0.0</td>\n",
       "    </tr>\n",
       "    <tr>\n",
       "      <th>1.0</th>\n",
       "      <td>14250.0</td>\n",
       "      <td>0.445614</td>\n",
       "      <td>0.497051</td>\n",
       "      <td>0.0</td>\n",
       "      <td>0.0</td>\n",
       "      <td>0.0</td>\n",
       "      <td>1.0</td>\n",
       "      <td>1.0</td>\n",
       "    </tr>\n",
       "  </tbody>\n",
       "</table>\n",
       "</div>"
      ],
      "text/plain": [
       "                   count      mean       std  min  25%  50%  75%  max\n",
       "inscrito_actual                                                      \n",
       "0.0               1591.0  0.000000  0.000000  0.0  0.0  0.0  0.0  0.0\n",
       "1.0              14250.0  0.445614  0.497051  0.0  0.0  0.0  1.0  1.0"
      ]
     },
     "metadata": {},
     "output_type": "display_data"
    },
    {
     "data": {
      "text/plain": [
       "'i_tec'"
      ]
     },
     "metadata": {},
     "output_type": "display_data"
    },
    {
     "data": {
      "text/html": [
       "<div>\n",
       "<style scoped>\n",
       "    .dataframe tbody tr th:only-of-type {\n",
       "        vertical-align: middle;\n",
       "    }\n",
       "\n",
       "    .dataframe tbody tr th {\n",
       "        vertical-align: top;\n",
       "    }\n",
       "\n",
       "    .dataframe thead th {\n",
       "        text-align: right;\n",
       "    }\n",
       "</style>\n",
       "<table border=\"1\" class=\"dataframe\">\n",
       "  <thead>\n",
       "    <tr style=\"text-align: right;\">\n",
       "      <th></th>\n",
       "      <th>count</th>\n",
       "      <th>mean</th>\n",
       "      <th>std</th>\n",
       "      <th>min</th>\n",
       "      <th>25%</th>\n",
       "      <th>50%</th>\n",
       "      <th>75%</th>\n",
       "      <th>max</th>\n",
       "    </tr>\n",
       "    <tr>\n",
       "      <th>inscrito_actual</th>\n",
       "      <th></th>\n",
       "      <th></th>\n",
       "      <th></th>\n",
       "      <th></th>\n",
       "      <th></th>\n",
       "      <th></th>\n",
       "      <th></th>\n",
       "      <th></th>\n",
       "    </tr>\n",
       "  </thead>\n",
       "  <tbody>\n",
       "    <tr>\n",
       "      <th>0.0</th>\n",
       "      <td>1591.0</td>\n",
       "      <td>0.291640</td>\n",
       "      <td>0.454661</td>\n",
       "      <td>0.0</td>\n",
       "      <td>0.0</td>\n",
       "      <td>0.0</td>\n",
       "      <td>1.0</td>\n",
       "      <td>1.0</td>\n",
       "    </tr>\n",
       "    <tr>\n",
       "      <th>1.0</th>\n",
       "      <td>14250.0</td>\n",
       "      <td>0.507439</td>\n",
       "      <td>0.499962</td>\n",
       "      <td>0.0</td>\n",
       "      <td>0.0</td>\n",
       "      <td>1.0</td>\n",
       "      <td>1.0</td>\n",
       "      <td>1.0</td>\n",
       "    </tr>\n",
       "  </tbody>\n",
       "</table>\n",
       "</div>"
      ],
      "text/plain": [
       "                   count      mean       std  min  25%  50%  75%  max\n",
       "inscrito_actual                                                      \n",
       "0.0               1591.0  0.291640  0.454661  0.0  0.0  0.0  1.0  1.0\n",
       "1.0              14250.0  0.507439  0.499962  0.0  0.0  1.0  1.0  1.0"
      ]
     },
     "metadata": {},
     "output_type": "display_data"
    },
    {
     "data": {
      "text/plain": [
       "'i_m_trad'"
      ]
     },
     "metadata": {},
     "output_type": "display_data"
    },
    {
     "data": {
      "text/html": [
       "<div>\n",
       "<style scoped>\n",
       "    .dataframe tbody tr th:only-of-type {\n",
       "        vertical-align: middle;\n",
       "    }\n",
       "\n",
       "    .dataframe tbody tr th {\n",
       "        vertical-align: top;\n",
       "    }\n",
       "\n",
       "    .dataframe thead th {\n",
       "        text-align: right;\n",
       "    }\n",
       "</style>\n",
       "<table border=\"1\" class=\"dataframe\">\n",
       "  <thead>\n",
       "    <tr style=\"text-align: right;\">\n",
       "      <th></th>\n",
       "      <th>count</th>\n",
       "      <th>mean</th>\n",
       "      <th>std</th>\n",
       "      <th>min</th>\n",
       "      <th>25%</th>\n",
       "      <th>50%</th>\n",
       "      <th>75%</th>\n",
       "      <th>max</th>\n",
       "    </tr>\n",
       "    <tr>\n",
       "      <th>inscrito_actual</th>\n",
       "      <th></th>\n",
       "      <th></th>\n",
       "      <th></th>\n",
       "      <th></th>\n",
       "      <th></th>\n",
       "      <th></th>\n",
       "      <th></th>\n",
       "      <th></th>\n",
       "    </tr>\n",
       "  </thead>\n",
       "  <tbody>\n",
       "    <tr>\n",
       "      <th>0.0</th>\n",
       "      <td>1591.0</td>\n",
       "      <td>0.00000</td>\n",
       "      <td>0.000000</td>\n",
       "      <td>0.0</td>\n",
       "      <td>0.0</td>\n",
       "      <td>0.0</td>\n",
       "      <td>0.0</td>\n",
       "      <td>0.0</td>\n",
       "    </tr>\n",
       "    <tr>\n",
       "      <th>1.0</th>\n",
       "      <td>14250.0</td>\n",
       "      <td>0.71986</td>\n",
       "      <td>0.449083</td>\n",
       "      <td>0.0</td>\n",
       "      <td>0.0</td>\n",
       "      <td>1.0</td>\n",
       "      <td>1.0</td>\n",
       "      <td>1.0</td>\n",
       "    </tr>\n",
       "  </tbody>\n",
       "</table>\n",
       "</div>"
      ],
      "text/plain": [
       "                   count     mean       std  min  25%  50%  75%  max\n",
       "inscrito_actual                                                     \n",
       "0.0               1591.0  0.00000  0.000000  0.0  0.0  0.0  0.0  0.0\n",
       "1.0              14250.0  0.71986  0.449083  0.0  0.0  1.0  1.0  1.0"
      ]
     },
     "metadata": {},
     "output_type": "display_data"
    },
    {
     "data": {
      "text/plain": [
       "'i_m_tech'"
      ]
     },
     "metadata": {},
     "output_type": "display_data"
    },
    {
     "data": {
      "text/html": [
       "<div>\n",
       "<style scoped>\n",
       "    .dataframe tbody tr th:only-of-type {\n",
       "        vertical-align: middle;\n",
       "    }\n",
       "\n",
       "    .dataframe tbody tr th {\n",
       "        vertical-align: top;\n",
       "    }\n",
       "\n",
       "    .dataframe thead th {\n",
       "        text-align: right;\n",
       "    }\n",
       "</style>\n",
       "<table border=\"1\" class=\"dataframe\">\n",
       "  <thead>\n",
       "    <tr style=\"text-align: right;\">\n",
       "      <th></th>\n",
       "      <th>count</th>\n",
       "      <th>mean</th>\n",
       "      <th>std</th>\n",
       "      <th>min</th>\n",
       "      <th>25%</th>\n",
       "      <th>50%</th>\n",
       "      <th>75%</th>\n",
       "      <th>max</th>\n",
       "    </tr>\n",
       "    <tr>\n",
       "      <th>inscrito_actual</th>\n",
       "      <th></th>\n",
       "      <th></th>\n",
       "      <th></th>\n",
       "      <th></th>\n",
       "      <th></th>\n",
       "      <th></th>\n",
       "      <th></th>\n",
       "      <th></th>\n",
       "    </tr>\n",
       "  </thead>\n",
       "  <tbody>\n",
       "    <tr>\n",
       "      <th>0.0</th>\n",
       "      <td>1591.0</td>\n",
       "      <td>0.000000</td>\n",
       "      <td>0.000000</td>\n",
       "      <td>0.0</td>\n",
       "      <td>0.0</td>\n",
       "      <td>0.0</td>\n",
       "      <td>0.0</td>\n",
       "      <td>0.0</td>\n",
       "    </tr>\n",
       "    <tr>\n",
       "      <th>1.0</th>\n",
       "      <td>14250.0</td>\n",
       "      <td>0.589474</td>\n",
       "      <td>0.398249</td>\n",
       "      <td>0.0</td>\n",
       "      <td>0.5</td>\n",
       "      <td>0.5</td>\n",
       "      <td>1.0</td>\n",
       "      <td>1.0</td>\n",
       "    </tr>\n",
       "  </tbody>\n",
       "</table>\n",
       "</div>"
      ],
      "text/plain": [
       "                   count      mean       std  min  25%  50%  75%  max\n",
       "inscrito_actual                                                      \n",
       "0.0               1591.0  0.000000  0.000000  0.0  0.0  0.0  0.0  0.0\n",
       "1.0              14250.0  0.589474  0.398249  0.0  0.5  0.5  1.0  1.0"
      ]
     },
     "metadata": {},
     "output_type": "display_data"
    },
    {
     "data": {
      "text/plain": [
       "'ev_trad'"
      ]
     },
     "metadata": {},
     "output_type": "display_data"
    },
    {
     "data": {
      "text/html": [
       "<div>\n",
       "<style scoped>\n",
       "    .dataframe tbody tr th:only-of-type {\n",
       "        vertical-align: middle;\n",
       "    }\n",
       "\n",
       "    .dataframe tbody tr th {\n",
       "        vertical-align: top;\n",
       "    }\n",
       "\n",
       "    .dataframe thead th {\n",
       "        text-align: right;\n",
       "    }\n",
       "</style>\n",
       "<table border=\"1\" class=\"dataframe\">\n",
       "  <thead>\n",
       "    <tr style=\"text-align: right;\">\n",
       "      <th></th>\n",
       "      <th>count</th>\n",
       "      <th>mean</th>\n",
       "      <th>std</th>\n",
       "      <th>min</th>\n",
       "      <th>25%</th>\n",
       "      <th>50%</th>\n",
       "      <th>75%</th>\n",
       "      <th>max</th>\n",
       "    </tr>\n",
       "    <tr>\n",
       "      <th>inscrito_actual</th>\n",
       "      <th></th>\n",
       "      <th></th>\n",
       "      <th></th>\n",
       "      <th></th>\n",
       "      <th></th>\n",
       "      <th></th>\n",
       "      <th></th>\n",
       "      <th></th>\n",
       "    </tr>\n",
       "  </thead>\n",
       "  <tbody>\n",
       "    <tr>\n",
       "      <th>0.0</th>\n",
       "      <td>1591.0</td>\n",
       "      <td>0.386549</td>\n",
       "      <td>0.487112</td>\n",
       "      <td>0.0</td>\n",
       "      <td>0.0</td>\n",
       "      <td>0.0</td>\n",
       "      <td>1.0</td>\n",
       "      <td>1.0</td>\n",
       "    </tr>\n",
       "    <tr>\n",
       "      <th>1.0</th>\n",
       "      <td>14250.0</td>\n",
       "      <td>0.907930</td>\n",
       "      <td>0.289135</td>\n",
       "      <td>0.0</td>\n",
       "      <td>1.0</td>\n",
       "      <td>1.0</td>\n",
       "      <td>1.0</td>\n",
       "      <td>1.0</td>\n",
       "    </tr>\n",
       "  </tbody>\n",
       "</table>\n",
       "</div>"
      ],
      "text/plain": [
       "                   count      mean       std  min  25%  50%  75%  max\n",
       "inscrito_actual                                                      \n",
       "0.0               1591.0  0.386549  0.487112  0.0  0.0  0.0  1.0  1.0\n",
       "1.0              14250.0  0.907930  0.289135  0.0  1.0  1.0  1.0  1.0"
      ]
     },
     "metadata": {},
     "output_type": "display_data"
    },
    {
     "data": {
      "text/plain": [
       "'ev_outro'"
      ]
     },
     "metadata": {},
     "output_type": "display_data"
    },
    {
     "data": {
      "text/html": [
       "<div>\n",
       "<style scoped>\n",
       "    .dataframe tbody tr th:only-of-type {\n",
       "        vertical-align: middle;\n",
       "    }\n",
       "\n",
       "    .dataframe tbody tr th {\n",
       "        vertical-align: top;\n",
       "    }\n",
       "\n",
       "    .dataframe thead th {\n",
       "        text-align: right;\n",
       "    }\n",
       "</style>\n",
       "<table border=\"1\" class=\"dataframe\">\n",
       "  <thead>\n",
       "    <tr style=\"text-align: right;\">\n",
       "      <th></th>\n",
       "      <th>count</th>\n",
       "      <th>mean</th>\n",
       "      <th>std</th>\n",
       "      <th>min</th>\n",
       "      <th>25%</th>\n",
       "      <th>50%</th>\n",
       "      <th>75%</th>\n",
       "      <th>max</th>\n",
       "    </tr>\n",
       "    <tr>\n",
       "      <th>inscrito_actual</th>\n",
       "      <th></th>\n",
       "      <th></th>\n",
       "      <th></th>\n",
       "      <th></th>\n",
       "      <th></th>\n",
       "      <th></th>\n",
       "      <th></th>\n",
       "      <th></th>\n",
       "    </tr>\n",
       "  </thead>\n",
       "  <tbody>\n",
       "    <tr>\n",
       "      <th>0.0</th>\n",
       "      <td>1591.0</td>\n",
       "      <td>0.231301</td>\n",
       "      <td>0.421797</td>\n",
       "      <td>0.0</td>\n",
       "      <td>0.0</td>\n",
       "      <td>0.0</td>\n",
       "      <td>0.0</td>\n",
       "      <td>1.0</td>\n",
       "    </tr>\n",
       "    <tr>\n",
       "      <th>1.0</th>\n",
       "      <td>14250.0</td>\n",
       "      <td>0.560000</td>\n",
       "      <td>0.496404</td>\n",
       "      <td>0.0</td>\n",
       "      <td>0.0</td>\n",
       "      <td>1.0</td>\n",
       "      <td>1.0</td>\n",
       "      <td>1.0</td>\n",
       "    </tr>\n",
       "  </tbody>\n",
       "</table>\n",
       "</div>"
      ],
      "text/plain": [
       "                   count      mean       std  min  25%  50%  75%  max\n",
       "inscrito_actual                                                      \n",
       "0.0               1591.0  0.231301  0.421797  0.0  0.0  0.0  0.0  1.0\n",
       "1.0              14250.0  0.560000  0.496404  0.0  0.0  1.0  1.0  1.0"
      ]
     },
     "metadata": {},
     "output_type": "display_data"
    },
    {
     "data": {
      "text/plain": [
       "'entr_cuidado'"
      ]
     },
     "metadata": {},
     "output_type": "display_data"
    },
    {
     "data": {
      "text/html": [
       "<div>\n",
       "<style scoped>\n",
       "    .dataframe tbody tr th:only-of-type {\n",
       "        vertical-align: middle;\n",
       "    }\n",
       "\n",
       "    .dataframe tbody tr th {\n",
       "        vertical-align: top;\n",
       "    }\n",
       "\n",
       "    .dataframe thead th {\n",
       "        text-align: right;\n",
       "    }\n",
       "</style>\n",
       "<table border=\"1\" class=\"dataframe\">\n",
       "  <thead>\n",
       "    <tr style=\"text-align: right;\">\n",
       "      <th></th>\n",
       "      <th>count</th>\n",
       "      <th>mean</th>\n",
       "      <th>std</th>\n",
       "      <th>min</th>\n",
       "      <th>25%</th>\n",
       "      <th>50%</th>\n",
       "      <th>75%</th>\n",
       "      <th>max</th>\n",
       "    </tr>\n",
       "    <tr>\n",
       "      <th>inscrito_actual</th>\n",
       "      <th></th>\n",
       "      <th></th>\n",
       "      <th></th>\n",
       "      <th></th>\n",
       "      <th></th>\n",
       "      <th></th>\n",
       "      <th></th>\n",
       "      <th></th>\n",
       "    </tr>\n",
       "  </thead>\n",
       "  <tbody>\n",
       "    <tr>\n",
       "      <th>0.0</th>\n",
       "      <td>1591.0</td>\n",
       "      <td>0.000000</td>\n",
       "      <td>0.00000</td>\n",
       "      <td>0.0</td>\n",
       "      <td>0.0</td>\n",
       "      <td>0.0</td>\n",
       "      <td>0.0</td>\n",
       "      <td>0.0</td>\n",
       "    </tr>\n",
       "    <tr>\n",
       "      <th>1.0</th>\n",
       "      <td>14250.0</td>\n",
       "      <td>0.634526</td>\n",
       "      <td>0.48158</td>\n",
       "      <td>0.0</td>\n",
       "      <td>0.0</td>\n",
       "      <td>1.0</td>\n",
       "      <td>1.0</td>\n",
       "      <td>1.0</td>\n",
       "    </tr>\n",
       "  </tbody>\n",
       "</table>\n",
       "</div>"
      ],
      "text/plain": [
       "                   count      mean      std  min  25%  50%  75%  max\n",
       "inscrito_actual                                                     \n",
       "0.0               1591.0  0.000000  0.00000  0.0  0.0  0.0  0.0  0.0\n",
       "1.0              14250.0  0.634526  0.48158  0.0  0.0  1.0  1.0  1.0"
      ]
     },
     "metadata": {},
     "output_type": "display_data"
    },
    {
     "data": {
      "text/plain": [
       "'apoio'"
      ]
     },
     "metadata": {},
     "output_type": "display_data"
    },
    {
     "data": {
      "text/html": [
       "<div>\n",
       "<style scoped>\n",
       "    .dataframe tbody tr th:only-of-type {\n",
       "        vertical-align: middle;\n",
       "    }\n",
       "\n",
       "    .dataframe tbody tr th {\n",
       "        vertical-align: top;\n",
       "    }\n",
       "\n",
       "    .dataframe thead th {\n",
       "        text-align: right;\n",
       "    }\n",
       "</style>\n",
       "<table border=\"1\" class=\"dataframe\">\n",
       "  <thead>\n",
       "    <tr style=\"text-align: right;\">\n",
       "      <th></th>\n",
       "      <th>count</th>\n",
       "      <th>mean</th>\n",
       "      <th>std</th>\n",
       "      <th>min</th>\n",
       "      <th>25%</th>\n",
       "      <th>50%</th>\n",
       "      <th>75%</th>\n",
       "      <th>max</th>\n",
       "    </tr>\n",
       "    <tr>\n",
       "      <th>inscrito_actual</th>\n",
       "      <th></th>\n",
       "      <th></th>\n",
       "      <th></th>\n",
       "      <th></th>\n",
       "      <th></th>\n",
       "      <th></th>\n",
       "      <th></th>\n",
       "      <th></th>\n",
       "    </tr>\n",
       "  </thead>\n",
       "  <tbody>\n",
       "    <tr>\n",
       "      <th>0.0</th>\n",
       "      <td>1591.0</td>\n",
       "      <td>0.000000</td>\n",
       "      <td>0.000000</td>\n",
       "      <td>0.0</td>\n",
       "      <td>0.0</td>\n",
       "      <td>0.0</td>\n",
       "      <td>0.0</td>\n",
       "      <td>0.0</td>\n",
       "    </tr>\n",
       "    <tr>\n",
       "      <th>1.0</th>\n",
       "      <td>14250.0</td>\n",
       "      <td>0.716982</td>\n",
       "      <td>0.450481</td>\n",
       "      <td>0.0</td>\n",
       "      <td>0.0</td>\n",
       "      <td>1.0</td>\n",
       "      <td>1.0</td>\n",
       "      <td>1.0</td>\n",
       "    </tr>\n",
       "  </tbody>\n",
       "</table>\n",
       "</div>"
      ],
      "text/plain": [
       "                   count      mean       std  min  25%  50%  75%  max\n",
       "inscrito_actual                                                      \n",
       "0.0               1591.0  0.000000  0.000000  0.0  0.0  0.0  0.0  0.0\n",
       "1.0              14250.0  0.716982  0.450481  0.0  0.0  1.0  1.0  1.0"
      ]
     },
     "metadata": {},
     "output_type": "display_data"
    },
    {
     "data": {
      "text/plain": [
       "'med_virtual'"
      ]
     },
     "metadata": {},
     "output_type": "display_data"
    },
    {
     "data": {
      "text/html": [
       "<div>\n",
       "<style scoped>\n",
       "    .dataframe tbody tr th:only-of-type {\n",
       "        vertical-align: middle;\n",
       "    }\n",
       "\n",
       "    .dataframe tbody tr th {\n",
       "        vertical-align: top;\n",
       "    }\n",
       "\n",
       "    .dataframe thead th {\n",
       "        text-align: right;\n",
       "    }\n",
       "</style>\n",
       "<table border=\"1\" class=\"dataframe\">\n",
       "  <thead>\n",
       "    <tr style=\"text-align: right;\">\n",
       "      <th></th>\n",
       "      <th>count</th>\n",
       "      <th>mean</th>\n",
       "      <th>std</th>\n",
       "      <th>min</th>\n",
       "      <th>25%</th>\n",
       "      <th>50%</th>\n",
       "      <th>75%</th>\n",
       "      <th>max</th>\n",
       "    </tr>\n",
       "    <tr>\n",
       "      <th>inscrito_actual</th>\n",
       "      <th></th>\n",
       "      <th></th>\n",
       "      <th></th>\n",
       "      <th></th>\n",
       "      <th></th>\n",
       "      <th></th>\n",
       "      <th></th>\n",
       "      <th></th>\n",
       "    </tr>\n",
       "  </thead>\n",
       "  <tbody>\n",
       "    <tr>\n",
       "      <th>0.0</th>\n",
       "      <td>1591.0</td>\n",
       "      <td>0.000000</td>\n",
       "      <td>0.00000</td>\n",
       "      <td>0.0</td>\n",
       "      <td>0.0</td>\n",
       "      <td>0.0</td>\n",
       "      <td>0.0</td>\n",
       "      <td>0.0</td>\n",
       "    </tr>\n",
       "    <tr>\n",
       "      <th>1.0</th>\n",
       "      <td>14250.0</td>\n",
       "      <td>0.857123</td>\n",
       "      <td>0.34996</td>\n",
       "      <td>0.0</td>\n",
       "      <td>1.0</td>\n",
       "      <td>1.0</td>\n",
       "      <td>1.0</td>\n",
       "      <td>1.0</td>\n",
       "    </tr>\n",
       "  </tbody>\n",
       "</table>\n",
       "</div>"
      ],
      "text/plain": [
       "                   count      mean      std  min  25%  50%  75%  max\n",
       "inscrito_actual                                                     \n",
       "0.0               1591.0  0.000000  0.00000  0.0  0.0  0.0  0.0  0.0\n",
       "1.0              14250.0  0.857123  0.34996  0.0  1.0  1.0  1.0  1.0"
      ]
     },
     "metadata": {},
     "output_type": "display_data"
    }
   ],
   "source": [
    "for i in df.columns:\n",
    "    table = df.groupby(\"inscrito_actual\")[i]\n",
    "    display(i)\n",
    "    display(table.describe())\n"
   ]
  },
  {
   "cell_type": "code",
   "execution_count": 80,
   "metadata": {},
   "outputs": [
    {
     "name": "stderr",
     "output_type": "stream",
     "text": [
      "C:\\Users\\Artur\\AppData\\Local\\Temp\\ipykernel_24108\\1769401013.py:14: FutureWarning:\n",
      "\n",
      "The default of observed=False is deprecated and will be changed to True in a future version of pandas. Pass observed=False to retain current behavior or observed=True to adopt the future default and silence this warning.\n",
      "\n"
     ]
    },
    {
     "data": {
      "text/html": [
       "<div>\n",
       "<style scoped>\n",
       "    .dataframe tbody tr th:only-of-type {\n",
       "        vertical-align: middle;\n",
       "    }\n",
       "\n",
       "    .dataframe tbody tr th {\n",
       "        vertical-align: top;\n",
       "    }\n",
       "\n",
       "    .dataframe thead th {\n",
       "        text-align: right;\n",
       "    }\n",
       "</style>\n",
       "<table border=\"1\" class=\"dataframe\">\n",
       "  <thead>\n",
       "    <tr style=\"text-align: right;\">\n",
       "      <th></th>\n",
       "      <th>faixa_etaria</th>\n",
       "      <th>inscrito_actual</th>\n",
       "    </tr>\n",
       "  </thead>\n",
       "  <tbody>\n",
       "    <tr>\n",
       "      <th>0</th>\n",
       "      <td>(5.988, 9.0]</td>\n",
       "      <td>98.386374</td>\n",
       "    </tr>\n",
       "    <tr>\n",
       "      <th>1</th>\n",
       "      <td>10–12 anos</td>\n",
       "      <td>97.613883</td>\n",
       "    </tr>\n",
       "    <tr>\n",
       "      <th>2</th>\n",
       "      <td>13–15 anos</td>\n",
       "      <td>91.382028</td>\n",
       "    </tr>\n",
       "    <tr>\n",
       "      <th>3</th>\n",
       "      <td>16–18 anos</td>\n",
       "      <td>71.608752</td>\n",
       "    </tr>\n",
       "  </tbody>\n",
       "</table>\n",
       "</div>"
      ],
      "text/plain": [
       "   faixa_etaria  inscrito_actual\n",
       "0  (5.988, 9.0]        98.386374\n",
       "1    10–12 anos        97.613883\n",
       "2    13–15 anos        91.382028\n",
       "3    16–18 anos        71.608752"
      ]
     },
     "metadata": {},
     "output_type": "display_data"
    },
    {
     "data": {
      "application/vnd.plotly.v1+json": {
       "config": {
        "plotlyServerURL": "https://plot.ly"
       },
       "data": [
        {
         "hovertemplate": "faixa_etaria=%{x}<br>inscrito_actual=%{marker.color}<extra></extra>",
         "legendgroup": "",
         "marker": {
          "color": {
           "bdata": "euFFWbqYWEDYZ1nbSWdYQEaIJSdz2FZAb75OyfXmUUA=",
           "dtype": "f8"
          },
          "coloraxis": "coloraxis",
          "pattern": {
           "shape": ""
          }
         },
         "name": "",
         "orientation": "v",
         "showlegend": false,
         "textposition": "auto",
         "type": "bar",
         "x": [
          "(5.988, 9.0]",
          "10–12 anos",
          "13–15 anos",
          "16–18 anos"
         ],
         "xaxis": "x",
         "y": {
          "bdata": "euFFWbqYWEDYZ1nbSWdYQEaIJSdz2FZAb75OyfXmUUA=",
          "dtype": "f8"
         },
         "yaxis": "y"
        }
       ],
       "layout": {
        "barmode": "relative",
        "coloraxis": {
         "colorbar": {
          "title": {
           "text": "% Inscritos"
          }
         },
         "colorscale": [
          [
           0,
           "rgb(103,0,13)"
          ],
          [
           0.125,
           "rgb(165,15,21)"
          ],
          [
           0.25,
           "rgb(203,24,29)"
          ],
          [
           0.375,
           "rgb(239,59,44)"
          ],
          [
           0.5,
           "rgb(251,106,74)"
          ],
          [
           0.625,
           "rgb(252,146,114)"
          ],
          [
           0.75,
           "rgb(252,187,161)"
          ],
          [
           0.875,
           "rgb(254,224,210)"
          ],
          [
           1,
           "rgb(255,245,240)"
          ]
         ]
        },
        "legend": {
         "tracegroupgap": 0
        },
        "template": {
         "data": {
          "bar": [
           {
            "error_x": {
             "color": "#2a3f5f"
            },
            "error_y": {
             "color": "#2a3f5f"
            },
            "marker": {
             "line": {
              "color": "#E5ECF6",
              "width": 0.5
             },
             "pattern": {
              "fillmode": "overlay",
              "size": 10,
              "solidity": 0.2
             }
            },
            "type": "bar"
           }
          ],
          "barpolar": [
           {
            "marker": {
             "line": {
              "color": "#E5ECF6",
              "width": 0.5
             },
             "pattern": {
              "fillmode": "overlay",
              "size": 10,
              "solidity": 0.2
             }
            },
            "type": "barpolar"
           }
          ],
          "carpet": [
           {
            "aaxis": {
             "endlinecolor": "#2a3f5f",
             "gridcolor": "white",
             "linecolor": "white",
             "minorgridcolor": "white",
             "startlinecolor": "#2a3f5f"
            },
            "baxis": {
             "endlinecolor": "#2a3f5f",
             "gridcolor": "white",
             "linecolor": "white",
             "minorgridcolor": "white",
             "startlinecolor": "#2a3f5f"
            },
            "type": "carpet"
           }
          ],
          "choropleth": [
           {
            "colorbar": {
             "outlinewidth": 0,
             "ticks": ""
            },
            "type": "choropleth"
           }
          ],
          "contour": [
           {
            "colorbar": {
             "outlinewidth": 0,
             "ticks": ""
            },
            "colorscale": [
             [
              0,
              "#0d0887"
             ],
             [
              0.1111111111111111,
              "#46039f"
             ],
             [
              0.2222222222222222,
              "#7201a8"
             ],
             [
              0.3333333333333333,
              "#9c179e"
             ],
             [
              0.4444444444444444,
              "#bd3786"
             ],
             [
              0.5555555555555556,
              "#d8576b"
             ],
             [
              0.6666666666666666,
              "#ed7953"
             ],
             [
              0.7777777777777778,
              "#fb9f3a"
             ],
             [
              0.8888888888888888,
              "#fdca26"
             ],
             [
              1,
              "#f0f921"
             ]
            ],
            "type": "contour"
           }
          ],
          "contourcarpet": [
           {
            "colorbar": {
             "outlinewidth": 0,
             "ticks": ""
            },
            "type": "contourcarpet"
           }
          ],
          "heatmap": [
           {
            "colorbar": {
             "outlinewidth": 0,
             "ticks": ""
            },
            "colorscale": [
             [
              0,
              "#0d0887"
             ],
             [
              0.1111111111111111,
              "#46039f"
             ],
             [
              0.2222222222222222,
              "#7201a8"
             ],
             [
              0.3333333333333333,
              "#9c179e"
             ],
             [
              0.4444444444444444,
              "#bd3786"
             ],
             [
              0.5555555555555556,
              "#d8576b"
             ],
             [
              0.6666666666666666,
              "#ed7953"
             ],
             [
              0.7777777777777778,
              "#fb9f3a"
             ],
             [
              0.8888888888888888,
              "#fdca26"
             ],
             [
              1,
              "#f0f921"
             ]
            ],
            "type": "heatmap"
           }
          ],
          "histogram": [
           {
            "marker": {
             "pattern": {
              "fillmode": "overlay",
              "size": 10,
              "solidity": 0.2
             }
            },
            "type": "histogram"
           }
          ],
          "histogram2d": [
           {
            "colorbar": {
             "outlinewidth": 0,
             "ticks": ""
            },
            "colorscale": [
             [
              0,
              "#0d0887"
             ],
             [
              0.1111111111111111,
              "#46039f"
             ],
             [
              0.2222222222222222,
              "#7201a8"
             ],
             [
              0.3333333333333333,
              "#9c179e"
             ],
             [
              0.4444444444444444,
              "#bd3786"
             ],
             [
              0.5555555555555556,
              "#d8576b"
             ],
             [
              0.6666666666666666,
              "#ed7953"
             ],
             [
              0.7777777777777778,
              "#fb9f3a"
             ],
             [
              0.8888888888888888,
              "#fdca26"
             ],
             [
              1,
              "#f0f921"
             ]
            ],
            "type": "histogram2d"
           }
          ],
          "histogram2dcontour": [
           {
            "colorbar": {
             "outlinewidth": 0,
             "ticks": ""
            },
            "colorscale": [
             [
              0,
              "#0d0887"
             ],
             [
              0.1111111111111111,
              "#46039f"
             ],
             [
              0.2222222222222222,
              "#7201a8"
             ],
             [
              0.3333333333333333,
              "#9c179e"
             ],
             [
              0.4444444444444444,
              "#bd3786"
             ],
             [
              0.5555555555555556,
              "#d8576b"
             ],
             [
              0.6666666666666666,
              "#ed7953"
             ],
             [
              0.7777777777777778,
              "#fb9f3a"
             ],
             [
              0.8888888888888888,
              "#fdca26"
             ],
             [
              1,
              "#f0f921"
             ]
            ],
            "type": "histogram2dcontour"
           }
          ],
          "mesh3d": [
           {
            "colorbar": {
             "outlinewidth": 0,
             "ticks": ""
            },
            "type": "mesh3d"
           }
          ],
          "parcoords": [
           {
            "line": {
             "colorbar": {
              "outlinewidth": 0,
              "ticks": ""
             }
            },
            "type": "parcoords"
           }
          ],
          "pie": [
           {
            "automargin": true,
            "type": "pie"
           }
          ],
          "scatter": [
           {
            "fillpattern": {
             "fillmode": "overlay",
             "size": 10,
             "solidity": 0.2
            },
            "type": "scatter"
           }
          ],
          "scatter3d": [
           {
            "line": {
             "colorbar": {
              "outlinewidth": 0,
              "ticks": ""
             }
            },
            "marker": {
             "colorbar": {
              "outlinewidth": 0,
              "ticks": ""
             }
            },
            "type": "scatter3d"
           }
          ],
          "scattercarpet": [
           {
            "marker": {
             "colorbar": {
              "outlinewidth": 0,
              "ticks": ""
             }
            },
            "type": "scattercarpet"
           }
          ],
          "scattergeo": [
           {
            "marker": {
             "colorbar": {
              "outlinewidth": 0,
              "ticks": ""
             }
            },
            "type": "scattergeo"
           }
          ],
          "scattergl": [
           {
            "marker": {
             "colorbar": {
              "outlinewidth": 0,
              "ticks": ""
             }
            },
            "type": "scattergl"
           }
          ],
          "scattermap": [
           {
            "marker": {
             "colorbar": {
              "outlinewidth": 0,
              "ticks": ""
             }
            },
            "type": "scattermap"
           }
          ],
          "scattermapbox": [
           {
            "marker": {
             "colorbar": {
              "outlinewidth": 0,
              "ticks": ""
             }
            },
            "type": "scattermapbox"
           }
          ],
          "scatterpolar": [
           {
            "marker": {
             "colorbar": {
              "outlinewidth": 0,
              "ticks": ""
             }
            },
            "type": "scatterpolar"
           }
          ],
          "scatterpolargl": [
           {
            "marker": {
             "colorbar": {
              "outlinewidth": 0,
              "ticks": ""
             }
            },
            "type": "scatterpolargl"
           }
          ],
          "scatterternary": [
           {
            "marker": {
             "colorbar": {
              "outlinewidth": 0,
              "ticks": ""
             }
            },
            "type": "scatterternary"
           }
          ],
          "surface": [
           {
            "colorbar": {
             "outlinewidth": 0,
             "ticks": ""
            },
            "colorscale": [
             [
              0,
              "#0d0887"
             ],
             [
              0.1111111111111111,
              "#46039f"
             ],
             [
              0.2222222222222222,
              "#7201a8"
             ],
             [
              0.3333333333333333,
              "#9c179e"
             ],
             [
              0.4444444444444444,
              "#bd3786"
             ],
             [
              0.5555555555555556,
              "#d8576b"
             ],
             [
              0.6666666666666666,
              "#ed7953"
             ],
             [
              0.7777777777777778,
              "#fb9f3a"
             ],
             [
              0.8888888888888888,
              "#fdca26"
             ],
             [
              1,
              "#f0f921"
             ]
            ],
            "type": "surface"
           }
          ],
          "table": [
           {
            "cells": {
             "fill": {
              "color": "#EBF0F8"
             },
             "line": {
              "color": "white"
             }
            },
            "header": {
             "fill": {
              "color": "#C8D4E3"
             },
             "line": {
              "color": "white"
             }
            },
            "type": "table"
           }
          ]
         },
         "layout": {
          "annotationdefaults": {
           "arrowcolor": "#2a3f5f",
           "arrowhead": 0,
           "arrowwidth": 1
          },
          "autotypenumbers": "strict",
          "coloraxis": {
           "colorbar": {
            "outlinewidth": 0,
            "ticks": ""
           }
          },
          "colorscale": {
           "diverging": [
            [
             0,
             "#8e0152"
            ],
            [
             0.1,
             "#c51b7d"
            ],
            [
             0.2,
             "#de77ae"
            ],
            [
             0.3,
             "#f1b6da"
            ],
            [
             0.4,
             "#fde0ef"
            ],
            [
             0.5,
             "#f7f7f7"
            ],
            [
             0.6,
             "#e6f5d0"
            ],
            [
             0.7,
             "#b8e186"
            ],
            [
             0.8,
             "#7fbc41"
            ],
            [
             0.9,
             "#4d9221"
            ],
            [
             1,
             "#276419"
            ]
           ],
           "sequential": [
            [
             0,
             "#0d0887"
            ],
            [
             0.1111111111111111,
             "#46039f"
            ],
            [
             0.2222222222222222,
             "#7201a8"
            ],
            [
             0.3333333333333333,
             "#9c179e"
            ],
            [
             0.4444444444444444,
             "#bd3786"
            ],
            [
             0.5555555555555556,
             "#d8576b"
            ],
            [
             0.6666666666666666,
             "#ed7953"
            ],
            [
             0.7777777777777778,
             "#fb9f3a"
            ],
            [
             0.8888888888888888,
             "#fdca26"
            ],
            [
             1,
             "#f0f921"
            ]
           ],
           "sequentialminus": [
            [
             0,
             "#0d0887"
            ],
            [
             0.1111111111111111,
             "#46039f"
            ],
            [
             0.2222222222222222,
             "#7201a8"
            ],
            [
             0.3333333333333333,
             "#9c179e"
            ],
            [
             0.4444444444444444,
             "#bd3786"
            ],
            [
             0.5555555555555556,
             "#d8576b"
            ],
            [
             0.6666666666666666,
             "#ed7953"
            ],
            [
             0.7777777777777778,
             "#fb9f3a"
            ],
            [
             0.8888888888888888,
             "#fdca26"
            ],
            [
             1,
             "#f0f921"
            ]
           ]
          },
          "colorway": [
           "#636efa",
           "#EF553B",
           "#00cc96",
           "#ab63fa",
           "#FFA15A",
           "#19d3f3",
           "#FF6692",
           "#B6E880",
           "#FF97FF",
           "#FECB52"
          ],
          "font": {
           "color": "#2a3f5f"
          },
          "geo": {
           "bgcolor": "white",
           "lakecolor": "white",
           "landcolor": "#E5ECF6",
           "showlakes": true,
           "showland": true,
           "subunitcolor": "white"
          },
          "hoverlabel": {
           "align": "left"
          },
          "hovermode": "closest",
          "mapbox": {
           "style": "light"
          },
          "paper_bgcolor": "white",
          "plot_bgcolor": "#E5ECF6",
          "polar": {
           "angularaxis": {
            "gridcolor": "white",
            "linecolor": "white",
            "ticks": ""
           },
           "bgcolor": "#E5ECF6",
           "radialaxis": {
            "gridcolor": "white",
            "linecolor": "white",
            "ticks": ""
           }
          },
          "scene": {
           "xaxis": {
            "backgroundcolor": "#E5ECF6",
            "gridcolor": "white",
            "gridwidth": 2,
            "linecolor": "white",
            "showbackground": true,
            "ticks": "",
            "zerolinecolor": "white"
           },
           "yaxis": {
            "backgroundcolor": "#E5ECF6",
            "gridcolor": "white",
            "gridwidth": 2,
            "linecolor": "white",
            "showbackground": true,
            "ticks": "",
            "zerolinecolor": "white"
           },
           "zaxis": {
            "backgroundcolor": "#E5ECF6",
            "gridcolor": "white",
            "gridwidth": 2,
            "linecolor": "white",
            "showbackground": true,
            "ticks": "",
            "zerolinecolor": "white"
           }
          },
          "shapedefaults": {
           "line": {
            "color": "#2a3f5f"
           }
          },
          "ternary": {
           "aaxis": {
            "gridcolor": "white",
            "linecolor": "white",
            "ticks": ""
           },
           "baxis": {
            "gridcolor": "white",
            "linecolor": "white",
            "ticks": ""
           },
           "bgcolor": "#E5ECF6",
           "caxis": {
            "gridcolor": "white",
            "linecolor": "white",
            "ticks": ""
           }
          },
          "title": {
           "x": 0.05
          },
          "xaxis": {
           "automargin": true,
           "gridcolor": "white",
           "linecolor": "white",
           "ticks": "",
           "title": {
            "standoff": 15
           },
           "zerolinecolor": "white",
           "zerolinewidth": 2
          },
          "yaxis": {
           "automargin": true,
           "gridcolor": "white",
           "linecolor": "white",
           "ticks": "",
           "title": {
            "standoff": 15
           },
           "zerolinecolor": "white",
           "zerolinewidth": 2
          }
         }
        },
        "title": {
         "text": "Taxa de evasão escolar em cada idade"
        },
        "xaxis": {
         "anchor": "y",
         "domain": [
          0,
          1
         ],
         "title": {
          "text": "faixa_etaria"
         }
        },
        "yaxis": {
         "anchor": "x",
         "domain": [
          0,
          1
         ],
         "title": {
          "text": "inscrito_actual"
         }
        }
       }
      }
     },
     "metadata": {},
     "output_type": "display_data"
    }
   ],
   "source": [
    "import plotly.express as px\n",
    "\n",
    "mapa_labels = {\n",
    "    \"(5.98, 9.0]\": \"6–9 anos\",\n",
    "    \"(9.0, 12.0]\": \"10–12 anos\",\n",
    "    \"(12.0, 15.0]\": \"13–15 anos\",\n",
    "    \"(15.0, 18.0]\": \"16–18 anos\"\n",
    "}\n",
    "\n",
    "\n",
    "df['faixa_etaria'] = pd.cut(df['EDAD'], 4 )\n",
    "\n",
    "\n",
    "idade = df[['faixa_etaria','inscrito_actual']].groupby('faixa_etaria').mean().reset_index()\n",
    "idade['inscrito_actual'] *= 100\n",
    "idade['faixa_etaria'] = idade['faixa_etaria'].astype(str)\n",
    "\n",
    "idade['faixa_etaria'] = idade['faixa_etaria'].replace(mapa_labels)\n",
    "display(idade)\n",
    "\n",
    "fig = px.bar(idade, x='faixa_etaria', \n",
    "             y='inscrito_actual', \n",
    "             color='inscrito_actual', \n",
    "             color_continuous_scale='Reds_r', \n",
    "\n",
    "             title = \"Taxa de evasão escolar em cada idade\")\n",
    "\n",
    "\n",
    "\n",
    "\n",
    "fig.update_coloraxes(colorbar_title='% Inscritos')\n",
    "fig.show()\n"
   ]
  }
 ],
 "metadata": {
  "kernelspec": {
   "display_name": ".venv",
   "language": "python",
   "name": "python3"
  },
  "language_info": {
   "codemirror_mode": {
    "name": "ipython",
    "version": 3
   },
   "file_extension": ".py",
   "mimetype": "text/x-python",
   "name": "python",
   "nbconvert_exporter": "python",
   "pygments_lexer": "ipython3",
   "version": "3.10.18"
  }
 },
 "nbformat": 4,
 "nbformat_minor": 2
}
