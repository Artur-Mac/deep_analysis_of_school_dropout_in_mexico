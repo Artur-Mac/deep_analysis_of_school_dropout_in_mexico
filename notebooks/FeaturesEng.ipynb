{
 "cells": [
  {
   "cell_type": "code",
   "execution_count": 44,
   "metadata": {},
   "outputs": [],
   "source": [
    "import pandas as pd"
   ]
  },
  {
   "cell_type": "code",
   "execution_count": 45,
   "metadata": {},
   "outputs": [
    {
     "data": {
      "text/html": [
       "<div>\n",
       "<style scoped>\n",
       "    .dataframe tbody tr th:only-of-type {\n",
       "        vertical-align: middle;\n",
       "    }\n",
       "\n",
       "    .dataframe tbody tr th {\n",
       "        vertical-align: top;\n",
       "    }\n",
       "\n",
       "    .dataframe thead th {\n",
       "        text-align: right;\n",
       "    }\n",
       "</style>\n",
       "<table border=\"1\" class=\"dataframe\">\n",
       "  <thead>\n",
       "    <tr style=\"text-align: right;\">\n",
       "      <th></th>\n",
       "      <th>FOLIO</th>\n",
       "      <th>SEXO</th>\n",
       "      <th>EDAD</th>\n",
       "      <th>edu_inicial</th>\n",
       "      <th>inscrito</th>\n",
       "      <th>nivel_edu</th>\n",
       "      <th>terminado</th>\n",
       "      <th>nt_causa</th>\n",
       "      <th>asesorias</th>\n",
       "      <th>extraord</th>\n",
       "      <th>...</th>\n",
       "      <th>tv_plana</th>\n",
       "      <th>tablet</th>\n",
       "      <th>smartphone</th>\n",
       "      <th>InternetF</th>\n",
       "      <th>sIF_causa</th>\n",
       "      <th>mejora_vida</th>\n",
       "      <th>mejora_trabajo</th>\n",
       "      <th>mejor_decisor</th>\n",
       "      <th>ENT</th>\n",
       "      <th>FACTOR_y</th>\n",
       "    </tr>\n",
       "  </thead>\n",
       "  <tbody>\n",
       "    <tr>\n",
       "      <th>0</th>\n",
       "      <td>2</td>\n",
       "      <td>1.0</td>\n",
       "      <td>13</td>\n",
       "      <td>NaN</td>\n",
       "      <td>1.0</td>\n",
       "      <td>3.0</td>\n",
       "      <td>1.0</td>\n",
       "      <td>0.0</td>\n",
       "      <td>0.0</td>\n",
       "      <td>NaN</td>\n",
       "      <td>...</td>\n",
       "      <td>1.0</td>\n",
       "      <td>1.0</td>\n",
       "      <td>1.0</td>\n",
       "      <td>1.0</td>\n",
       "      <td>0.0</td>\n",
       "      <td>2.0</td>\n",
       "      <td>2.0</td>\n",
       "      <td>2.0</td>\n",
       "      <td>24</td>\n",
       "      <td>809.0</td>\n",
       "    </tr>\n",
       "    <tr>\n",
       "      <th>1</th>\n",
       "      <td>7</td>\n",
       "      <td>0.0</td>\n",
       "      <td>8</td>\n",
       "      <td>NaN</td>\n",
       "      <td>1.0</td>\n",
       "      <td>3.0</td>\n",
       "      <td>1.0</td>\n",
       "      <td>0.0</td>\n",
       "      <td>0.0</td>\n",
       "      <td>NaN</td>\n",
       "      <td>...</td>\n",
       "      <td>1.0</td>\n",
       "      <td>0.0</td>\n",
       "      <td>1.0</td>\n",
       "      <td>1.0</td>\n",
       "      <td>0.0</td>\n",
       "      <td>1.0</td>\n",
       "      <td>1.0</td>\n",
       "      <td>-1.0</td>\n",
       "      <td>22</td>\n",
       "      <td>722.0</td>\n",
       "    </tr>\n",
       "    <tr>\n",
       "      <th>2</th>\n",
       "      <td>14</td>\n",
       "      <td>1.0</td>\n",
       "      <td>11</td>\n",
       "      <td>NaN</td>\n",
       "      <td>1.0</td>\n",
       "      <td>3.0</td>\n",
       "      <td>1.0</td>\n",
       "      <td>0.0</td>\n",
       "      <td>0.0</td>\n",
       "      <td>NaN</td>\n",
       "      <td>...</td>\n",
       "      <td>1.0</td>\n",
       "      <td>1.0</td>\n",
       "      <td>1.0</td>\n",
       "      <td>1.0</td>\n",
       "      <td>0.0</td>\n",
       "      <td>1.0</td>\n",
       "      <td>1.0</td>\n",
       "      <td>2.0</td>\n",
       "      <td>18</td>\n",
       "      <td>413.0</td>\n",
       "    </tr>\n",
       "    <tr>\n",
       "      <th>3</th>\n",
       "      <td>15</td>\n",
       "      <td>0.0</td>\n",
       "      <td>13</td>\n",
       "      <td>NaN</td>\n",
       "      <td>1.0</td>\n",
       "      <td>4.0</td>\n",
       "      <td>1.0</td>\n",
       "      <td>0.0</td>\n",
       "      <td>0.0</td>\n",
       "      <td>0.0</td>\n",
       "      <td>...</td>\n",
       "      <td>0.0</td>\n",
       "      <td>0.0</td>\n",
       "      <td>1.0</td>\n",
       "      <td>1.0</td>\n",
       "      <td>0.0</td>\n",
       "      <td>2.0</td>\n",
       "      <td>2.0</td>\n",
       "      <td>2.0</td>\n",
       "      <td>18</td>\n",
       "      <td>322.0</td>\n",
       "    </tr>\n",
       "    <tr>\n",
       "      <th>4</th>\n",
       "      <td>21</td>\n",
       "      <td>1.0</td>\n",
       "      <td>8</td>\n",
       "      <td>NaN</td>\n",
       "      <td>1.0</td>\n",
       "      <td>3.0</td>\n",
       "      <td>1.0</td>\n",
       "      <td>0.0</td>\n",
       "      <td>1.0</td>\n",
       "      <td>NaN</td>\n",
       "      <td>...</td>\n",
       "      <td>1.0</td>\n",
       "      <td>1.0</td>\n",
       "      <td>1.0</td>\n",
       "      <td>1.0</td>\n",
       "      <td>0.0</td>\n",
       "      <td>2.0</td>\n",
       "      <td>2.0</td>\n",
       "      <td>2.0</td>\n",
       "      <td>26</td>\n",
       "      <td>945.0</td>\n",
       "    </tr>\n",
       "    <tr>\n",
       "      <th>...</th>\n",
       "      <td>...</td>\n",
       "      <td>...</td>\n",
       "      <td>...</td>\n",
       "      <td>...</td>\n",
       "      <td>...</td>\n",
       "      <td>...</td>\n",
       "      <td>...</td>\n",
       "      <td>...</td>\n",
       "      <td>...</td>\n",
       "      <td>...</td>\n",
       "      <td>...</td>\n",
       "      <td>...</td>\n",
       "      <td>...</td>\n",
       "      <td>...</td>\n",
       "      <td>...</td>\n",
       "      <td>...</td>\n",
       "      <td>...</td>\n",
       "      <td>...</td>\n",
       "      <td>...</td>\n",
       "      <td>...</td>\n",
       "      <td>...</td>\n",
       "    </tr>\n",
       "    <tr>\n",
       "      <th>15836</th>\n",
       "      <td>22700</td>\n",
       "      <td>1.0</td>\n",
       "      <td>6</td>\n",
       "      <td>NaN</td>\n",
       "      <td>1.0</td>\n",
       "      <td>2.0</td>\n",
       "      <td>1.0</td>\n",
       "      <td>0.0</td>\n",
       "      <td>NaN</td>\n",
       "      <td>NaN</td>\n",
       "      <td>...</td>\n",
       "      <td>1.0</td>\n",
       "      <td>0.0</td>\n",
       "      <td>1.0</td>\n",
       "      <td>1.0</td>\n",
       "      <td>0.0</td>\n",
       "      <td>-1.0</td>\n",
       "      <td>1.0</td>\n",
       "      <td>-1.0</td>\n",
       "      <td>6</td>\n",
       "      <td>389.0</td>\n",
       "    </tr>\n",
       "    <tr>\n",
       "      <th>15837</th>\n",
       "      <td>22707</td>\n",
       "      <td>1.0</td>\n",
       "      <td>8</td>\n",
       "      <td>NaN</td>\n",
       "      <td>1.0</td>\n",
       "      <td>3.0</td>\n",
       "      <td>1.0</td>\n",
       "      <td>0.0</td>\n",
       "      <td>0.0</td>\n",
       "      <td>NaN</td>\n",
       "      <td>...</td>\n",
       "      <td>1.0</td>\n",
       "      <td>1.0</td>\n",
       "      <td>1.0</td>\n",
       "      <td>1.0</td>\n",
       "      <td>0.0</td>\n",
       "      <td>2.0</td>\n",
       "      <td>2.0</td>\n",
       "      <td>2.0</td>\n",
       "      <td>0</td>\n",
       "      <td>4449.0</td>\n",
       "    </tr>\n",
       "    <tr>\n",
       "      <th>15838</th>\n",
       "      <td>22712</td>\n",
       "      <td>1.0</td>\n",
       "      <td>18</td>\n",
       "      <td>NaN</td>\n",
       "      <td>1.0</td>\n",
       "      <td>6.0</td>\n",
       "      <td>1.0</td>\n",
       "      <td>0.0</td>\n",
       "      <td>1.0</td>\n",
       "      <td>0.0</td>\n",
       "      <td>...</td>\n",
       "      <td>1.0</td>\n",
       "      <td>1.0</td>\n",
       "      <td>1.0</td>\n",
       "      <td>1.0</td>\n",
       "      <td>0.0</td>\n",
       "      <td>2.0</td>\n",
       "      <td>2.0</td>\n",
       "      <td>2.0</td>\n",
       "      <td>16</td>\n",
       "      <td>937.0</td>\n",
       "    </tr>\n",
       "    <tr>\n",
       "      <th>15839</th>\n",
       "      <td>22714</td>\n",
       "      <td>0.0</td>\n",
       "      <td>15</td>\n",
       "      <td>NaN</td>\n",
       "      <td>1.0</td>\n",
       "      <td>4.0</td>\n",
       "      <td>1.0</td>\n",
       "      <td>0.0</td>\n",
       "      <td>0.0</td>\n",
       "      <td>0.0</td>\n",
       "      <td>...</td>\n",
       "      <td>1.0</td>\n",
       "      <td>0.0</td>\n",
       "      <td>1.0</td>\n",
       "      <td>1.0</td>\n",
       "      <td>0.0</td>\n",
       "      <td>2.0</td>\n",
       "      <td>2.0</td>\n",
       "      <td>2.0</td>\n",
       "      <td>21</td>\n",
       "      <td>2035.0</td>\n",
       "    </tr>\n",
       "    <tr>\n",
       "      <th>15840</th>\n",
       "      <td>22718</td>\n",
       "      <td>1.0</td>\n",
       "      <td>11</td>\n",
       "      <td>NaN</td>\n",
       "      <td>1.0</td>\n",
       "      <td>3.0</td>\n",
       "      <td>1.0</td>\n",
       "      <td>0.0</td>\n",
       "      <td>0.0</td>\n",
       "      <td>NaN</td>\n",
       "      <td>...</td>\n",
       "      <td>1.0</td>\n",
       "      <td>1.0</td>\n",
       "      <td>1.0</td>\n",
       "      <td>1.0</td>\n",
       "      <td>0.0</td>\n",
       "      <td>2.0</td>\n",
       "      <td>2.0</td>\n",
       "      <td>-1.0</td>\n",
       "      <td>28</td>\n",
       "      <td>2292.0</td>\n",
       "    </tr>\n",
       "  </tbody>\n",
       "</table>\n",
       "<p>15841 rows × 67 columns</p>\n",
       "</div>"
      ],
      "text/plain": [
       "       FOLIO  SEXO  EDAD  edu_inicial  inscrito  nivel_edu  terminado  \\\n",
       "0          2   1.0    13          NaN       1.0        3.0        1.0   \n",
       "1          7   0.0     8          NaN       1.0        3.0        1.0   \n",
       "2         14   1.0    11          NaN       1.0        3.0        1.0   \n",
       "3         15   0.0    13          NaN       1.0        4.0        1.0   \n",
       "4         21   1.0     8          NaN       1.0        3.0        1.0   \n",
       "...      ...   ...   ...          ...       ...        ...        ...   \n",
       "15836  22700   1.0     6          NaN       1.0        2.0        1.0   \n",
       "15837  22707   1.0     8          NaN       1.0        3.0        1.0   \n",
       "15838  22712   1.0    18          NaN       1.0        6.0        1.0   \n",
       "15839  22714   0.0    15          NaN       1.0        4.0        1.0   \n",
       "15840  22718   1.0    11          NaN       1.0        3.0        1.0   \n",
       "\n",
       "       nt_causa  asesorias  extraord  ...  tv_plana  tablet  smartphone  \\\n",
       "0           0.0        0.0       NaN  ...       1.0     1.0         1.0   \n",
       "1           0.0        0.0       NaN  ...       1.0     0.0         1.0   \n",
       "2           0.0        0.0       NaN  ...       1.0     1.0         1.0   \n",
       "3           0.0        0.0       0.0  ...       0.0     0.0         1.0   \n",
       "4           0.0        1.0       NaN  ...       1.0     1.0         1.0   \n",
       "...         ...        ...       ...  ...       ...     ...         ...   \n",
       "15836       0.0        NaN       NaN  ...       1.0     0.0         1.0   \n",
       "15837       0.0        0.0       NaN  ...       1.0     1.0         1.0   \n",
       "15838       0.0        1.0       0.0  ...       1.0     1.0         1.0   \n",
       "15839       0.0        0.0       0.0  ...       1.0     0.0         1.0   \n",
       "15840       0.0        0.0       NaN  ...       1.0     1.0         1.0   \n",
       "\n",
       "       InternetF  sIF_causa  mejora_vida  mejora_trabajo  mejor_decisor  ENT  \\\n",
       "0            1.0        0.0          2.0             2.0            2.0   24   \n",
       "1            1.0        0.0          1.0             1.0           -1.0   22   \n",
       "2            1.0        0.0          1.0             1.0            2.0   18   \n",
       "3            1.0        0.0          2.0             2.0            2.0   18   \n",
       "4            1.0        0.0          2.0             2.0            2.0   26   \n",
       "...          ...        ...          ...             ...            ...  ...   \n",
       "15836        1.0        0.0         -1.0             1.0           -1.0    6   \n",
       "15837        1.0        0.0          2.0             2.0            2.0    0   \n",
       "15838        1.0        0.0          2.0             2.0            2.0   16   \n",
       "15839        1.0        0.0          2.0             2.0            2.0   21   \n",
       "15840        1.0        0.0          2.0             2.0           -1.0   28   \n",
       "\n",
       "       FACTOR_y  \n",
       "0         809.0  \n",
       "1         722.0  \n",
       "2         413.0  \n",
       "3         322.0  \n",
       "4         945.0  \n",
       "...         ...  \n",
       "15836     389.0  \n",
       "15837    4449.0  \n",
       "15838     937.0  \n",
       "15839    2035.0  \n",
       "15840    2292.0  \n",
       "\n",
       "[15841 rows x 67 columns]"
      ]
     },
     "execution_count": 45,
     "metadata": {},
     "output_type": "execute_result"
    }
   ],
   "source": [
    "path = \"../data/processed/df_cleaned.csv\"\n",
    "df = pd.read_csv(path)\n",
    "df"
   ]
  },
  {
   "cell_type": "code",
   "execution_count": 46,
   "metadata": {},
   "outputs": [
    {
     "name": "stdout",
     "output_type": "stream",
     "text": [
      "-1.5 10.5\n",
      "383\n"
     ]
    },
    {
     "data": {
      "text/plain": [
       "count    15841.000000\n",
       "mean         0.629969\n",
       "std          0.421204\n",
       "min          0.000000\n",
       "25%          0.000000\n",
       "50%          0.666667\n",
       "75%          1.000000\n",
       "max          1.000000\n",
       "Name: i_confidence_edu, dtype: float64"
      ]
     },
     "execution_count": 46,
     "metadata": {},
     "output_type": "execute_result"
    }
   ],
   "source": [
    "columnsToMap = [\"mejora_vida\", \"mejora_trabajo\", \"mejor_decisor\"]\n",
    "\n",
    "def drop_columns(df, columns):\n",
    "    df = df.copy()\n",
    "    df.drop(columns=columns, inplace=True)\n",
    "    return df\n",
    "\n",
    "\n",
    "\n",
    "def count_outliers(df, column):\n",
    "    q1 = df[column].quantile(0.25)\n",
    "    q3 = df[column].quantile(0.75)\n",
    "    iqr = q3 - q1\n",
    "    li = q1 - 1.5 * iqr\n",
    "    ls = q3 + 1.5 * iqr\n",
    "    print(li, ls)\n",
    "    outliers = df[(df[column] < li) | (df[column] > ls)]\n",
    "    return len(outliers)\n",
    "\n",
    "\n",
    "\n",
    "def scale_0_1(column):\n",
    "    q1 = column.quantile(0.25)\n",
    "    q3 = column.quantile(0.75)\n",
    "    iqr = q3 - q1\n",
    "\n",
    "    scaled = (column - q1) / iqr\n",
    "    return scaled.clip(0, 1)\n",
    "\n",
    "df.loc[:, \"i_confidence_edu\"] = df[\"mejora_vida\"] + df[\"mejora_trabajo\"] + df[\"mejor_decisor\"]\n",
    "\n",
    "print(count_outliers(df, \"i_confidence_edu\"))\n",
    "\n",
    "df = drop_columns(df, columnsToMap)\n",
    "\n",
    "df.loc[:, \"i_confidence_edu\"] = scale_0_1(df[\"i_confidence_edu\"])\n",
    "\n",
    "\n",
    "df['i_confidence_edu'].describe()\n"
   ]
  },
  {
   "cell_type": "code",
   "execution_count": 47,
   "metadata": {},
   "outputs": [
    {
     "data": {
      "text/html": [
       "<div>\n",
       "<style scoped>\n",
       "    .dataframe tbody tr th:only-of-type {\n",
       "        vertical-align: middle;\n",
       "    }\n",
       "\n",
       "    .dataframe tbody tr th {\n",
       "        vertical-align: top;\n",
       "    }\n",
       "\n",
       "    .dataframe thead th {\n",
       "        text-align: right;\n",
       "    }\n",
       "</style>\n",
       "<table border=\"1\" class=\"dataframe\">\n",
       "  <thead>\n",
       "    <tr style=\"text-align: right;\">\n",
       "      <th></th>\n",
       "      <th>inscrito</th>\n",
       "      <th>inscrito_actual</th>\n",
       "      <th>quantidade</th>\n",
       "      <th>porcentagem</th>\n",
       "    </tr>\n",
       "  </thead>\n",
       "  <tbody>\n",
       "    <tr>\n",
       "      <th>0</th>\n",
       "      <td>0.0</td>\n",
       "      <td>0.0</td>\n",
       "      <td>804</td>\n",
       "      <td>5.075437</td>\n",
       "    </tr>\n",
       "    <tr>\n",
       "      <th>1</th>\n",
       "      <td>0.0</td>\n",
       "      <td>1.0</td>\n",
       "      <td>219</td>\n",
       "      <td>1.382488</td>\n",
       "    </tr>\n",
       "    <tr>\n",
       "      <th>2</th>\n",
       "      <td>1.0</td>\n",
       "      <td>0.0</td>\n",
       "      <td>787</td>\n",
       "      <td>4.968121</td>\n",
       "    </tr>\n",
       "    <tr>\n",
       "      <th>3</th>\n",
       "      <td>1.0</td>\n",
       "      <td>1.0</td>\n",
       "      <td>14031</td>\n",
       "      <td>88.573954</td>\n",
       "    </tr>\n",
       "  </tbody>\n",
       "</table>\n",
       "</div>"
      ],
      "text/plain": [
       "   inscrito  inscrito_actual  quantidade  porcentagem\n",
       "0       0.0              0.0         804     5.075437\n",
       "1       0.0              1.0         219     1.382488\n",
       "2       1.0              0.0         787     4.968121\n",
       "3       1.0              1.0       14031    88.573954"
      ]
     },
     "execution_count": 47,
     "metadata": {},
     "output_type": "execute_result"
    }
   ],
   "source": [
    "drops = df.groupby([\"inscrito\", \"inscrito_actual\"]).size().reset_index(name=\"quantidade\")\n",
    "\n",
    "drops[\"porcentagem\"] = (drops[\"quantidade\"] / drops[\"quantidade\"].sum()) * 100\n",
    "\n",
    "drops"
   ]
  },
  {
   "cell_type": "code",
   "execution_count": 48,
   "metadata": {},
   "outputs": [],
   "source": [
    "df = df.drop(columns=[\"FOLIO\", \"x<30\", \"q_personas\", \"edu_inicial\", \"ENT\", \"FOLIO\", \"sIF_causa\", \"ev_nula\"])"
   ]
  },
  {
   "cell_type": "code",
   "execution_count": 49,
   "metadata": {},
   "outputs": [
    {
     "name": "stdout",
     "output_type": "stream",
     "text": [
      "SEXO [1. 0.]\n",
      "\n",
      "EDAD [13  8 11 14  9 16 15 12 10 17  7 18  6]\n",
      "\n",
      "inscrito [1. 0.]\n",
      "\n",
      "nivel_edu [3. 4. 7. 6. 2. 0. 5. 9. 8.]\n",
      "\n",
      "terminado [ 1. nan  0.]\n",
      "\n",
      "nt_causa [ 0.  7.  4.  2.  3.  1.  6.  9. 14. 13. 10.  5. 11. 12.]\n",
      "\n",
      "asesorias [ 0.  1. nan]\n",
      "\n",
      "extraord [nan  0.  1.]\n",
      "\n",
      "recursado [nan  0.  1.]\n",
      "\n",
      "ev_tareas [ 1.  0. nan]\n",
      "\n",
      "ev_exam [ 1.  0. nan]\n",
      "\n",
      "ev_digital [ 0.  1. nan]\n",
      "\n",
      "ev_partcp [ 0.  1. nan]\n",
      "\n",
      "ev_libreta [ 1.  0. nan]\n",
      "\n",
      "ev_asist [ 0.  1. nan]\n",
      "\n",
      "ev_otro [ 0. nan  1.]\n",
      "\n",
      "inscrito_actual [1. 0.]\n",
      "\n",
      "nins_causa [ 0. 11.  3.  1.  8.  7. 12.  5. 15.  6.  4. 10. 13. 14.  2.]\n",
      "\n",
      "entr_diagnost [ 1.  0. nan]\n",
      "\n",
      "entr_induccion [ 0.  1. nan]\n",
      "\n",
      "entr_regulariz [ 0.  1. nan]\n",
      "\n",
      "m_impresos [ 1. nan  0.]\n",
      "\n",
      "m_pizarra [ 1.  0. nan]\n",
      "\n",
      "m_audio_vid [ 1.  0. nan]\n",
      "\n",
      "m_expos [ 1.  0. nan]\n",
      "\n",
      "m_otro [ 0. nan  1.]\n",
      "\n",
      "med_plataform [ 1.  0. nan]\n",
      "\n",
      "med_mail_RS [ 1.  0. nan]\n",
      "\n",
      "med_clases_v [ 1.  0. nan]\n",
      "\n",
      "med_presencial [ 0.  1. nan]\n",
      "\n",
      "t_smartphone [ 0.  1. nan]\n",
      "\n",
      "t_laptop [ 1.  0. nan]\n",
      "\n",
      "t_PC [ 0.  1. nan]\n",
      "\n",
      "t_tablet [ 0.  1. nan]\n",
      "\n",
      "t_TV [ 0. nan  1.]\n",
      "\n",
      "t_impresos [ 0.  1. nan]\n",
      "\n",
      "t_mama [ 1.  0. nan]\n",
      "\n",
      "t_papa [ 0.  1. nan]\n",
      "\n",
      "t_fam_mujer [ 0.  1. nan]\n",
      "\n",
      "t_fam_hombre [ 0.  1. nan]\n",
      "\n",
      "t_o_mujer [ 0. nan  1.]\n",
      "\n",
      "t_o_hombre [ 0. nan  1.]\n",
      "\n",
      "t_horas [ 0. 40.  5.  2.  7. 15. 10.  6. 12.  1.  3.  4. 20.  8. 14. 25. 18. 16.\n",
      " 30. 13. 32. 21. 24. 60. 36. 11. 48. 35. nan 28. 22. 45. 50. 56.]\n",
      "\n",
      "max_nivel_esp [7. 8. 2. 0. 5. 4. 6. 3. 1.]\n",
      "\n",
      "estres [ 1.  0. nan]\n",
      "\n",
      "depresion [ 0. nan  1.]\n",
      "\n",
      "desespero [ 0.  1. nan]\n",
      "\n",
      "antisocial [ 0.  1. nan]\n",
      "\n",
      "q_hombres [ 2  3  4  1  5  0  6  9 11  7  8 10 12]\n",
      "\n",
      "q_mujeres [ 2  4  3  1  5  6  7  0  8 12  9 10 11]\n",
      "\n",
      "pc [1. 0.]\n",
      "\n",
      "laptop [1. 0.]\n",
      "\n",
      "tv_plana [1. 0.]\n",
      "\n",
      "tablet [1. 0.]\n",
      "\n",
      "smartphone [1. 0.]\n",
      "\n",
      "InternetF [1. 0.]\n",
      "\n",
      "FACTOR_y [ 809.  722.  413. ... 5409. 2557. 2292.]\n",
      "\n",
      "i_confidence_edu [1.         0.         0.33333333 0.66666667]\n",
      "\n"
     ]
    }
   ],
   "source": [
    "for i in df.columns:\n",
    "    print(i,df[i].unique())\n",
    "    print()"
   ]
  },
  {
   "cell_type": "code",
   "execution_count": 50,
   "metadata": {},
   "outputs": [],
   "source": [
    "i_colunas = {    'i_t_tec': ['t_smartphone', 't_laptop', 't_PC', 't_tablet', 't_TV', 't_impresos'],\n",
    "    'i_mental_h': ['estres', 'depresion', 'desespero', 'antisocial'],\n",
    "    'i_tec': ['pc', 'laptop', 'tv_plana', 'tablet', 'smartphone'],\n",
    "    'i_m_trad': ['m_impresos', 'm_pizarra'],\n",
    "    'i_m_tech': ['m_audio_vid', 'm_expos', 'm_otro'],\n",
    "    \n",
    "}\n",
    "\n",
    "newbinarys = {\n",
    "    'ev_trad': ['ev_tareas', 'ev_exam'],\n",
    "    'ev_outro': ['ev_partcp', 'ev_libreta', 'ev_asist', 'ev_otro'],\n",
    "    'entr_cuidado': ['entr_diagnost', 'entr_induccion', 'entr_regulariz'],\n",
    "    'apoio': [\"t_mama\", \"t_papa\", \"t_fam_mujer\", \"t_fam_hombre\", \"t_o_mujer\", \"t_o_hombre\"],\n",
    "    'med_virtual':[\"med_mail_RS\", \"med_clases_v\", \"med_plataform\"]\n",
    "}\n",
    "\n",
    "for newcol, oldcols in i_colunas.items():\n",
    "    df[newcol] = scale_0_1(df[oldcols].sum(axis=1))\n",
    "    df.drop(columns=oldcols, inplace=True)\n",
    "\n",
    "for newcol, oldcols in newbinarys.items():\n",
    "    df[newcol] = df[oldcols].any(axis=1).astype(int)\n",
    "    df.drop(columns=oldcols, inplace=True)\n",
    "\n"
   ]
  },
  {
   "cell_type": "code",
   "execution_count": 51,
   "metadata": {},
   "outputs": [
    {
     "data": {
      "text/html": [
       "<div>\n",
       "<style scoped>\n",
       "    .dataframe tbody tr th:only-of-type {\n",
       "        vertical-align: middle;\n",
       "    }\n",
       "\n",
       "    .dataframe tbody tr th {\n",
       "        vertical-align: top;\n",
       "    }\n",
       "\n",
       "    .dataframe thead th {\n",
       "        text-align: right;\n",
       "    }\n",
       "</style>\n",
       "<table border=\"1\" class=\"dataframe\">\n",
       "  <thead>\n",
       "    <tr style=\"text-align: right;\">\n",
       "      <th></th>\n",
       "      <th>med_presencial</th>\n",
       "      <th>quantidade</th>\n",
       "      <th>porcentagem</th>\n",
       "    </tr>\n",
       "  </thead>\n",
       "  <tbody>\n",
       "    <tr>\n",
       "      <th>0</th>\n",
       "      <td>0.0</td>\n",
       "      <td>8315</td>\n",
       "      <td>58.395955</td>\n",
       "    </tr>\n",
       "    <tr>\n",
       "      <th>1</th>\n",
       "      <td>1.0</td>\n",
       "      <td>5924</td>\n",
       "      <td>41.604045</td>\n",
       "    </tr>\n",
       "  </tbody>\n",
       "</table>\n",
       "</div>"
      ],
      "text/plain": [
       "   med_presencial  quantidade  porcentagem\n",
       "0             0.0        8315    58.395955\n",
       "1             1.0        5924    41.604045"
      ]
     },
     "execution_count": 51,
     "metadata": {},
     "output_type": "execute_result"
    }
   ],
   "source": [
    "meds = (\n",
    "    df.groupby([\"med_presencial\"])\n",
    "    .size()\n",
    "    .reset_index(name=\"quantidade\")\n",
    ")\n",
    "\n",
    "meds[\"porcentagem\"] = (meds[\"quantidade\"] / meds[\"quantidade\"].sum()) * 100\n",
    "meds\n",
    "\n"
   ]
  },
  {
   "cell_type": "code",
   "execution_count": 52,
   "metadata": {},
   "outputs": [],
   "source": [
    "variable_types = {\n",
    "    'outAnal':[\n",
    "        'FACTOR_y',\n",
    "        \n",
    "        ],\n",
    "\n",
    "    'numeric_continuous': [\n",
    "        'EDAD',\n",
    "        't_horas',\n",
    "        'q_hombres',\n",
    "        'q_mujeres',\n",
    "        \n",
    "        'i_confidence_edu',\n",
    "        'i_t_tec',\n",
    "        'i_mental_h',\n",
    "        'i_tec',\n",
    "        'i_m_trad',\n",
    "        'i_m_tech',\n",
    "    ],\n",
    "\n",
    "    'binary': [\n",
    "        'InternetF',\n",
    "        'inscrito',\n",
    "        'inscrito_actual',\n",
    "        'ev_trad',\n",
    "        'ev_outro',\n",
    "        'entr_cuidado',\n",
    "        'apoio',\n",
    "        'ev_digital',\n",
    "        'med_virtual',\n",
    "        'med_presencial',\n",
    "        'asesorias',\n",
    "        'extraord',\n",
    "        'recursado',\n",
    "        'terminado'\n",
    "    ],\n",
    "\n",
    "    'categorical_encoded': [\n",
    "        'SEXO',\n",
    "        'nivel_edu',\n",
    "        'max_nivel_esp',\n",
    "        \n",
    "        'nt_causa',\n",
    "        'nins_causa',\n",
    "    ]\n",
    "}\n"
   ]
  },
  {
   "cell_type": "code",
   "execution_count": 59,
   "metadata": {},
   "outputs": [
    {
     "data": {
      "application/vnd.plotly.v1+json": {
       "config": {
        "plotlyServerURL": "https://plot.ly"
       },
       "data": [
        {
         "coloraxis": "coloraxis",
         "hovertemplate": "x: %{x}<br>y: %{y}<br>color: %{z}<extra></extra>",
         "name": "0",
         "texttemplate": "%{z:.4f}",
         "type": "heatmap",
         "x": [
          "InternetF",
          "inscrito",
          "inscrito_actual",
          "ev_trad",
          "ev_outro",
          "entr_cuidado",
          "apoio",
          "ev_digital",
          "med_virtual",
          "med_presencial",
          "asesorias",
          "extraord",
          "recursado",
          "terminado",
          "EDAD",
          "t_horas",
          "q_hombres",
          "q_mujeres",
          "i_confidence_edu",
          "i_t_tec",
          "i_mental_h",
          "i_tec",
          "i_m_trad",
          "i_m_tech"
         ],
         "xaxis": "x",
         "y": [
          "InternetF",
          "inscrito",
          "inscrito_actual",
          "ev_trad",
          "ev_outro",
          "entr_cuidado",
          "apoio",
          "ev_digital",
          "med_virtual",
          "med_presencial",
          "asesorias",
          "extraord",
          "recursado",
          "terminado",
          "EDAD",
          "t_horas",
          "q_hombres",
          "q_mujeres",
          "i_confidence_edu",
          "i_t_tec",
          "i_mental_h",
          "i_tec",
          "i_m_trad",
          "i_m_tech"
         ],
         "yaxis": "y",
         "z": {
          "bdata": "AAAAAAAA8D8JbKrEtxm9P3SgozUuncE/IXhOkEEZvz+u9t+WS7urP5QISD9c2LY/rM9Mpqwchr82bZoffdCxP84zzILhyMY/46nrC8Dktr+dQ4UXvuiRP3iUcQmO15G/tWF4vXzgcj+TTMXtutOmP8EhG4HycLM/qun65fTHmD/S6x6iIKGdv37sWBSqE52/iQY8Sdh7kr8SKKcOH2XLP3YpzXFhXaU/pHrsDGqy3z83cXERL6agP/avX/NmFcg/CWyqxLcZvT8AAAAAAADwP34reAzGLOM/ul6+j7B25D+kFFHW37/RP6hmP9N5rs4/t4mV+vXj0T8AAAAAAAD4f1qYKQAKvdc/giLYNCh0dL8AAAAAAAD4fwAAAAAAAPh/AAAAAAAA+H8AAAAAAAD4f8mLQQa9Jcy/tOjfowQwxj/PF9MFPYauv0K26hFhuW2/MO2vP3HklD/rUV/yN3/QPyTnD5rXeMU/tH1vMOwruj9ljonio9/RP/y1xiGl19A/dKCjNS6dwT9+K3gMxizjPwAAAAAAAPA/2rZpPC6I3D+cEfiHbVTJP6CG9CZQqdg/vs1NtdDS3D9JQTbWtXyVP0+BGm8cn+M/AAAAAAAA+H9Ax/OgYoGRv1UY1pFaw7O/pW3DKO8lsr8TWbhxQ9rTP9fDUF8egdW/PaQdhhix0T+i+kyEgf2qv2uFWsWBA2Y/AxJzAYtamj8EpdkPi/bZP4EU1SzxfdE/F7i6ULCcwD9f+bZRtPzcPySUvkk6Lts/IXhOkEEZvz+6Xr6PsHbkP9q2aTwuiNw/AAAAAAAA8D+OCBBwP0DIP3SB2/Qa0cs/xTX2UYuyxT/5lFhYr7OnvxjKn4La5tQ/xb8C95VMs7+CogC83kOmPxw2mSHTfaE/QjQ4yBC6kD9QHQw4CQPaP2QixSY8pKe/ndjyMSGSuz+8u5cluyanv33sZn02DWa/5CDPQFhVkT+VhhVTSJjOPxKGZ5nGHMI/WlrXdevluj9dEE7uiIrKP+o2Gq1p+9E/rvbflku7qz+kFFHW37/RP5wR+IdtVMk/jggQcD9AyD8AAAAAAADwP2Fj3OCIn70/cbegQqxuqz8ZvHhY8cPFP7DwpOD0xcI/15QH1cPinj+24EJ8InFiv6v1WoqGXpa/ZP7W9NmEnr8Fq/0sxA3CP+TbzQgWMYK/nI0+iwiknD8C+Jt4EKiYv4cIh6h6P5Q/NuZK/I30mj/9iEn8EE7JP9nh15oIibI/MhN0of5ipj9+VvLycri/P7r0OFlJkcg/lAhIP1zYtj+oZj/Tea7OP6CG9CZQqdg/dIHb9BrRyz9hY9zgiJ+9PwAAAAAAAPA/dGlE60Cfwz8inwRMhmu1P7zr9QAiH9M/QFyS5xS3fz9APNr8K1DAP9UXC53JEZk/FZzSt2RWkz/HqMHa/KO2PxisuNn0xau/l3sAvewRuD/Ma3OAfumxv9y0u8g8aYe/geYz4hjMiz/v0Ps9ggfRPz5Icbr25cg/zWhhZJZfuj9qh0qlHtfPPxXNX4eSp9U/rM9Mpqwchr+3iZX69ePRP77NTbXQ0tw/xTX2UYuyxT9xt6BCrG6rP3RpROtAn8M/AAAAAAAA8D+/TTJ2otOXv9RSz0xIhc8/T+txIA/Zoj/E6IZE0kxWv7zHYTXMC4S/zGt0ta9/mb97B7NwdjXAP6UJ4PVzD+W/NkHazbak4z9WpRqqbImRv6ikIQCxO5M/0rqr/eaGUj+fFgvjv2e8P5R+N73x5cA/re8rAEBwST+BjMZir4XQP8xtocSkRLU/Nm2aH33QsT8AAAAAAAD4f0lBNta1fJU/+ZRYWK+zp78ZvHhY8cPFPyKfBEyGa7U/v00ydqLTl78AAAAAAADwP/nBxlFuHqw/+2OqwxoesT8D/TQj8U+CP+sZXKlSZ5O/CNVWXoilW78AAAAAAAD4f+iBmraUO6U/fRQLElbpcj8cjzDu1xKnv/ZuY165zn2/O86h6laJlT/d6xPeR17CP+t4qIJsgIi/ZfXQQpDBrT8+gYpROnekP/1iqQQfisg/zjPMguHIxj9amCkACr3XP0+BGm8cn+M/GMqfgtrm1D+w8KTg9MXCP7zr9QAiH9M/1FLPTEiFzz/5wcZRbh6sPwAAAAAAAPA/8euB3PZZ3r9SngYZ2ZieP9boMhgZ1ae/z3cmf6Dtor9gY6IvKo7EPxhSvwsFLMC/rz6zqx/8xj+LbgN/M6Ctv5PcbWr554q/HZFpOOsRg79v0NiENt3YP3e9hsqR+NE/lx2w9HNZwz8Q/fP7ODLEP3wx/amP6tY/46nrC8Dktr+CItg0KHR0vwAAAAAAAPh/xb8C95VMs7/XlAfVw+KeP0BckucUt38/T+txIA/Zoj/7Y6rDGh6xP/Hrgdz2Wd6/AAAAAAAA8D8Q3sGVGyiXv+EqdHFVU0M/XEJzG93unL8LJR8Y4V51v+/qdv3Ky7O/QiHwvu9jqb+bTzRW4JCiP1VpBd/ca5M//Kce4cMdpj92yjB/MeebPzyVdL5TE8W/nyZOeNPvrL9a3th8OrHYPwyX/XAQTGK/nUOFF77okT8AAAAAAAD4f0DH86BigZG/gqIAvN5Dpj+24EJ8InFiv0A82vwrUMA/xOiGRNJMVr8D/TQj8U+CP1KeBhnZmJ4/EN7BlRsol78AAAAAAADwPwLfrz88IMo/pZsrksBYxD8AAAAAAAD4f79MM4T4NKY/ybLyuyDYgj+pUY0vHiV+v6T/DZjmnJC/pROndTJslD/Fk9A1Ao+DP9GMkg5ifpI/pYBat73ypT9YZw5osk1oP6VGDVipLqo/eJRxCY7Xkb8AAAAAAAD4f1UY1pFaw7O/HDaZIdN9oT+r9VqKhl6Wv9UXC53JEZk/vMdhNcwLhL/rGVypUmeTv9boMhgZ1ae/4Sp0cVVTQz8C368/PCDKPwAAAAAAAPA/ALnvW9PE2j8AAAAAAAD4f7btGIdnD7E/LTO57Tt9cD8TklCHeP2gP3LAVNAtk2O/pY+hghznkT/M3I1Q0QOhv+ehZP4zG34/xK+NQPtRnb94ZT/i/Gh/P8ELKY2IY5u/tWF4vXzgcj8AAAAAAAD4f6VtwyjvJbK/QjQ4yBC6kD9k/tb02YSevxWc0rdkVpM/zGt0ta9/mb8I1VZeiKVbv893Jn+g7aK/XEJzG93unL+lmyuSwFjEPwC571vTxNo/AAAAAAAA8D8AAAAAAAD4f9EXNyxRsq8/bpufxzgZmr/OEnBC+YSiPyjCFPJ/BXK/HFfvOAJieb89QIz1YSmYv92D7jUdYY4/qAl6+Ppki7+eSO69EBGKv7icyILk9pG/k0zF7brTpj8AAAAAAAD4fxNZuHFD2tM/UB0MOAkD2j8Fq/0sxA3CP8eowdr8o7Y/ewezcHY1wD8AAAAAAAD4f2Bjoi8qjsQ/CyUfGOFedb8AAAAAAAD4fwAAAAAAAPh/AAAAAAAA+H8AAAAAAADwP6sPviuw3Le/gIQMoVuvtD++LDfhEneUv/qq11YlNpY/msbqleBNV78AH9HKmZm5P85eN1nboaw/qbV0074WpT+svpcpQzG7P6lytocSCrs/wSEbgfJwsz/Ji0EGvSXMv9fDUF8egdW/ZCLFJjykp7/k280IFjGCvxisuNn0xau/pQng9XMP5b/ogZq2lDulPxhSvwsFLMC/7+p2/crLs7+/TDOE+DSmP7btGIdnD7E/0Rc3LFGyrz+rD74rsNy3vwAAAAAAAPA/8drC8n5d4L9+nrmsWJebv5xo47Dy56W/2sB0b6hocz86jUvmopykP6xRBI+wrpu/qiwKyc79sz+rJkTL7bnKv+sTy7ZYZrM/qun65fTHmD+06N+jBDDGPz2kHYYYsdE/ndjyMSGSuz+cjT6LCKScP5d7AL3sEbg/NkHazbak4z99FAsSVulyP68+s6sf/MY/QiHwvu9jqb/JsvK7INiCPy0zue07fXA/bpufxzgZmr+AhAyhW6+0P/HawvJ+XeC/AAAAAAAA8D947YY/HjaQv/e/TYxHthe/Y/x/ePCCgb8ve5m1w1axP0fQFC4iQr4/Ph6mXTy3kT+Hozm2Gl62P/k8Ee55T60/0useoiChnb/PF9MFPYauv6L6TISB/aq/vLuXJbsmp78C+Jt4EKiYv8xrc4B+6bG/VqUaqmyJkb8cjzDu1xKnv4tuA38zoK2/m080VuCQoj+pUY0vHiV+vxOSUId4/aA/zhJwQvmEoj++LDfhEneUv36euaxYl5u/eO2GPx42kL8AAAAAAADwP4js3XKfFKo/Gven8a0QkT+/CE8+weixv3Pc7CU4dbC/8lyJ0ZUzrb9s7uJfl8x8v8F++MgeYbG/fuxYFKoTnb9CtuoRYbltv2uFWsWBA2Y/fexmfTYNZr+HCIeoej+UP9y0u8g8aYe/qKQhALE7kz/2bmNeuc59v5PcbWr554q/VWkF39xrkz+k/w2Y5pyQv3LAVNAtk2O/KMIU8n8Fcr/6qtdWJTaWP5xo47Dy56W/979NjEe2F7+I7N1ynxSqPwAAAAAAAPA/bxA9CM5phz/WCtVrU/mQv4wqtOW8d0O/KReoydUvs78opo9gj6yXP7nSm3rWgJe/iQY8Sdh7kr8w7a8/ceSUPwMScwGLWpo/5CDPQFhVkT825kr8jfSaP4HmM+IYzIs/0rqr/eaGUj87zqHqVomVPx2RaTjrEYO//Kce4cMdpj+lE6d1MmyUP6WPoYIc55E/HFfvOAJieb+axuqV4E1Xv9rAdG+oaHM/Y/x/ePCCgb8a96fxrRCRP28QPQjOaYc/AAAAAAAA8D/dDEaW4oCGv2bfy6uovZ2/FnsB0ZuJpb8Om2gh6CqXPwpIPsQetHS/EiinDh9lyz/rUV/yN3/QPwSl2Q+L9tk/lYYVU0iYzj/9iEn8EE7JP+/Q+z2CB9E/nxYL479nvD/d6xPeR17CP2/Q2IQ23dg/dsowfzHnmz/Fk9A1Ao+DP8zcjVDRA6G/PUCM9WEpmL8AH9HKmZm5PzqNS+ainKQ/L3uZtcNWsT+/CE8+weixv9YK1WtT+ZC/3QxGluKAhr8AAAAAAADwPy7f/OXqlcQ/FDdU5hRSzj+Sxfqnta/OP6eDZbQwotg/dinNcWFdpT8k5w+a13jFP4EU1SzxfdE/EoZnmcYcwj/Z4deaCImyPz5Icbr25cg/lH43vfHlwD/reKiCbICIv3e9hsqR+NE/PJV0vlMTxb/RjJIOYn6SP+ehZP4zG34/3YPuNR1hjj/OXjdZ26GsP6xRBI+wrpu/R9AULiJCvj9z3OwlOHWwv4wqtOW8d0O/Zt/Lq6i9nb8u3/zl6pXEPwAAAAAAAPA/gsTmiNzenD/G/NMNkXeXP88YhnpcCsM/pHrsDGqy3z+0fW8w7Cu6Pxe4ulCwnMA/WlrXdevluj8yE3Sh/mKmP81oYWSWX7o/re8rAEBwST9l9dBCkMGtP5cdsPRzWcM/nyZOeNPvrL+lgFq3vfKlP8SvjUD7UZ2/qAl6+Ppki7+ptXTTvhalP6osCsnO/bM/Ph6mXTy3kT/yXInRlTOtvykXqMnVL7O/FnsB0ZuJpb8UN1TmFFLOP4LE5ojc3pw/AAAAAAAA8D8QeM1RlXGkP5w8LS5PCck/N3FxES+moD9ljonio9/RP1/5tlG0/Nw/XRBO7oiKyj9+VvLycri/P2qHSqUe188/gYzGYq+F0D8+gYpROnekPxD98/s4MsQ/Wt7YfDqx2D9YZw5osk1oP3hlP+L8aH8/nkjuvRARir+svpcpQzG7P6smRMvtucq/h6M5thpetj9s7uJfl8x8vyimj2CPrJc/DptoIegqlz+Sxfqnta/OP8b80w2Rd5c/EHjNUZVxpD8AAAAAAADwPyRqLk4vLNI/9q9f82YVyD/8tcYhpdfQPySUvkk6Lts/6jYarWn70T+69DhZSZHIPxXNX4eSp9U/zG2hxKREtT/9YqkEH4rIP3wx/amP6tY/DJf9cBBMYr+lRg1YqS6qP8ELKY2IY5u/uJzIguT2kb+pcraHEgq7P+sTy7ZYZrM/+TwR7nlPrT/BfvjIHmGxv7nSm3rWgJe/Ckg+xB60dL+ng2W0MKLYP88YhnpcCsM/nDwtLk8JyT8kai5OLyzSPwAAAAAAAPA/",
          "dtype": "f8",
          "shape": "24, 24"
         }
        }
       ],
       "layout": {
        "coloraxis": {
         "colorscale": [
          [
           0,
           "rgb(103,0,31)"
          ],
          [
           0.1,
           "rgb(178,24,43)"
          ],
          [
           0.2,
           "rgb(214,96,77)"
          ],
          [
           0.3,
           "rgb(244,165,130)"
          ],
          [
           0.4,
           "rgb(253,219,199)"
          ],
          [
           0.5,
           "rgb(247,247,247)"
          ],
          [
           0.6,
           "rgb(209,229,240)"
          ],
          [
           0.7,
           "rgb(146,197,222)"
          ],
          [
           0.8,
           "rgb(67,147,195)"
          ],
          [
           0.9,
           "rgb(33,102,172)"
          ],
          [
           1,
           "rgb(5,48,97)"
          ]
         ]
        },
        "height": 1000,
        "margin": {
         "b": 100,
         "l": 100,
         "r": 100,
         "t": 100
        },
        "template": {
         "data": {
          "bar": [
           {
            "error_x": {
             "color": "#2a3f5f"
            },
            "error_y": {
             "color": "#2a3f5f"
            },
            "marker": {
             "line": {
              "color": "#E5ECF6",
              "width": 0.5
             },
             "pattern": {
              "fillmode": "overlay",
              "size": 10,
              "solidity": 0.2
             }
            },
            "type": "bar"
           }
          ],
          "barpolar": [
           {
            "marker": {
             "line": {
              "color": "#E5ECF6",
              "width": 0.5
             },
             "pattern": {
              "fillmode": "overlay",
              "size": 10,
              "solidity": 0.2
             }
            },
            "type": "barpolar"
           }
          ],
          "carpet": [
           {
            "aaxis": {
             "endlinecolor": "#2a3f5f",
             "gridcolor": "white",
             "linecolor": "white",
             "minorgridcolor": "white",
             "startlinecolor": "#2a3f5f"
            },
            "baxis": {
             "endlinecolor": "#2a3f5f",
             "gridcolor": "white",
             "linecolor": "white",
             "minorgridcolor": "white",
             "startlinecolor": "#2a3f5f"
            },
            "type": "carpet"
           }
          ],
          "choropleth": [
           {
            "colorbar": {
             "outlinewidth": 0,
             "ticks": ""
            },
            "type": "choropleth"
           }
          ],
          "contour": [
           {
            "colorbar": {
             "outlinewidth": 0,
             "ticks": ""
            },
            "colorscale": [
             [
              0,
              "#0d0887"
             ],
             [
              0.1111111111111111,
              "#46039f"
             ],
             [
              0.2222222222222222,
              "#7201a8"
             ],
             [
              0.3333333333333333,
              "#9c179e"
             ],
             [
              0.4444444444444444,
              "#bd3786"
             ],
             [
              0.5555555555555556,
              "#d8576b"
             ],
             [
              0.6666666666666666,
              "#ed7953"
             ],
             [
              0.7777777777777778,
              "#fb9f3a"
             ],
             [
              0.8888888888888888,
              "#fdca26"
             ],
             [
              1,
              "#f0f921"
             ]
            ],
            "type": "contour"
           }
          ],
          "contourcarpet": [
           {
            "colorbar": {
             "outlinewidth": 0,
             "ticks": ""
            },
            "type": "contourcarpet"
           }
          ],
          "heatmap": [
           {
            "colorbar": {
             "outlinewidth": 0,
             "ticks": ""
            },
            "colorscale": [
             [
              0,
              "#0d0887"
             ],
             [
              0.1111111111111111,
              "#46039f"
             ],
             [
              0.2222222222222222,
              "#7201a8"
             ],
             [
              0.3333333333333333,
              "#9c179e"
             ],
             [
              0.4444444444444444,
              "#bd3786"
             ],
             [
              0.5555555555555556,
              "#d8576b"
             ],
             [
              0.6666666666666666,
              "#ed7953"
             ],
             [
              0.7777777777777778,
              "#fb9f3a"
             ],
             [
              0.8888888888888888,
              "#fdca26"
             ],
             [
              1,
              "#f0f921"
             ]
            ],
            "type": "heatmap"
           }
          ],
          "histogram": [
           {
            "marker": {
             "pattern": {
              "fillmode": "overlay",
              "size": 10,
              "solidity": 0.2
             }
            },
            "type": "histogram"
           }
          ],
          "histogram2d": [
           {
            "colorbar": {
             "outlinewidth": 0,
             "ticks": ""
            },
            "colorscale": [
             [
              0,
              "#0d0887"
             ],
             [
              0.1111111111111111,
              "#46039f"
             ],
             [
              0.2222222222222222,
              "#7201a8"
             ],
             [
              0.3333333333333333,
              "#9c179e"
             ],
             [
              0.4444444444444444,
              "#bd3786"
             ],
             [
              0.5555555555555556,
              "#d8576b"
             ],
             [
              0.6666666666666666,
              "#ed7953"
             ],
             [
              0.7777777777777778,
              "#fb9f3a"
             ],
             [
              0.8888888888888888,
              "#fdca26"
             ],
             [
              1,
              "#f0f921"
             ]
            ],
            "type": "histogram2d"
           }
          ],
          "histogram2dcontour": [
           {
            "colorbar": {
             "outlinewidth": 0,
             "ticks": ""
            },
            "colorscale": [
             [
              0,
              "#0d0887"
             ],
             [
              0.1111111111111111,
              "#46039f"
             ],
             [
              0.2222222222222222,
              "#7201a8"
             ],
             [
              0.3333333333333333,
              "#9c179e"
             ],
             [
              0.4444444444444444,
              "#bd3786"
             ],
             [
              0.5555555555555556,
              "#d8576b"
             ],
             [
              0.6666666666666666,
              "#ed7953"
             ],
             [
              0.7777777777777778,
              "#fb9f3a"
             ],
             [
              0.8888888888888888,
              "#fdca26"
             ],
             [
              1,
              "#f0f921"
             ]
            ],
            "type": "histogram2dcontour"
           }
          ],
          "mesh3d": [
           {
            "colorbar": {
             "outlinewidth": 0,
             "ticks": ""
            },
            "type": "mesh3d"
           }
          ],
          "parcoords": [
           {
            "line": {
             "colorbar": {
              "outlinewidth": 0,
              "ticks": ""
             }
            },
            "type": "parcoords"
           }
          ],
          "pie": [
           {
            "automargin": true,
            "type": "pie"
           }
          ],
          "scatter": [
           {
            "fillpattern": {
             "fillmode": "overlay",
             "size": 10,
             "solidity": 0.2
            },
            "type": "scatter"
           }
          ],
          "scatter3d": [
           {
            "line": {
             "colorbar": {
              "outlinewidth": 0,
              "ticks": ""
             }
            },
            "marker": {
             "colorbar": {
              "outlinewidth": 0,
              "ticks": ""
             }
            },
            "type": "scatter3d"
           }
          ],
          "scattercarpet": [
           {
            "marker": {
             "colorbar": {
              "outlinewidth": 0,
              "ticks": ""
             }
            },
            "type": "scattercarpet"
           }
          ],
          "scattergeo": [
           {
            "marker": {
             "colorbar": {
              "outlinewidth": 0,
              "ticks": ""
             }
            },
            "type": "scattergeo"
           }
          ],
          "scattergl": [
           {
            "marker": {
             "colorbar": {
              "outlinewidth": 0,
              "ticks": ""
             }
            },
            "type": "scattergl"
           }
          ],
          "scattermap": [
           {
            "marker": {
             "colorbar": {
              "outlinewidth": 0,
              "ticks": ""
             }
            },
            "type": "scattermap"
           }
          ],
          "scattermapbox": [
           {
            "marker": {
             "colorbar": {
              "outlinewidth": 0,
              "ticks": ""
             }
            },
            "type": "scattermapbox"
           }
          ],
          "scatterpolar": [
           {
            "marker": {
             "colorbar": {
              "outlinewidth": 0,
              "ticks": ""
             }
            },
            "type": "scatterpolar"
           }
          ],
          "scatterpolargl": [
           {
            "marker": {
             "colorbar": {
              "outlinewidth": 0,
              "ticks": ""
             }
            },
            "type": "scatterpolargl"
           }
          ],
          "scatterternary": [
           {
            "marker": {
             "colorbar": {
              "outlinewidth": 0,
              "ticks": ""
             }
            },
            "type": "scatterternary"
           }
          ],
          "surface": [
           {
            "colorbar": {
             "outlinewidth": 0,
             "ticks": ""
            },
            "colorscale": [
             [
              0,
              "#0d0887"
             ],
             [
              0.1111111111111111,
              "#46039f"
             ],
             [
              0.2222222222222222,
              "#7201a8"
             ],
             [
              0.3333333333333333,
              "#9c179e"
             ],
             [
              0.4444444444444444,
              "#bd3786"
             ],
             [
              0.5555555555555556,
              "#d8576b"
             ],
             [
              0.6666666666666666,
              "#ed7953"
             ],
             [
              0.7777777777777778,
              "#fb9f3a"
             ],
             [
              0.8888888888888888,
              "#fdca26"
             ],
             [
              1,
              "#f0f921"
             ]
            ],
            "type": "surface"
           }
          ],
          "table": [
           {
            "cells": {
             "fill": {
              "color": "#EBF0F8"
             },
             "line": {
              "color": "white"
             }
            },
            "header": {
             "fill": {
              "color": "#C8D4E3"
             },
             "line": {
              "color": "white"
             }
            },
            "type": "table"
           }
          ]
         },
         "layout": {
          "annotationdefaults": {
           "arrowcolor": "#2a3f5f",
           "arrowhead": 0,
           "arrowwidth": 1
          },
          "autotypenumbers": "strict",
          "coloraxis": {
           "colorbar": {
            "outlinewidth": 0,
            "ticks": ""
           }
          },
          "colorscale": {
           "diverging": [
            [
             0,
             "#8e0152"
            ],
            [
             0.1,
             "#c51b7d"
            ],
            [
             0.2,
             "#de77ae"
            ],
            [
             0.3,
             "#f1b6da"
            ],
            [
             0.4,
             "#fde0ef"
            ],
            [
             0.5,
             "#f7f7f7"
            ],
            [
             0.6,
             "#e6f5d0"
            ],
            [
             0.7,
             "#b8e186"
            ],
            [
             0.8,
             "#7fbc41"
            ],
            [
             0.9,
             "#4d9221"
            ],
            [
             1,
             "#276419"
            ]
           ],
           "sequential": [
            [
             0,
             "#0d0887"
            ],
            [
             0.1111111111111111,
             "#46039f"
            ],
            [
             0.2222222222222222,
             "#7201a8"
            ],
            [
             0.3333333333333333,
             "#9c179e"
            ],
            [
             0.4444444444444444,
             "#bd3786"
            ],
            [
             0.5555555555555556,
             "#d8576b"
            ],
            [
             0.6666666666666666,
             "#ed7953"
            ],
            [
             0.7777777777777778,
             "#fb9f3a"
            ],
            [
             0.8888888888888888,
             "#fdca26"
            ],
            [
             1,
             "#f0f921"
            ]
           ],
           "sequentialminus": [
            [
             0,
             "#0d0887"
            ],
            [
             0.1111111111111111,
             "#46039f"
            ],
            [
             0.2222222222222222,
             "#7201a8"
            ],
            [
             0.3333333333333333,
             "#9c179e"
            ],
            [
             0.4444444444444444,
             "#bd3786"
            ],
            [
             0.5555555555555556,
             "#d8576b"
            ],
            [
             0.6666666666666666,
             "#ed7953"
            ],
            [
             0.7777777777777778,
             "#fb9f3a"
            ],
            [
             0.8888888888888888,
             "#fdca26"
            ],
            [
             1,
             "#f0f921"
            ]
           ]
          },
          "colorway": [
           "#636efa",
           "#EF553B",
           "#00cc96",
           "#ab63fa",
           "#FFA15A",
           "#19d3f3",
           "#FF6692",
           "#B6E880",
           "#FF97FF",
           "#FECB52"
          ],
          "font": {
           "color": "#2a3f5f"
          },
          "geo": {
           "bgcolor": "white",
           "lakecolor": "white",
           "landcolor": "#E5ECF6",
           "showlakes": true,
           "showland": true,
           "subunitcolor": "white"
          },
          "hoverlabel": {
           "align": "left"
          },
          "hovermode": "closest",
          "mapbox": {
           "style": "light"
          },
          "paper_bgcolor": "white",
          "plot_bgcolor": "#E5ECF6",
          "polar": {
           "angularaxis": {
            "gridcolor": "white",
            "linecolor": "white",
            "ticks": ""
           },
           "bgcolor": "#E5ECF6",
           "radialaxis": {
            "gridcolor": "white",
            "linecolor": "white",
            "ticks": ""
           }
          },
          "scene": {
           "xaxis": {
            "backgroundcolor": "#E5ECF6",
            "gridcolor": "white",
            "gridwidth": 2,
            "linecolor": "white",
            "showbackground": true,
            "ticks": "",
            "zerolinecolor": "white"
           },
           "yaxis": {
            "backgroundcolor": "#E5ECF6",
            "gridcolor": "white",
            "gridwidth": 2,
            "linecolor": "white",
            "showbackground": true,
            "ticks": "",
            "zerolinecolor": "white"
           },
           "zaxis": {
            "backgroundcolor": "#E5ECF6",
            "gridcolor": "white",
            "gridwidth": 2,
            "linecolor": "white",
            "showbackground": true,
            "ticks": "",
            "zerolinecolor": "white"
           }
          },
          "shapedefaults": {
           "line": {
            "color": "#2a3f5f"
           }
          },
          "ternary": {
           "aaxis": {
            "gridcolor": "white",
            "linecolor": "white",
            "ticks": ""
           },
           "baxis": {
            "gridcolor": "white",
            "linecolor": "white",
            "ticks": ""
           },
           "bgcolor": "#E5ECF6",
           "caxis": {
            "gridcolor": "white",
            "linecolor": "white",
            "ticks": ""
           }
          },
          "title": {
           "x": 0.05
          },
          "xaxis": {
           "automargin": true,
           "gridcolor": "white",
           "linecolor": "white",
           "ticks": "",
           "title": {
            "standoff": 15
           },
           "zerolinecolor": "white",
           "zerolinewidth": 2
          },
          "yaxis": {
           "automargin": true,
           "gridcolor": "white",
           "linecolor": "white",
           "ticks": "",
           "title": {
            "standoff": 15
           },
           "zerolinecolor": "white",
           "zerolinewidth": 2
          }
         }
        },
        "title": {
         "text": "Matriz de Correlação"
        },
        "width": 1200,
        "xaxis": {
         "anchor": "y",
         "domain": [
          0,
          1
         ]
        },
        "yaxis": {
         "anchor": "x",
         "autorange": "reversed",
         "domain": [
          0,
          1
         ]
        }
       }
      }
     },
     "metadata": {},
     "output_type": "display_data"
    }
   ],
   "source": [
    "import plotly.express as px\n",
    "\n",
    "geralcorr = variable_types['binary'] + variable_types['numeric_continuous']\n",
    "\n",
    "\n",
    "corr = df[geralcorr].corr()\n",
    "\n",
    "\n",
    "fig = px.imshow(\n",
    "    corr,\n",
    "    text_auto='.4f',          \n",
    "    aspect='auto',            \n",
    "    title='Matriz de Correlação',\n",
    "    color_continuous_scale='RdBu'\n",
    ")\n",
    "\n",
    "fig.update_layout(\n",
    "    width=1200,\n",
    "    height=1000,\n",
    "    margin=dict(l=100, r=100, t=100, b=100),\n",
    ")\n",
    "\n",
    "fig.show()\n"
   ]
  },
  {
   "cell_type": "code",
   "execution_count": 58,
   "metadata": {},
   "outputs": [
    {
     "name": "stdout",
     "output_type": "stream",
     "text": [
      "inscrito_actual  inscrito\n",
      "1.0              1.0         14031\n",
      "0.0              0.0           804\n",
      "                 1.0           787\n",
      "1.0              0.0           219\n",
      "Name: count, dtype: int64\n",
      "0.5992155307334157\n"
     ]
    }
   ],
   "source": [
    "d = df[['inscrito_actual', 'inscrito']].value_counts()\n",
    "print(d)\n",
    "\n",
    "print(df['inscrito'].corr(df[\"inscrito_actual\"]))\n"
   ]
  },
  {
   "cell_type": "code",
   "execution_count": 54,
   "metadata": {},
   "outputs": [
    {
     "name": "stdout",
     "output_type": "stream",
     "text": [
      "   inscrito_actual  terminado  qtd_ponderada  relative_ponderada\n",
      "0              0.0        0.0       222707.0            0.806650\n",
      "1              0.0        1.0      1307181.0            4.734638\n",
      "2              1.0        0.0       134307.0            0.486463\n",
      "3              1.0        1.0     23496988.0           85.106608\n"
     ]
    }
   ],
   "source": [
    "weighted_group = df.groupby([\"inscrito_actual\", \"terminado\"])[\"FACTOR_y\"].sum().reset_index(name=\"qtd_ponderada\")\n",
    "\n",
    "tot_ponderado = df[\"FACTOR_y\"].sum()\n",
    "\n",
    "weighted_group[\"relative_ponderada\"] = (weighted_group[\"qtd_ponderada\"] / tot_ponderado) * 100\n",
    "\n",
    "print(weighted_group)"
   ]
  }
 ],
 "metadata": {
  "kernelspec": {
   "display_name": ".venv",
   "language": "python",
   "name": "python3"
  },
  "language_info": {
   "codemirror_mode": {
    "name": "ipython",
    "version": 3
   },
   "file_extension": ".py",
   "mimetype": "text/x-python",
   "name": "python",
   "nbconvert_exporter": "python",
   "pygments_lexer": "ipython3",
   "version": "3.10.18"
  }
 },
 "nbformat": 4,
 "nbformat_minor": 2
}
